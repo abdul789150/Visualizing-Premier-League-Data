{
 "cells": [
  {
   "cell_type": "markdown",
   "metadata": {},
   "source": [
    "# Premier League Football "
   ]
  },
  {
   "cell_type": "markdown",
   "metadata": {},
   "source": [
    "### Introduction\n",
    "\n",
    "The top-20 football clubs play in the English Premier League Football  (EPL) games. Some of the games played in the EPL are considered derbies. A derby can be understood as a game between two teams that share an intense rivalry (1). This rivalry can due many factors such as close geographical proximity of their home cities, historical factors, political factors and previous game outcomes. As result these games traditionally gain more attraction. For my python course-work I wanted to explore how derbies affect games played by the rival team in Premier League Football.\n",
    "\n",
    "The premise of this coursework is that it should allow us to compare the performance and level of aggression of teams in derby matches with performance of teams in non-derby matches. I hope to also add another perceptive of looking at this data from geographical location of these matches. The data would also examine whether the teams were playing as the away team or hosting the other team as home team.  "
   ]
  },
  {
   "cell_type": "code",
   "execution_count": 1,
   "metadata": {},
   "outputs": [],
   "source": [
    "import pandas as pd\n",
    "import matplotlib.pyplot as plt\n",
    "import os\n",
    "import csv\n",
    "import requests\n",
    "from bs4 import BeautifulSoup\n",
    "import re\n",
    "import seaborn as sb"
   ]
  },
  {
   "cell_type": "markdown",
   "metadata": {},
   "source": [
    "### Download Data "
   ]
  },
  {
   "cell_type": "markdown",
   "metadata": {},
   "source": [
    "#### Source: Kaggle"
   ]
  },
  {
   "cell_type": "markdown",
   "metadata": {},
   "source": [
    "I used two sources of data to create this report. I acquired English Premier League from Kaggel in a CSV file (2). The complete data set for the past 17 (2004-2019) years for English Premier League matches. This data set explores the match outcomes, goals, red/yellow cards and fouls etc. This data set also distinguishes the data from home team and away team perspective. I found this interesting as this can another factor for the influence on performance and match outcomes. The data on Kaggle was collected open-database without restriction of use. It is permissible to use this data-set and has open-source license. "
   ]
  },
  {
   "cell_type": "markdown",
   "metadata": {},
   "source": [
    "### Extract & Merge Data"
   ]
  },
  {
   "cell_type": "markdown",
   "metadata": {},
   "source": [
    "\n",
    "After preliminary exploration of  the data set, I found that the data for the years between was 2004- 2013 had missing values and less details available. I chose to concentrate on 2014 to 2019. I found this data sample of the data set to be more complete and has more information that I needed and fit for purpose for this project. The challenge at this point was to combine all the data from the different years in one collection. In order to join the data into one Data Frame, I created an empty data frame by the name of ‘all_years_data’. Second step was to using list comprehension, created a list of all the files in the folder. Then I looped through every file in creating a data frame using pandas, and then concatenated to the ‘all_years_data’ data frame.\n",
    "For simplicity,  I exported the concatenated ‘all_years_data’ data frame to a CSV file as ‘premeier_leauge_df’."
   ]
  },
  {
   "cell_type": "code",
   "execution_count": 2,
   "metadata": {},
   "outputs": [
    {
     "data": {
      "text/html": [
       "<div>\n",
       "<style scoped>\n",
       "    .dataframe tbody tr th:only-of-type {\n",
       "        vertical-align: middle;\n",
       "    }\n",
       "\n",
       "    .dataframe tbody tr th {\n",
       "        vertical-align: top;\n",
       "    }\n",
       "\n",
       "    .dataframe thead th {\n",
       "        text-align: right;\n",
       "    }\n",
       "</style>\n",
       "<table border=\"1\" class=\"dataframe\">\n",
       "  <thead>\n",
       "    <tr style=\"text-align: right;\">\n",
       "      <th></th>\n",
       "      <th>Div</th>\n",
       "      <th>Date</th>\n",
       "      <th>HomeTeam</th>\n",
       "      <th>AwayTeam</th>\n",
       "      <th>FTHG</th>\n",
       "      <th>FTAG</th>\n",
       "      <th>FTR</th>\n",
       "      <th>HTHG</th>\n",
       "      <th>HTAG</th>\n",
       "      <th>HTR</th>\n",
       "      <th>...</th>\n",
       "      <th>AvgC&lt;2.5</th>\n",
       "      <th>AHCh</th>\n",
       "      <th>B365CAHH</th>\n",
       "      <th>B365CAHA</th>\n",
       "      <th>PCAHH</th>\n",
       "      <th>PCAHA</th>\n",
       "      <th>MaxCAHH</th>\n",
       "      <th>MaxCAHA</th>\n",
       "      <th>AvgCAHH</th>\n",
       "      <th>AvgCAHA</th>\n",
       "    </tr>\n",
       "  </thead>\n",
       "  <tbody>\n",
       "    <tr>\n",
       "      <th>0</th>\n",
       "      <td>E0</td>\n",
       "      <td>16/08/14</td>\n",
       "      <td>Arsenal</td>\n",
       "      <td>Crystal Palace</td>\n",
       "      <td>2</td>\n",
       "      <td>1</td>\n",
       "      <td>H</td>\n",
       "      <td>1</td>\n",
       "      <td>1</td>\n",
       "      <td>D</td>\n",
       "      <td>...</td>\n",
       "      <td>NaN</td>\n",
       "      <td>NaN</td>\n",
       "      <td>NaN</td>\n",
       "      <td>NaN</td>\n",
       "      <td>NaN</td>\n",
       "      <td>NaN</td>\n",
       "      <td>NaN</td>\n",
       "      <td>NaN</td>\n",
       "      <td>NaN</td>\n",
       "      <td>NaN</td>\n",
       "    </tr>\n",
       "    <tr>\n",
       "      <th>1</th>\n",
       "      <td>E0</td>\n",
       "      <td>16/08/14</td>\n",
       "      <td>Leicester</td>\n",
       "      <td>Everton</td>\n",
       "      <td>2</td>\n",
       "      <td>2</td>\n",
       "      <td>D</td>\n",
       "      <td>1</td>\n",
       "      <td>2</td>\n",
       "      <td>A</td>\n",
       "      <td>...</td>\n",
       "      <td>NaN</td>\n",
       "      <td>NaN</td>\n",
       "      <td>NaN</td>\n",
       "      <td>NaN</td>\n",
       "      <td>NaN</td>\n",
       "      <td>NaN</td>\n",
       "      <td>NaN</td>\n",
       "      <td>NaN</td>\n",
       "      <td>NaN</td>\n",
       "      <td>NaN</td>\n",
       "    </tr>\n",
       "    <tr>\n",
       "      <th>2</th>\n",
       "      <td>E0</td>\n",
       "      <td>16/08/14</td>\n",
       "      <td>Man United</td>\n",
       "      <td>Swansea</td>\n",
       "      <td>1</td>\n",
       "      <td>2</td>\n",
       "      <td>A</td>\n",
       "      <td>0</td>\n",
       "      <td>1</td>\n",
       "      <td>A</td>\n",
       "      <td>...</td>\n",
       "      <td>NaN</td>\n",
       "      <td>NaN</td>\n",
       "      <td>NaN</td>\n",
       "      <td>NaN</td>\n",
       "      <td>NaN</td>\n",
       "      <td>NaN</td>\n",
       "      <td>NaN</td>\n",
       "      <td>NaN</td>\n",
       "      <td>NaN</td>\n",
       "      <td>NaN</td>\n",
       "    </tr>\n",
       "    <tr>\n",
       "      <th>3</th>\n",
       "      <td>E0</td>\n",
       "      <td>16/08/14</td>\n",
       "      <td>QPR</td>\n",
       "      <td>Hull</td>\n",
       "      <td>0</td>\n",
       "      <td>1</td>\n",
       "      <td>A</td>\n",
       "      <td>0</td>\n",
       "      <td>0</td>\n",
       "      <td>D</td>\n",
       "      <td>...</td>\n",
       "      <td>NaN</td>\n",
       "      <td>NaN</td>\n",
       "      <td>NaN</td>\n",
       "      <td>NaN</td>\n",
       "      <td>NaN</td>\n",
       "      <td>NaN</td>\n",
       "      <td>NaN</td>\n",
       "      <td>NaN</td>\n",
       "      <td>NaN</td>\n",
       "      <td>NaN</td>\n",
       "    </tr>\n",
       "    <tr>\n",
       "      <th>4</th>\n",
       "      <td>E0</td>\n",
       "      <td>16/08/14</td>\n",
       "      <td>Stoke</td>\n",
       "      <td>Aston Villa</td>\n",
       "      <td>0</td>\n",
       "      <td>1</td>\n",
       "      <td>A</td>\n",
       "      <td>0</td>\n",
       "      <td>0</td>\n",
       "      <td>D</td>\n",
       "      <td>...</td>\n",
       "      <td>NaN</td>\n",
       "      <td>NaN</td>\n",
       "      <td>NaN</td>\n",
       "      <td>NaN</td>\n",
       "      <td>NaN</td>\n",
       "      <td>NaN</td>\n",
       "      <td>NaN</td>\n",
       "      <td>NaN</td>\n",
       "      <td>NaN</td>\n",
       "      <td>NaN</td>\n",
       "    </tr>\n",
       "  </tbody>\n",
       "</table>\n",
       "<p>5 rows × 131 columns</p>\n",
       "</div>"
      ],
      "text/plain": [
       "  Div      Date    HomeTeam        AwayTeam  FTHG  FTAG FTR  HTHG  HTAG HTR  \\\n",
       "0  E0  16/08/14     Arsenal  Crystal Palace     2     1   H     1     1   D   \n",
       "1  E0  16/08/14   Leicester         Everton     2     2   D     1     2   A   \n",
       "2  E0  16/08/14  Man United         Swansea     1     2   A     0     1   A   \n",
       "3  E0  16/08/14         QPR            Hull     0     1   A     0     0   D   \n",
       "4  E0  16/08/14       Stoke     Aston Villa     0     1   A     0     0   D   \n",
       "\n",
       "   ... AvgC<2.5  AHCh  B365CAHH  B365CAHA  PCAHH  PCAHA  MaxCAHH  MaxCAHA  \\\n",
       "0  ...      NaN   NaN       NaN       NaN    NaN    NaN      NaN      NaN   \n",
       "1  ...      NaN   NaN       NaN       NaN    NaN    NaN      NaN      NaN   \n",
       "2  ...      NaN   NaN       NaN       NaN    NaN    NaN      NaN      NaN   \n",
       "3  ...      NaN   NaN       NaN       NaN    NaN    NaN      NaN      NaN   \n",
       "4  ...      NaN   NaN       NaN       NaN    NaN    NaN      NaN      NaN   \n",
       "\n",
       "   AvgCAHH  AvgCAHA  \n",
       "0      NaN      NaN  \n",
       "1      NaN      NaN  \n",
       "2      NaN      NaN  \n",
       "3      NaN      NaN  \n",
       "4      NaN      NaN  \n",
       "\n",
       "[5 rows x 131 columns]"
      ]
     },
     "execution_count": 2,
     "metadata": {},
     "output_type": "execute_result"
    }
   ],
   "source": [
    "# initilise an empty DataFrame so that we can add each csv to it.\n",
    "all_years_data = pd.DataFrame()\n",
    "\n",
    "# get a list of all files in the folder.\n",
    "files = [file for file in os.listdir('premier_league_data')]\n",
    "\n",
    "# loop through each file, create a DF and then append it to the all_years_data DF by using concat function\n",
    "for file in files:\n",
    "    \n",
    "    year = file[0:4]\n",
    "    \n",
    "    df = pd.read_csv(f\"premier_league_data/{file}\")\n",
    "    \n",
    "    df['Year'] = year\n",
    "    \n",
    "    all_years_data = pd.concat([all_years_data, df])\n",
    "    \n",
    "# save that DF to a new CSV    \n",
    "all_years_data.to_csv(\"all_data.csv\", index=False)\n",
    "\n",
    "# Extract the new CSV file and store into a DataFrame\n",
    "\n",
    "premier_league_df = pd.read_csv(\"all_data.csv\")\n",
    "\n",
    "premier_league_df.head()"
   ]
  },
  {
   "cell_type": "markdown",
   "metadata": {},
   "source": [
    "### Inspect Data"
   ]
  },
  {
   "cell_type": "markdown",
   "metadata": {},
   "source": [
    "I used info method from the pandas library to get some summary information regarding the data frame including column names, and data type and also used the describe from the pandas method to view the data-frame in an easy to read format. Both of these methods are rather useful and easy to use, providing  good over-view of the structure of that data. "
   ]
  },
  {
   "cell_type": "code",
   "execution_count": 3,
   "metadata": {},
   "outputs": [
    {
     "name": "stdout",
     "output_type": "stream",
     "text": [
      "<class 'pandas.core.frame.DataFrame'>\n",
      "RangeIndex: 1940 entries, 0 to 1939\n",
      "Data columns (total 131 columns):\n",
      " #   Column     Non-Null Count  Dtype  \n",
      "---  ------     --------------  -----  \n",
      " 0   Div        1940 non-null   object \n",
      " 1   Date       1940 non-null   object \n",
      " 2   HomeTeam   1940 non-null   object \n",
      " 3   AwayTeam   1940 non-null   object \n",
      " 4   FTHG       1940 non-null   int64  \n",
      " 5   FTAG       1940 non-null   int64  \n",
      " 6   FTR        1940 non-null   object \n",
      " 7   HTHG       1940 non-null   int64  \n",
      " 8   HTAG       1940 non-null   int64  \n",
      " 9   HTR        1940 non-null   object \n",
      " 10  Referee    1940 non-null   object \n",
      " 11  HS         1940 non-null   int64  \n",
      " 12  AS         1940 non-null   int64  \n",
      " 13  HST        1940 non-null   int64  \n",
      " 14  AST        1940 non-null   int64  \n",
      " 15  HF         1940 non-null   int64  \n",
      " 16  AF         1940 non-null   int64  \n",
      " 17  HC         1940 non-null   int64  \n",
      " 18  AC         1940 non-null   int64  \n",
      " 19  HY         1940 non-null   int64  \n",
      " 20  AY         1940 non-null   int64  \n",
      " 21  HR         1940 non-null   int64  \n",
      " 22  AR         1940 non-null   int64  \n",
      " 23  B365H      1940 non-null   float64\n",
      " 24  B365D      1940 non-null   float64\n",
      " 25  B365A      1940 non-null   float64\n",
      " 26  BWH        1939 non-null   float64\n",
      " 27  BWD        1939 non-null   float64\n",
      " 28  BWA        1939 non-null   float64\n",
      " 29  IWH        1939 non-null   float64\n",
      " 30  IWD        1939 non-null   float64\n",
      " 31  IWA        1939 non-null   float64\n",
      " 32  LBH        1520 non-null   float64\n",
      " 33  LBD        1520 non-null   float64\n",
      " 34  LBA        1520 non-null   float64\n",
      " 35  PSH        1939 non-null   float64\n",
      " 36  PSD        1939 non-null   float64\n",
      " 37  PSA        1939 non-null   float64\n",
      " 38  WHH        1940 non-null   float64\n",
      " 39  WHD        1940 non-null   float64\n",
      " 40  WHA        1940 non-null   float64\n",
      " 41  SJH        40 non-null     float64\n",
      " 42  SJD        40 non-null     float64\n",
      " 43  SJA        40 non-null     float64\n",
      " 44  VCH        1940 non-null   float64\n",
      " 45  VCD        1940 non-null   float64\n",
      " 46  VCA        1940 non-null   float64\n",
      " 47  Bb1X2      1680 non-null   float64\n",
      " 48  BbMxH      1680 non-null   float64\n",
      " 49  BbAvH      1680 non-null   float64\n",
      " 50  BbMxD      1680 non-null   float64\n",
      " 51  BbAvD      1680 non-null   float64\n",
      " 52  BbMxA      1680 non-null   float64\n",
      " 53  BbAvA      1680 non-null   float64\n",
      " 54  BbOU       1680 non-null   float64\n",
      " 55  BbMx>2.5   1680 non-null   float64\n",
      " 56  BbAv>2.5   1680 non-null   float64\n",
      " 57  BbMx<2.5   1680 non-null   float64\n",
      " 58  BbAv<2.5   1680 non-null   float64\n",
      " 59  BbAH       1680 non-null   float64\n",
      " 60  BbAHh      1680 non-null   float64\n",
      " 61  BbMxAHH    1680 non-null   float64\n",
      " 62  BbAvAHH    1680 non-null   float64\n",
      " 63  BbMxAHA    1680 non-null   float64\n",
      " 64  BbAvAHA    1680 non-null   float64\n",
      " 65  Year       1940 non-null   int64  \n",
      " 66  PSCH       1180 non-null   float64\n",
      " 67  PSCD       1180 non-null   float64\n",
      " 68  PSCA       1180 non-null   float64\n",
      " 69  Time       260 non-null    object \n",
      " 70  MaxH       260 non-null    float64\n",
      " 71  MaxD       260 non-null    float64\n",
      " 72  MaxA       260 non-null    float64\n",
      " 73  AvgH       260 non-null    float64\n",
      " 74  AvgD       260 non-null    float64\n",
      " 75  AvgA       260 non-null    float64\n",
      " 76  B365>2.5   260 non-null    float64\n",
      " 77  B365<2.5   260 non-null    float64\n",
      " 78  P>2.5      260 non-null    float64\n",
      " 79  P<2.5      260 non-null    float64\n",
      " 80  Max>2.5    260 non-null    float64\n",
      " 81  Max<2.5    260 non-null    float64\n",
      " 82  Avg>2.5    260 non-null    float64\n",
      " 83  Avg<2.5    260 non-null    float64\n",
      " 84  AHh        260 non-null    float64\n",
      " 85  B365AHH    260 non-null    float64\n",
      " 86  B365AHA    260 non-null    float64\n",
      " 87  PAHH       260 non-null    float64\n",
      " 88  PAHA       260 non-null    float64\n",
      " 89  MaxAHH     260 non-null    float64\n",
      " 90  MaxAHA     260 non-null    float64\n",
      " 91  AvgAHH     260 non-null    float64\n",
      " 92  AvgAHA     260 non-null    float64\n",
      " 93  B365CH     260 non-null    float64\n",
      " 94  B365CD     260 non-null    float64\n",
      " 95  B365CA     260 non-null    float64\n",
      " 96  BWCH       260 non-null    float64\n",
      " 97  BWCD       260 non-null    float64\n",
      " 98  BWCA       260 non-null    float64\n",
      " 99  IWCH       260 non-null    float64\n",
      " 100 IWCD       260 non-null    float64\n",
      " 101 IWCA       260 non-null    float64\n",
      " 102 WHCH       260 non-null    float64\n",
      " 103 WHCD       260 non-null    float64\n",
      " 104 WHCA       260 non-null    float64\n",
      " 105 VCCH       260 non-null    float64\n",
      " 106 VCCD       260 non-null    float64\n",
      " 107 VCCA       260 non-null    float64\n",
      " 108 MaxCH      260 non-null    float64\n",
      " 109 MaxCD      260 non-null    float64\n",
      " 110 MaxCA      260 non-null    float64\n",
      " 111 AvgCH      260 non-null    float64\n",
      " 112 AvgCD      260 non-null    float64\n",
      " 113 AvgCA      260 non-null    float64\n",
      " 114 B365C>2.5  260 non-null    float64\n",
      " 115 B365C<2.5  260 non-null    float64\n",
      " 116 PC>2.5     260 non-null    float64\n",
      " 117 PC<2.5     260 non-null    float64\n",
      " 118 MaxC>2.5   260 non-null    float64\n",
      " 119 MaxC<2.5   260 non-null    float64\n",
      " 120 AvgC>2.5   260 non-null    float64\n",
      " 121 AvgC<2.5   260 non-null    float64\n",
      " 122 AHCh       260 non-null    float64\n",
      " 123 B365CAHH   260 non-null    float64\n",
      " 124 B365CAHA   260 non-null    float64\n",
      " 125 PCAHH      260 non-null    float64\n",
      " 126 PCAHA      260 non-null    float64\n",
      " 127 MaxCAHH    260 non-null    float64\n",
      " 128 MaxCAHA    260 non-null    float64\n",
      " 129 AvgCAHH    260 non-null    float64\n",
      " 130 AvgCAHA    260 non-null    float64\n",
      "dtypes: float64(106), int64(17), object(8)\n",
      "memory usage: 1.9+ MB\n"
     ]
    }
   ],
   "source": [
    "premier_league_df.info(verbose=True, null_counts=True)"
   ]
  },
  {
   "cell_type": "code",
   "execution_count": 4,
   "metadata": {},
   "outputs": [
    {
     "data": {
      "text/html": [
       "<div>\n",
       "<style scoped>\n",
       "    .dataframe tbody tr th:only-of-type {\n",
       "        vertical-align: middle;\n",
       "    }\n",
       "\n",
       "    .dataframe tbody tr th {\n",
       "        vertical-align: top;\n",
       "    }\n",
       "\n",
       "    .dataframe thead th {\n",
       "        text-align: right;\n",
       "    }\n",
       "</style>\n",
       "<table border=\"1\" class=\"dataframe\">\n",
       "  <thead>\n",
       "    <tr style=\"text-align: right;\">\n",
       "      <th></th>\n",
       "      <th>FTHG</th>\n",
       "      <th>FTAG</th>\n",
       "      <th>HTHG</th>\n",
       "      <th>HTAG</th>\n",
       "      <th>HS</th>\n",
       "      <th>AS</th>\n",
       "      <th>HST</th>\n",
       "      <th>AST</th>\n",
       "      <th>HF</th>\n",
       "      <th>AF</th>\n",
       "      <th>...</th>\n",
       "      <th>AvgC&lt;2.5</th>\n",
       "      <th>AHCh</th>\n",
       "      <th>B365CAHH</th>\n",
       "      <th>B365CAHA</th>\n",
       "      <th>PCAHH</th>\n",
       "      <th>PCAHA</th>\n",
       "      <th>MaxCAHH</th>\n",
       "      <th>MaxCAHA</th>\n",
       "      <th>AvgCAHH</th>\n",
       "      <th>AvgCAHA</th>\n",
       "    </tr>\n",
       "  </thead>\n",
       "  <tbody>\n",
       "    <tr>\n",
       "      <th>count</th>\n",
       "      <td>1940.000000</td>\n",
       "      <td>1940.000000</td>\n",
       "      <td>1940.000000</td>\n",
       "      <td>1940.000000</td>\n",
       "      <td>1940.000000</td>\n",
       "      <td>1940.000000</td>\n",
       "      <td>1940.000000</td>\n",
       "      <td>1940.000000</td>\n",
       "      <td>1940.000000</td>\n",
       "      <td>1940.000000</td>\n",
       "      <td>...</td>\n",
       "      <td>260.000000</td>\n",
       "      <td>260.000000</td>\n",
       "      <td>260.000000</td>\n",
       "      <td>260.000000</td>\n",
       "      <td>260.000000</td>\n",
       "      <td>260.000000</td>\n",
       "      <td>260.000000</td>\n",
       "      <td>260.000000</td>\n",
       "      <td>260.000000</td>\n",
       "      <td>260.000000</td>\n",
       "    </tr>\n",
       "    <tr>\n",
       "      <th>mean</th>\n",
       "      <td>1.518041</td>\n",
       "      <td>1.187113</td>\n",
       "      <td>0.678866</td>\n",
       "      <td>0.527320</td>\n",
       "      <td>14.064433</td>\n",
       "      <td>11.289175</td>\n",
       "      <td>4.688144</td>\n",
       "      <td>3.873711</td>\n",
       "      <td>10.608247</td>\n",
       "      <td>11.189691</td>\n",
       "      <td>...</td>\n",
       "      <td>2.232500</td>\n",
       "      <td>-0.302885</td>\n",
       "      <td>1.943538</td>\n",
       "      <td>1.965308</td>\n",
       "      <td>1.959885</td>\n",
       "      <td>1.976731</td>\n",
       "      <td>2.015308</td>\n",
       "      <td>2.031192</td>\n",
       "      <td>1.934923</td>\n",
       "      <td>1.954231</td>\n",
       "    </tr>\n",
       "    <tr>\n",
       "      <th>std</th>\n",
       "      <td>1.280707</td>\n",
       "      <td>1.161768</td>\n",
       "      <td>0.840851</td>\n",
       "      <td>0.744778</td>\n",
       "      <td>5.673557</td>\n",
       "      <td>4.788393</td>\n",
       "      <td>2.623959</td>\n",
       "      <td>2.298963</td>\n",
       "      <td>3.426700</td>\n",
       "      <td>3.539229</td>\n",
       "      <td>...</td>\n",
       "      <td>0.537829</td>\n",
       "      <td>0.976975</td>\n",
       "      <td>0.143365</td>\n",
       "      <td>0.105926</td>\n",
       "      <td>0.157621</td>\n",
       "      <td>0.109652</td>\n",
       "      <td>0.156045</td>\n",
       "      <td>0.115118</td>\n",
       "      <td>0.142163</td>\n",
       "      <td>0.102952</td>\n",
       "    </tr>\n",
       "    <tr>\n",
       "      <th>min</th>\n",
       "      <td>0.000000</td>\n",
       "      <td>0.000000</td>\n",
       "      <td>0.000000</td>\n",
       "      <td>0.000000</td>\n",
       "      <td>1.000000</td>\n",
       "      <td>0.000000</td>\n",
       "      <td>0.000000</td>\n",
       "      <td>0.000000</td>\n",
       "      <td>0.000000</td>\n",
       "      <td>1.000000</td>\n",
       "      <td>...</td>\n",
       "      <td>1.460000</td>\n",
       "      <td>-3.250000</td>\n",
       "      <td>1.670000</td>\n",
       "      <td>1.270000</td>\n",
       "      <td>1.710000</td>\n",
       "      <td>1.300000</td>\n",
       "      <td>1.800000</td>\n",
       "      <td>1.300000</td>\n",
       "      <td>1.700000</td>\n",
       "      <td>1.280000</td>\n",
       "    </tr>\n",
       "    <tr>\n",
       "      <th>25%</th>\n",
       "      <td>1.000000</td>\n",
       "      <td>0.000000</td>\n",
       "      <td>0.000000</td>\n",
       "      <td>0.000000</td>\n",
       "      <td>10.000000</td>\n",
       "      <td>8.000000</td>\n",
       "      <td>3.000000</td>\n",
       "      <td>2.000000</td>\n",
       "      <td>8.000000</td>\n",
       "      <td>9.000000</td>\n",
       "      <td>...</td>\n",
       "      <td>1.847500</td>\n",
       "      <td>-0.750000</td>\n",
       "      <td>1.867500</td>\n",
       "      <td>1.900000</td>\n",
       "      <td>1.880000</td>\n",
       "      <td>1.890000</td>\n",
       "      <td>1.930000</td>\n",
       "      <td>1.950000</td>\n",
       "      <td>1.850000</td>\n",
       "      <td>1.880000</td>\n",
       "    </tr>\n",
       "    <tr>\n",
       "      <th>50%</th>\n",
       "      <td>1.000000</td>\n",
       "      <td>1.000000</td>\n",
       "      <td>0.000000</td>\n",
       "      <td>0.000000</td>\n",
       "      <td>13.000000</td>\n",
       "      <td>11.000000</td>\n",
       "      <td>4.000000</td>\n",
       "      <td>4.000000</td>\n",
       "      <td>11.000000</td>\n",
       "      <td>11.000000</td>\n",
       "      <td>...</td>\n",
       "      <td>2.140000</td>\n",
       "      <td>-0.250000</td>\n",
       "      <td>1.945000</td>\n",
       "      <td>1.975000</td>\n",
       "      <td>1.955000</td>\n",
       "      <td>1.980000</td>\n",
       "      <td>2.000000</td>\n",
       "      <td>2.040000</td>\n",
       "      <td>1.925000</td>\n",
       "      <td>1.955000</td>\n",
       "    </tr>\n",
       "    <tr>\n",
       "      <th>75%</th>\n",
       "      <td>2.000000</td>\n",
       "      <td>2.000000</td>\n",
       "      <td>1.000000</td>\n",
       "      <td>1.000000</td>\n",
       "      <td>17.000000</td>\n",
       "      <td>14.000000</td>\n",
       "      <td>6.000000</td>\n",
       "      <td>5.000000</td>\n",
       "      <td>13.000000</td>\n",
       "      <td>13.000000</td>\n",
       "      <td>...</td>\n",
       "      <td>2.450000</td>\n",
       "      <td>0.250000</td>\n",
       "      <td>2.020000</td>\n",
       "      <td>2.042500</td>\n",
       "      <td>2.032500</td>\n",
       "      <td>2.050000</td>\n",
       "      <td>2.070000</td>\n",
       "      <td>2.112500</td>\n",
       "      <td>2.000000</td>\n",
       "      <td>2.030000</td>\n",
       "    </tr>\n",
       "    <tr>\n",
       "      <th>max</th>\n",
       "      <td>8.000000</td>\n",
       "      <td>9.000000</td>\n",
       "      <td>5.000000</td>\n",
       "      <td>5.000000</td>\n",
       "      <td>43.000000</td>\n",
       "      <td>30.000000</td>\n",
       "      <td>17.000000</td>\n",
       "      <td>15.000000</td>\n",
       "      <td>24.000000</td>\n",
       "      <td>26.000000</td>\n",
       "      <td>...</td>\n",
       "      <td>5.010000</td>\n",
       "      <td>3.000000</td>\n",
       "      <td>3.550000</td>\n",
       "      <td>2.200000</td>\n",
       "      <td>3.930000</td>\n",
       "      <td>2.290000</td>\n",
       "      <td>3.950000</td>\n",
       "      <td>2.300000</td>\n",
       "      <td>3.660000</td>\n",
       "      <td>2.240000</td>\n",
       "    </tr>\n",
       "  </tbody>\n",
       "</table>\n",
       "<p>8 rows × 123 columns</p>\n",
       "</div>"
      ],
      "text/plain": [
       "              FTHG         FTAG         HTHG         HTAG           HS  \\\n",
       "count  1940.000000  1940.000000  1940.000000  1940.000000  1940.000000   \n",
       "mean      1.518041     1.187113     0.678866     0.527320    14.064433   \n",
       "std       1.280707     1.161768     0.840851     0.744778     5.673557   \n",
       "min       0.000000     0.000000     0.000000     0.000000     1.000000   \n",
       "25%       1.000000     0.000000     0.000000     0.000000    10.000000   \n",
       "50%       1.000000     1.000000     0.000000     0.000000    13.000000   \n",
       "75%       2.000000     2.000000     1.000000     1.000000    17.000000   \n",
       "max       8.000000     9.000000     5.000000     5.000000    43.000000   \n",
       "\n",
       "                AS          HST          AST           HF           AF  ...  \\\n",
       "count  1940.000000  1940.000000  1940.000000  1940.000000  1940.000000  ...   \n",
       "mean     11.289175     4.688144     3.873711    10.608247    11.189691  ...   \n",
       "std       4.788393     2.623959     2.298963     3.426700     3.539229  ...   \n",
       "min       0.000000     0.000000     0.000000     0.000000     1.000000  ...   \n",
       "25%       8.000000     3.000000     2.000000     8.000000     9.000000  ...   \n",
       "50%      11.000000     4.000000     4.000000    11.000000    11.000000  ...   \n",
       "75%      14.000000     6.000000     5.000000    13.000000    13.000000  ...   \n",
       "max      30.000000    17.000000    15.000000    24.000000    26.000000  ...   \n",
       "\n",
       "         AvgC<2.5        AHCh    B365CAHH    B365CAHA       PCAHH       PCAHA  \\\n",
       "count  260.000000  260.000000  260.000000  260.000000  260.000000  260.000000   \n",
       "mean     2.232500   -0.302885    1.943538    1.965308    1.959885    1.976731   \n",
       "std      0.537829    0.976975    0.143365    0.105926    0.157621    0.109652   \n",
       "min      1.460000   -3.250000    1.670000    1.270000    1.710000    1.300000   \n",
       "25%      1.847500   -0.750000    1.867500    1.900000    1.880000    1.890000   \n",
       "50%      2.140000   -0.250000    1.945000    1.975000    1.955000    1.980000   \n",
       "75%      2.450000    0.250000    2.020000    2.042500    2.032500    2.050000   \n",
       "max      5.010000    3.000000    3.550000    2.200000    3.930000    2.290000   \n",
       "\n",
       "          MaxCAHH     MaxCAHA     AvgCAHH     AvgCAHA  \n",
       "count  260.000000  260.000000  260.000000  260.000000  \n",
       "mean     2.015308    2.031192    1.934923    1.954231  \n",
       "std      0.156045    0.115118    0.142163    0.102952  \n",
       "min      1.800000    1.300000    1.700000    1.280000  \n",
       "25%      1.930000    1.950000    1.850000    1.880000  \n",
       "50%      2.000000    2.040000    1.925000    1.955000  \n",
       "75%      2.070000    2.112500    2.000000    2.030000  \n",
       "max      3.950000    2.300000    3.660000    2.240000  \n",
       "\n",
       "[8 rows x 123 columns]"
      ]
     },
     "execution_count": 4,
     "metadata": {},
     "output_type": "execute_result"
    }
   ],
   "source": [
    "premier_league_df.describe()"
   ]
  },
  {
   "cell_type": "markdown",
   "metadata": {},
   "source": [
    "### Cleaning the data"
   ]
  },
  {
   "cell_type": "markdown",
   "metadata": {},
   "source": [
    "I noticed that data had many fields which was not needed for my purpose and I updated the premier table to only show the ones that I was interested. I did this by updating ‘premier_leauge_df’ with to only show the columns I was interested in, making my data frame easier to work with. \n",
    "\n",
    " As the data set column were labelled with abbreviations and it was making it harder to to read. I used the rubric with the data set to change rename the column to make the data more readable.\n"
   ]
  },
  {
   "cell_type": "markdown",
   "metadata": {},
   "source": [
    "#### Extracting Specific Columns"
   ]
  },
  {
   "cell_type": "code",
   "execution_count": 5,
   "metadata": {},
   "outputs": [],
   "source": [
    "# Update DataFrame to include only the Columns we are Interested in\n",
    "premier_league_df = premier_league_df[['Date', \n",
    "                                       'HomeTeam', \n",
    "                                       'AwayTeam', \n",
    "                                       'FTHG', \n",
    "                                       'FTAG', \n",
    "                                       'FTR', \n",
    "                                       'Referee', \n",
    "                                       'HS', \n",
    "                                       'AS', \n",
    "                                       'HST', \n",
    "                                       'AST', \n",
    "                                       'HF', \n",
    "                                       'AF', \n",
    "                                       'HY', \n",
    "                                       'AY', \n",
    "                                       'HR', \n",
    "                                       'AR',\n",
    "                                       'Year']]"
   ]
  },
  {
   "cell_type": "code",
   "execution_count": 6,
   "metadata": {},
   "outputs": [],
   "source": [
    "premier_league_df.rename(columns={'FTHG': 'HomeTeamGoals', \n",
    "                               'FTAG': 'AwayTeamGoals',\n",
    "                               'FTR': 'Result',\n",
    "                               'HS': 'HomeTeamShots', \n",
    "                               'AS': 'AwayTeamShots', \n",
    "                               'HST': 'HomeTeamOnTarget', \n",
    "                               'AST': 'AwayTeamOnTarget',\n",
    "                                 'HF': 'HomeTeamFouls',\n",
    "                                 'AF': 'AwayTeamFouls',\n",
    "                                 'HY': 'HomeTeamYellowCards',\n",
    "                                 'AY': 'AwayTeamYellowCards',\n",
    "                                 'HR': 'HomeTeamRedCards',\n",
    "                                 'AR': 'AwayTeamRedCards',\n",
    "                              }, inplace=True)"
   ]
  },
  {
   "cell_type": "markdown",
   "metadata": {},
   "source": [
    "#### Data Source:  Webscraping from Planet Football"
   ]
  },
  {
   "cell_type": "markdown",
   "metadata": {},
   "source": [
    "While Kaggle data set is useful as it provides historical data for the games, it does not provide complete information regarding team rivalries also known as derbies. I found another website Planet Football which contained the data from survey, where the fans were asked which teams they support and the top rivalries with other teams. In order to use this data as derbies I had to web scrape this data. \n",
    "\n",
    "In order to obtain and utilize this data I had to find solutions to the following issues:"
   ]
  },
  {
   "cell_type": "markdown",
   "metadata": {},
   "source": [
    "#### 2.1 Club name differences "
   ]
  },
  {
   "cell_type": "markdown",
   "metadata": {},
   "source": [
    "Sometimes teams names can be slightly different from their official name. This was the case between the two data sources, while the Football Derby Survey from Planet Football website refers to Manchester United as ‘Man United’, while the data set from Kaggle refers to the same team as ‘Man Utd’.  In order to create consistency in the data, I had to create a function to change to rename the teams. I used a simple function to rename, by extracting a list of unique names if teams from the ‘premier_leauge_df’ and returning the renamed version of it. When I scrap information from the website I would use the following function to rename the club if needed. \n"
   ]
  },
  {
   "cell_type": "code",
   "execution_count": 7,
   "metadata": {},
   "outputs": [],
   "source": [
    "teams_list = list(premier_league_df['HomeTeam'].unique())\n",
    "\n",
    "def rename_team(team):\n",
    "    \n",
    "    if team == \"Leicester City\":\n",
    "        \n",
    "        return \"Leicester\"\n",
    "        \n",
    "    elif team == \"Man Utd\":\n",
    "        \n",
    "        return \"Man United\"\n",
    "    \n",
    "    else:\n",
    "        \n",
    "        pass"
   ]
  },
  {
   "cell_type": "markdown",
   "metadata": {},
   "source": [
    "### 2.2 Incase of website failure"
   ]
  },
  {
   "cell_type": "markdown",
   "metadata": {},
   "source": [
    "In order to account for any changes in the website or website faliure, I downloaded the website’s HTML. This is done just as precaution, to ensure the notebook can run without connection and in case of any website changes. \n",
    "\n",
    "Making a ‘Get Request’ of the website to get a successful response. \n",
    "I defined a variable ‘URL’ which contains the hyperlink to the Football Planet and ‘Page’ variable which will contain the value of the page as a response of the GET Request module. To ensure that the request was successful, I printed the results for of the ‘page’ and the code is ‘Response 200’ indicating a successful rest. \n"
   ]
  },
  {
   "cell_type": "code",
   "execution_count": 8,
   "metadata": {},
   "outputs": [],
   "source": [
    "url = \"https://www.planetfootball.com/quick-reads/every-premier-league-clubs-top-five-fiercest-rivals-as-voted-for-by-fans/\"\n",
    "\n",
    "page = requests.get(url)"
   ]
  },
  {
   "cell_type": "markdown",
   "metadata": {},
   "source": [
    "#### Download a copy of the response, in order to store the website's HTML."
   ]
  },
  {
   "cell_type": "markdown",
   "metadata": {},
   "source": [
    "Download a copy of the response \n",
    "I downloaded a copy of the HTML for educational project purposes and to ensure the notebook would run smoothly regardless any changes. Using the ‘with open’ method I accessed the ‘.text’ file as ‘football_rivals’."
   ]
  },
  {
   "cell_type": "code",
   "execution_count": 9,
   "metadata": {},
   "outputs": [],
   "source": [
    "page_text = page.text\n",
    "\n",
    "with open('football_rivals.html', mode=\"w\") as football_rivals:\n",
    "    \n",
    "    football_rivals.write(page_text)"
   ]
  },
  {
   "cell_type": "markdown",
   "metadata": {},
   "source": [
    "#### Scraping and Cleaning Un-structured data"
   ]
  },
  {
   "cell_type": "markdown",
   "metadata": {},
   "source": [
    "Using the copy of downloaded HTML and saved as ‘football_rivals.html’ in local directory. I attempted to use the BeautifulSoup module to ‘parse’ the ‘football_rivals’ file to access the data. \n",
    "\n",
    "Since the copy of the  website contained JavaScript that prevented me from accessing the HTML tags. To work around this I made a copy called ‘football_rivals_cleaned.html’ and manually deleted the Javascript. \n",
    "\n",
    "After cleaning the HTML, I created a variable called ‘soup’ and the value of ‘soup’ will be the beautiful object. \n",
    "\n",
    "As the website contains irrelevant information, I used the BeautifulSoup methods to only access the information I was interested in. While viewing page source of the website in a browser, I was able to identified the key information is located within class tag ‘ciam-article-pf’. \n",
    "As ‘class’ is already a python keyword, I used ‘class_’  for beautifulsoup instead. \n",
    "\n",
    "As the website was using a lot of Javascript it was preventing me from being able to access the class tags, I was interested in. As a work around, I manually edited the .html to remove the Javascripts. \n"
   ]
  },
  {
   "cell_type": "code",
   "execution_count": 10,
   "metadata": {},
   "outputs": [
    {
     "data": {
      "text/plain": [
       "\n",
       "<!DOCTYPE html>\n",
       "\n",
       "<html lang=\"en-US\" prefix=\"og: http://ogp.me/ns#\">\n",
       "<head>\n",
       "<meta charset=\"utf-8\"/>\n",
       "<meta content=\"IE=edge\" http-equiv=\"X-UA-Compatible\"/>\n",
       "<meta content=\"width=device-width, initial-scale=1, shrink-to-fit=no\" name=\"viewport\"/>\n",
       "<title>Every Premier League club's top five fiercest rivals - as voted for by fans - Planet Football</title>\n",
       "</head>\n",
       "<body>\n",
       "<div class=\"ciam-article-pf\"><p><strong>Such is the tribal nature of football, every club has at least one other team they hold a fierce rivalry with.</strong></p>\n",
       "<p>Using David Dubas-Fisher’s survey ‘The League of Love and Hate’, fans were able to vote for the five clubs they dislike the most.</p>\n",
       "<p>We’ve collected the top five for every Premier League club, which throws up some interesting results.</p>\n",
       "<h3><strong>Arsenal</strong></h3>\n",
       "<p>1. Tottenham – 87%<br/>\n",
       "2. Man Utd – 62%<br/>\n",
       "3. Chelsea – 62%<br/>\n",
       "4. Stoke – 22%<br/>\n",
       "5. Liverpool – 21%</p>\n",
       "<h3><strong>Aston Villa</strong></h3>\n",
       "<p>1. Birmingham – 76%<br/>\n",
       "2. West Brom – 44%<br/>\n",
       "3. Wolves – 33%<br/>\n",
       "4. Man Utd – 25%<br/>\n",
       "5. Coventry – 23%</p>\n",
       "<h3><strong>Bournemouth</strong></h3>\n",
       "<p>1. Southampton – 79%<br/>\n",
       "2. Portsmouth – 62%<br/>\n",
       "3. Brighton – 59%<br/>\n",
       "4. Reading – 52%<br/>\n",
       "5. Leeds – 34%</p>\n",
       "<h3><strong>Brighton</strong></h3>\n",
       "<p>1. Crystal Palace – 85%<br/>\n",
       "2. Portsmouth – 34%<br/>\n",
       "3. Southampton – 33%<br/>\n",
       "4. Bournemouth – 31%<br/>\n",
       "5. Man Utd – 18%</p>\n",
       "<h3><strong>Burnley</strong></h3>\n",
       "<p>1. Blackburn – 84%<br/>\n",
       "2. Preston – 72%<br/>\n",
       "3. Bolton – 60%<br/>\n",
       "4. Bradford – 46%<br/>\n",
       "5. Blackpool – 42%</p>\n",
       "<h3><strong>Chelsea</strong></h3>\n",
       "<p>1. Tottenham – 66%<br/>\n",
       "2. Man Utd – 56%<br/>\n",
       "3. Arsenal – 52%<br/>\n",
       "4. Liverpool – 49%<br/>\n",
       "5. Man City – 24%</p>\n",
       "<h3><strong>Crystal Palace</strong></h3>\n",
       "<p>1. Brighton – 77%<br/>\n",
       "2. Millwall – 44%<br/>\n",
       "3. Charlton – 34%<br/>\n",
       "4. Watford – 31%<br/>\n",
       "5. Man Utd – 30%</p>\n",
       "<blockquote class=\"twitter-tweet\" data-dnt=\"true\" data-width=\"500\">\n",
       "<p dir=\"ltr\" lang=\"en\">It's only been run by a few of our titles so far but here are the results for the main clubs they cover <a href=\"https://t.co/e7BiK09aIr\">pic.twitter.com/e7BiK09aIr</a></p>\n",
       "<p>— David Dubas-Fisher (@dubasfisher) <a href=\"https://twitter.com/dubasfisher/status/1154044856802525185?ref_src=twsrc%5Etfw\">July 24, 2019</a></p></blockquote>\n",
       "<p><script async=\"\" charset=\"utf-8\" src=\"https://platform.twitter.com/widgets.js\"></script></p>\n",
       "<h3><strong>Everton</strong></h3>\n",
       "<p>1. Liverpool – 86%<br/>\n",
       "2. Man Utd – 31%<br/>\n",
       "3. Chelsea – 24%<br/>\n",
       "4. Man City – 20%<br/>\n",
       "5. Newcastle – 16%</p>\n",
       "<h3><strong>Leicester City</strong></h3>\n",
       "<p>1. Nottingham Forest – 72%<br/>\n",
       "2. Derby – 60%<br/>\n",
       "3. Coventry – 55%<br/>\n",
       "4. Aston Villa – 40%<br/>\n",
       "5. Tottenham – 32%</p>\n",
       "<h3><strong>Liverpool</strong></h3>\n",
       "<p>1. Man Utd – 84%<br/>\n",
       "2. Chelsea – 43%<br/>\n",
       "3. Man City – 39%<br/>\n",
       "4. Everton – 38%<br/>\n",
       "5. Arsenal – 14%</p>\n",
       "<h3><strong>Man City</strong></h3>\n",
       "<p>1. Liverpool – 79%<br/>\n",
       "2. Man Utd – 78%<br/>\n",
       "3. Tottenham – 28%<br/>\n",
       "4. Chelsea – 25%<br/>\n",
       "5. Arsenal – 13%</p>\n",
       "<h3><strong>Man Utd</strong></h3>\n",
       "<p>1. Liverpool – 88%<br/>\n",
       "2. Man City – 66%<br/>\n",
       "3. Chelsea – 43%<br/>\n",
       "4. Leeds – 38%<br/>\n",
       "5. Arsenal – 31%</p>\n",
       "<blockquote class=\"twitter-tweet\" data-dnt=\"true\" data-width=\"500\">\n",
       "<p dir=\"ltr\" lang=\"en\">We expanded our Rivalry League this season so that fans can pick a rival from any division in the country, not just their own. The Leeds Live version revealed that Leeds fans consider Manchester United their biggest rivals, and by quite some distance <a href=\"https://t.co/GhnnPl7tD4\">https://t.co/GhnnPl7tD4</a> <a href=\"https://t.co/96H5OjDX1H\">pic.twitter.com/96H5OjDX1H</a></p>\n",
       "<p>— David Dubas-Fisher (@dubasfisher) <a href=\"https://twitter.com/dubasfisher/status/1159375937886138369?ref_src=twsrc%5Etfw\">August 8, 2019</a></p></blockquote>\n",
       "<p><script async=\"\" charset=\"utf-8\" src=\"https://platform.twitter.com/widgets.js\"></script></p>\n",
       "<h3><strong>Newcastle</strong></h3>\n",
       "<p>1. Sunderland – 72%<br/>\n",
       "2. Middlesbrough – 45%<br/>\n",
       "3. Liverpool – 37%<br/>\n",
       "4. Man Utd – 37%<br/>\n",
       "5. Aston Villa – 16%</p>\n",
       "<h3><strong>Norwich</strong></h3>\n",
       "<p>1. Ipswich – 70%<br/>\n",
       "2. Colchester – 40%<br/>\n",
       "3. Wolves – 40%<br/>\n",
       "4. Leeds – 33%<br/>\n",
       "5. Middlesbrough – 23%</p>\n",
       "<h3><strong>Sheffield United</strong></h3>\n",
       "<p>1. Sheffield Wednesday – 83%<br/>\n",
       "2. Leeds – 58%<br/>\n",
       "3. Barnsley – 54%<br/>\n",
       "4. Rotherham – 38%<br/>\n",
       "5. Doncaster – 29%</p>\n",
       "<h3><strong>Southampton</strong></h3>\n",
       "<p>1. Portsmouth – 91%<br/>\n",
       "2. Bournemouth – 56%<br/>\n",
       "3. Brighton – 53%<br/>\n",
       "4. Reading – 38%<br/>\n",
       "5. Tottenham – 32%</p>\n",
       "<h3><strong>Tottenham</strong></h3>\n",
       "<p>1. Arsenal – 87%<br/>\n",
       "2. Chelsea – 73%<br/>\n",
       "3. West Ham – 53%<br/>\n",
       "4. Liverpool – 38%<br/>\n",
       "5. Man Utd – 37%</p>\n",
       "<h3><strong>Watford</strong></h3>\n",
       "<p>N/A</p>\n",
       "<h3><strong>West Ham</strong></h3>\n",
       "<p>1. Tottenham – 82%<br/>\n",
       "2. Millwall – 52%<br/>\n",
       "3. Chelsea – 44%<br/>\n",
       "4. Man Utd – 34%<br/>\n",
       "5. Liverpool – 22%</p>\n",
       "<h3><strong>Wolves</strong></h3>\n",
       "<p>1. West Brom – 72%<br/>\n",
       "2. Aston Villa – 66%<br/>\n",
       "3. Birmingham – 53%<br/>\n",
       "4. Coventry – 31%<br/>\n",
       "5. Stoke – 31%</p>\n",
       "<hr/>\n",
       "<h3><a href=\"http://planetfootball.com/trending\" rel=\"noopener\" target=\"_blank\"><strong>More from Planet Football</strong></a></h3>\n",
       "<p><a href=\"https://www.planetfootball.com/quick-reads/the-118-prem-players-in-the-final-years-of-their-contracts-de-gea-eriksen-fraser/\" rel=\"noopener\" target=\"_blank\"><strong>The 118 Prem players in the final year of their contracts: De Gea, Eriksen, Fraser…</strong></a></p>\n",
       "<p><a href=\"https://www.planetfootball.com/quick-reads/premier-league-stats-table-top-passers-dribblers-tacklers-of-2019-20-so-far/\" rel=\"noopener\" target=\"_blank\"><strong>Premier League stats table: top passers, dribblers, tacklers of 2019-20 so far</strong></a></p>\n",
       "<p><a href=\"https://www.planetfootball.com/quizzes/can-you-name-every-player-to-have-scored-100-premier-league-goals/\" rel=\"noopener\" target=\"_blank\"><strong>Can you name every player to have scored 100 Premier League goals?</strong></a></p>\n",
       "<p><a href=\"https://www.planetfootball.com/videos/watch-craig-bellamy-rages-after-being-clattered-by-nicky-butt/\" rel=\"noopener\" target=\"_blank\"><strong>Watch: Craig Bellamy rages after being clattered by Nicky Butt in testimonial</strong></a></p>\n",
       "</div>\n",
       "</body>\n",
       "</html>"
      ]
     },
     "execution_count": 10,
     "metadata": {},
     "output_type": "execute_result"
    }
   ],
   "source": [
    "soup = BeautifulSoup(open(\"football_rivals_cleaned.html\"), \"html.parser\") # NB: I created a \"cleaned\" copy of the HTML to remove the JavaScript which was preventing me from accessing the infomration I was interested in.\n",
    "\n",
    "soup"
   ]
  },
  {
   "cell_type": "markdown",
   "metadata": {},
   "source": [
    "#### Extracting the List of Football Clubs¶"
   ]
  },
  {
   "cell_type": "markdown",
   "metadata": {},
   "source": [
    "Using the .find method I extracted the ‘H3’ tags and they needed to be cleaned further. To clean the list, I looped through each heading and extracted the ‘text’ only and if  the value of the if the text is ‘More from Planet Football’ that would be excluded. \n"
   ]
  },
  {
   "cell_type": "markdown",
   "metadata": {},
   "source": [
    "#### Cross-check Clubs names"
   ]
  },
  {
   "cell_type": "markdown",
   "metadata": {},
   "source": [
    "As mentioned earlier, Football club names can be in-consistent. For example ‘Man Utd’ and ‘Manchester Utd’ are the same. To ensure consistency I needed to cross-check the clubs names used. Using the ‘enumerate’ function, I identified  the index value for each item in the list of ‘clubs_clen’. This allowed me to only update the index in the list that needs to be renamed. \n"
   ]
  },
  {
   "cell_type": "code",
   "execution_count": 11,
   "metadata": {},
   "outputs": [],
   "source": [
    "main_content = soup.find(\"div\", class_=\"ciam-article-pf\")\n",
    "\n",
    "clubs = main_content.find_all(\"h3\")"
   ]
  },
  {
   "cell_type": "code",
   "execution_count": 12,
   "metadata": {},
   "outputs": [
    {
     "data": {
      "text/plain": [
       "['Arsenal',\n",
       " 'Aston Villa',\n",
       " 'Bournemouth',\n",
       " 'Brighton',\n",
       " 'Burnley',\n",
       " 'Chelsea',\n",
       " 'Crystal Palace',\n",
       " 'Everton',\n",
       " 'Leicester City',\n",
       " 'Liverpool',\n",
       " 'Man City',\n",
       " 'Man Utd',\n",
       " 'Newcastle',\n",
       " 'Norwich',\n",
       " 'Sheffield United',\n",
       " 'Southampton',\n",
       " 'Tottenham',\n",
       " 'Watford',\n",
       " 'West Ham',\n",
       " 'Wolves']"
      ]
     },
     "execution_count": 12,
     "metadata": {},
     "output_type": "execute_result"
    }
   ],
   "source": [
    "clubs_clean = []\n",
    "\n",
    "for club in clubs:\n",
    "    \n",
    "    if club.text == \"More from Planet Football\":\n",
    "        \n",
    "        pass\n",
    "    else:\n",
    "    \n",
    "        club = club.text\n",
    "\n",
    "        clubs_clean.append(club)\n",
    "    \n",
    "clubs_clean"
   ]
  },
  {
   "cell_type": "markdown",
   "metadata": {},
   "source": [
    "#### Scarping un-structured data "
   ]
  },
  {
   "cell_type": "markdown",
   "metadata": {},
   "source": [
    "One of the main challenges scarping this data was the fact that it was un-structured. I had to use the RegEx module in Python to allow me to test if the data I extracted is indeed a list of football rivals and not the other information from the website. \n",
    "\n",
    "From the ‘main_content’ variable, I tried to find all the instances of “p” tags. The next step was to figure out a method to differentiate between the required data (i.e the list of rivals) and other content I am not interested in (i.e “strong” headings, other paragraphs and hyperlinks at the end of the paragraph). \n",
    "\n",
    "As the lists of rivals was listed numerically, I began with looping through the extracted “p” tags with ‘if condition’ with RegEx to check if each “p” tag that I have scraped contains at least one digit followed by a dot.The RegEx command for this is “\\d\\.”. \n",
    "\n",
    "If the condition returned ‘True’ then I extracted the text from that tag. The next challenge was to eliminate any percentages, and other numbers that were included in the extracted text. To extract only the rivals teams name, I used the split method to chop each string at a key point to separate each football club name I identified “%” as a symbol for the values to be split. This was successful as each football club ends with a “%”, giving me a list of football clubs. \n",
    "\n",
    "Then I continued to loop through each of the football clubs name and removed whitespace using .Strip method and slicing the first three characters and the last five (using negative indexing) characters as they were not needed. \n",
    "\n",
    "Then I had to use the “rename_team” function to rename the teams which needed to updated to ensure consistency through out the data-sets. \n",
    "\n",
    "Lastly, I used the ‘append’ function, I built a new list with to store each rival for that group. Following this I appended these lints to a master list ‘rivals_list’ which stores the sub-lists (ie. List of lists). "
   ]
  },
  {
   "cell_type": "code",
   "execution_count": 13,
   "metadata": {},
   "outputs": [
    {
     "data": {
      "text/plain": [
       "[<p><strong>Such is the tribal nature of football, every club has at least one other team they hold a fierce rivalry with.</strong></p>,\n",
       " <p>Using David Dubas-Fisher’s survey ‘The League of Love and Hate’, fans were able to vote for the five clubs they dislike the most.</p>,\n",
       " <p>We’ve collected the top five for every Premier League club, which throws up some interesting results.</p>,\n",
       " <p>1. Tottenham – 87%<br/>\n",
       " 2. Man Utd – 62%<br/>\n",
       " 3. Chelsea – 62%<br/>\n",
       " 4. Stoke – 22%<br/>\n",
       " 5. Liverpool – 21%</p>,\n",
       " <p>1. Birmingham – 76%<br/>\n",
       " 2. West Brom – 44%<br/>\n",
       " 3. Wolves – 33%<br/>\n",
       " 4. Man Utd – 25%<br/>\n",
       " 5. Coventry – 23%</p>,\n",
       " <p>1. Southampton – 79%<br/>\n",
       " 2. Portsmouth – 62%<br/>\n",
       " 3. Brighton – 59%<br/>\n",
       " 4. Reading – 52%<br/>\n",
       " 5. Leeds – 34%</p>,\n",
       " <p>1. Crystal Palace – 85%<br/>\n",
       " 2. Portsmouth – 34%<br/>\n",
       " 3. Southampton – 33%<br/>\n",
       " 4. Bournemouth – 31%<br/>\n",
       " 5. Man Utd – 18%</p>,\n",
       " <p>1. Blackburn – 84%<br/>\n",
       " 2. Preston – 72%<br/>\n",
       " 3. Bolton – 60%<br/>\n",
       " 4. Bradford – 46%<br/>\n",
       " 5. Blackpool – 42%</p>,\n",
       " <p>1. Tottenham – 66%<br/>\n",
       " 2. Man Utd – 56%<br/>\n",
       " 3. Arsenal – 52%<br/>\n",
       " 4. Liverpool – 49%<br/>\n",
       " 5. Man City – 24%</p>,\n",
       " <p>1. Brighton – 77%<br/>\n",
       " 2. Millwall – 44%<br/>\n",
       " 3. Charlton – 34%<br/>\n",
       " 4. Watford – 31%<br/>\n",
       " 5. Man Utd – 30%</p>,\n",
       " <p dir=\"ltr\" lang=\"en\">It's only been run by a few of our titles so far but here are the results for the main clubs they cover <a href=\"https://t.co/e7BiK09aIr\">pic.twitter.com/e7BiK09aIr</a></p>,\n",
       " <p>— David Dubas-Fisher (@dubasfisher) <a href=\"https://twitter.com/dubasfisher/status/1154044856802525185?ref_src=twsrc%5Etfw\">July 24, 2019</a></p>,\n",
       " <p><script async=\"\" charset=\"utf-8\" src=\"https://platform.twitter.com/widgets.js\"></script></p>,\n",
       " <p>1. Liverpool – 86%<br/>\n",
       " 2. Man Utd – 31%<br/>\n",
       " 3. Chelsea – 24%<br/>\n",
       " 4. Man City – 20%<br/>\n",
       " 5. Newcastle – 16%</p>,\n",
       " <p>1. Nottingham Forest – 72%<br/>\n",
       " 2. Derby – 60%<br/>\n",
       " 3. Coventry – 55%<br/>\n",
       " 4. Aston Villa – 40%<br/>\n",
       " 5. Tottenham – 32%</p>,\n",
       " <p>1. Man Utd – 84%<br/>\n",
       " 2. Chelsea – 43%<br/>\n",
       " 3. Man City – 39%<br/>\n",
       " 4. Everton – 38%<br/>\n",
       " 5. Arsenal – 14%</p>,\n",
       " <p>1. Liverpool – 79%<br/>\n",
       " 2. Man Utd – 78%<br/>\n",
       " 3. Tottenham – 28%<br/>\n",
       " 4. Chelsea – 25%<br/>\n",
       " 5. Arsenal – 13%</p>,\n",
       " <p>1. Liverpool – 88%<br/>\n",
       " 2. Man City – 66%<br/>\n",
       " 3. Chelsea – 43%<br/>\n",
       " 4. Leeds – 38%<br/>\n",
       " 5. Arsenal – 31%</p>,\n",
       " <p dir=\"ltr\" lang=\"en\">We expanded our Rivalry League this season so that fans can pick a rival from any division in the country, not just their own. The Leeds Live version revealed that Leeds fans consider Manchester United their biggest rivals, and by quite some distance <a href=\"https://t.co/GhnnPl7tD4\">https://t.co/GhnnPl7tD4</a> <a href=\"https://t.co/96H5OjDX1H\">pic.twitter.com/96H5OjDX1H</a></p>,\n",
       " <p>— David Dubas-Fisher (@dubasfisher) <a href=\"https://twitter.com/dubasfisher/status/1159375937886138369?ref_src=twsrc%5Etfw\">August 8, 2019</a></p>,\n",
       " <p><script async=\"\" charset=\"utf-8\" src=\"https://platform.twitter.com/widgets.js\"></script></p>,\n",
       " <p>1. Sunderland – 72%<br/>\n",
       " 2. Middlesbrough – 45%<br/>\n",
       " 3. Liverpool – 37%<br/>\n",
       " 4. Man Utd – 37%<br/>\n",
       " 5. Aston Villa – 16%</p>,\n",
       " <p>1. Ipswich – 70%<br/>\n",
       " 2. Colchester – 40%<br/>\n",
       " 3. Wolves – 40%<br/>\n",
       " 4. Leeds – 33%<br/>\n",
       " 5. Middlesbrough – 23%</p>,\n",
       " <p>1. Sheffield Wednesday – 83%<br/>\n",
       " 2. Leeds – 58%<br/>\n",
       " 3. Barnsley – 54%<br/>\n",
       " 4. Rotherham – 38%<br/>\n",
       " 5. Doncaster – 29%</p>,\n",
       " <p>1. Portsmouth – 91%<br/>\n",
       " 2. Bournemouth – 56%<br/>\n",
       " 3. Brighton – 53%<br/>\n",
       " 4. Reading – 38%<br/>\n",
       " 5. Tottenham – 32%</p>,\n",
       " <p>1. Arsenal – 87%<br/>\n",
       " 2. Chelsea – 73%<br/>\n",
       " 3. West Ham – 53%<br/>\n",
       " 4. Liverpool – 38%<br/>\n",
       " 5. Man Utd – 37%</p>,\n",
       " <p>N/A</p>,\n",
       " <p>1. Tottenham – 82%<br/>\n",
       " 2. Millwall – 52%<br/>\n",
       " 3. Chelsea – 44%<br/>\n",
       " 4. Man Utd – 34%<br/>\n",
       " 5. Liverpool – 22%</p>,\n",
       " <p>1. West Brom – 72%<br/>\n",
       " 2. Aston Villa – 66%<br/>\n",
       " 3. Birmingham – 53%<br/>\n",
       " 4. Coventry – 31%<br/>\n",
       " 5. Stoke – 31%</p>,\n",
       " <p><a href=\"https://www.planetfootball.com/quick-reads/the-118-prem-players-in-the-final-years-of-their-contracts-de-gea-eriksen-fraser/\" rel=\"noopener\" target=\"_blank\"><strong>The 118 Prem players in the final year of their contracts: De Gea, Eriksen, Fraser…</strong></a></p>,\n",
       " <p><a href=\"https://www.planetfootball.com/quick-reads/premier-league-stats-table-top-passers-dribblers-tacklers-of-2019-20-so-far/\" rel=\"noopener\" target=\"_blank\"><strong>Premier League stats table: top passers, dribblers, tacklers of 2019-20 so far</strong></a></p>,\n",
       " <p><a href=\"https://www.planetfootball.com/quizzes/can-you-name-every-player-to-have-scored-100-premier-league-goals/\" rel=\"noopener\" target=\"_blank\"><strong>Can you name every player to have scored 100 Premier League goals?</strong></a></p>,\n",
       " <p><a href=\"https://www.planetfootball.com/videos/watch-craig-bellamy-rages-after-being-clattered-by-nicky-butt/\" rel=\"noopener\" target=\"_blank\"><strong>Watch: Craig Bellamy rages after being clattered by Nicky Butt in testimonial</strong></a></p>]"
      ]
     },
     "execution_count": 13,
     "metadata": {},
     "output_type": "execute_result"
    }
   ],
   "source": [
    "rivals = main_content.find_all(\"p\")\n",
    "rivals"
   ]
  },
  {
   "cell_type": "code",
   "execution_count": 14,
   "metadata": {},
   "outputs": [],
   "source": [
    "import re\n",
    "\n",
    "rivals_list = []\n",
    "\n",
    "for rival in rivals:\n",
    "    \n",
    "    rival_text = rival.text\n",
    "\n",
    "    if bool(re.search(\"\\d\\.\", rival_text)) == True:\n",
    "        \n",
    "        rival_text_list = []\n",
    "        \n",
    "        rival_text = rival.text\n",
    "        \n",
    "        rival_text = rival_text.split(\"%\")\n",
    "        \n",
    "        for each in rival_text:\n",
    "\n",
    "            each = each.strip()\n",
    "            each = each[3:-5]\n",
    "            \n",
    "            if len(each) == 0:\n",
    "                \n",
    "                pass\n",
    "            \n",
    "            else:\n",
    "                \n",
    "                if each == \"Leicester City\" or each == \"Man Utd\":\n",
    "    \n",
    "                    each = rename_team(each)\n",
    "                \n",
    "                rival_text_list.append(each)\n",
    "\n",
    "        rivals_list.append(rival_text_list)\n",
    "        \n",
    "    elif rival_text.strip() == \"N/A\":\n",
    "        \n",
    "        rivals_list.append(['n/a'])"
   ]
  },
  {
   "cell_type": "markdown",
   "metadata": {},
   "source": [
    "#### Organise the Football Clubs and their corrosponding \"Rivals\" as a Python Dictionary\n"
   ]
  },
  {
   "cell_type": "markdown",
   "metadata": {},
   "source": [
    "The next challenge was to join the list of football clubs names and there sub-list (ie. List of their rivals). As both of these lists contain the same number of items (ie. 20) . \n",
    "\n",
    "As I wanted to use a dictionary to store the name of the football clubs as value and their rivals as their keys, I created a dictionary with the name ‘master_rivals_dict’. I did this by using the dict(zip()) function on “clubs_clean”  list and “rivals_list”. This was successful as the number of items in both of these lists was the same. \n"
   ]
  },
  {
   "cell_type": "code",
   "execution_count": 15,
   "metadata": {},
   "outputs": [
    {
     "data": {
      "text/plain": [
       "{'Arsenal': ['Tottenham', 'Man United', 'Chelsea', 'Stoke', 'Liverpool'],\n",
       " 'Aston Villa': ['Birmingham',\n",
       "  'West Brom',\n",
       "  'Wolves',\n",
       "  'Man United',\n",
       "  'Coventry'],\n",
       " 'Bournemouth': ['Southampton', 'Portsmouth', 'Brighton', 'Reading', 'Leeds'],\n",
       " 'Brighton': ['Crystal Palace',\n",
       "  'Portsmouth',\n",
       "  'Southampton',\n",
       "  'Bournemouth',\n",
       "  'Man United'],\n",
       " 'Burnley': ['Blackburn', 'Preston', 'Bolton', 'Bradford', 'Blackpool'],\n",
       " 'Chelsea': ['Tottenham', 'Man United', 'Arsenal', 'Liverpool', 'Man City'],\n",
       " 'Crystal Palace': ['Brighton',\n",
       "  'Millwall',\n",
       "  'Charlton',\n",
       "  'Watford',\n",
       "  'Man United'],\n",
       " 'Everton': ['Liverpool', 'Man United', 'Chelsea', 'Man City', 'Newcastle'],\n",
       " 'Leicester City': ['Nottingham Forest',\n",
       "  'Derby',\n",
       "  'Coventry',\n",
       "  'Aston Villa',\n",
       "  'Tottenham'],\n",
       " 'Liverpool': ['Man United', 'Chelsea', 'Man City', 'Everton', 'Arsenal'],\n",
       " 'Man City': ['Liverpool', 'Man United', 'Tottenham', 'Chelsea', 'Arsenal'],\n",
       " 'Man Utd': ['Liverpool', 'Man City', 'Chelsea', 'Leeds', 'Arsenal'],\n",
       " 'Newcastle': ['Sunderland',\n",
       "  'Middlesbrough',\n",
       "  'Liverpool',\n",
       "  'Man United',\n",
       "  'Aston Villa'],\n",
       " 'Norwich': ['Ipswich', 'Colchester', 'Wolves', 'Leeds', 'Middlesbrough'],\n",
       " 'Sheffield United': ['Sheffield Wednesday',\n",
       "  'Leeds',\n",
       "  'Barnsley',\n",
       "  'Rotherham',\n",
       "  'Doncaster'],\n",
       " 'Southampton': ['Portsmouth',\n",
       "  'Bournemouth',\n",
       "  'Brighton',\n",
       "  'Reading',\n",
       "  'Tottenham'],\n",
       " 'Tottenham': ['Arsenal', 'Chelsea', 'West Ham', 'Liverpool', 'Man United'],\n",
       " 'Watford': ['n/a'],\n",
       " 'West Ham': ['Tottenham', 'Millwall', 'Chelsea', 'Man United', 'Liverpool'],\n",
       " 'Wolves': ['West Brom', 'Aston Villa', 'Birmingham', 'Coventry', 'Stoke']}"
      ]
     },
     "execution_count": 15,
     "metadata": {},
     "output_type": "execute_result"
    }
   ],
   "source": [
    "master_rivals_dict = dict(zip(clubs_clean, rivals_list))\n",
    "\n",
    "master_rivals_dict"
   ]
  },
  {
   "cell_type": "markdown",
   "metadata": {},
   "source": [
    "####  Creating a CSV to store Football Rival Teams as structured data"
   ]
  },
  {
   "cell_type": "markdown",
   "metadata": {},
   "source": [
    "To work with this data further, I said the list of football clubs and their respective rivals as a structured data in a CSV file with a name of ‘new_derby_list.csv’. The ‘team’ (key) and ‘rivals’ (value) were set as the field names."
   ]
  },
  {
   "cell_type": "code",
   "execution_count": 16,
   "metadata": {},
   "outputs": [],
   "source": [
    "with open('new_derby_list.csv', 'w') as csvfile:\n",
    "    fieldnames = ['team', 'rivals']\n",
    "    writer = csv.DictWriter(csvfile, fieldnames=fieldnames)\n",
    "    writer.writeheader()\n",
    "    \n",
    "    for key, value in master_rivals_dict.items():\n",
    "        \n",
    "        writer.writerow({'team': key, 'rivals': value})"
   ]
  },
  {
   "cell_type": "markdown",
   "metadata": {},
   "source": [
    " ### Functions to decide if a match is a \"Derby\" or not"
   ]
  },
  {
   "cell_type": "markdown",
   "metadata": {},
   "source": [
    "The next step was to identify which of the matches in our data-sets were ‘Derby’. I created a function called ‘is_derby’. Using the ‘new_derby_list.csv’ the function returns the value ‘derby’ if home team and rivals team match. "
   ]
  },
  {
   "cell_type": "code",
   "execution_count": 17,
   "metadata": {},
   "outputs": [],
   "source": [
    "def is_derby(home, away):\n",
    "\n",
    "    with open ('new_derby_list.csv') as csv_file:\n",
    "\n",
    "        csv_reader = csv.DictReader(csv_file)\n",
    "\n",
    "        for row in csv_reader:\n",
    "            \n",
    "            if row['team'] == home:\n",
    "\n",
    "                row['rivals'] = row['rivals'].strip(\"][\").split(', ')\n",
    "\n",
    "                rival_list = []\n",
    "\n",
    "                for rival in row['rivals']:\n",
    "\n",
    "                    rival = rival.strip(\"''\")\n",
    "\n",
    "                    rival_list.append(rival)\n",
    "\n",
    "                if away in rival_list:\n",
    "\n",
    "                    return \"Derby\""
   ]
  },
  {
   "cell_type": "code",
   "execution_count": 18,
   "metadata": {},
   "outputs": [],
   "source": [
    "premier_league_df.rename(columns={'FTHG': 'HomeTeamGoals', \n",
    "                               'FTAG': 'AwayTeamGoals',\n",
    "                               'FTR': 'Result',\n",
    "                               'HS': 'HomeTeamShots', \n",
    "                               'AS': 'AwayTeamShots', \n",
    "                               'HST': 'HomeTeamOnTarget', \n",
    "                               'AST': 'AwayTeamOnTarget',\n",
    "                                 'HF': 'HomeTeamFouls',\n",
    "                                 'AF': 'AwayTeamFouls',\n",
    "                                 'HY': 'HomeTeamYellowCards',\n",
    "                                 'AY': 'AwayTeamYellowCards',\n",
    "                                 'HR': 'HomeTeamRedCards',\n",
    "                                 'AR': 'AwayTeamRedCards',\n",
    "                              }, inplace=True)"
   ]
  },
  {
   "cell_type": "markdown",
   "metadata": {},
   "source": [
    "### Create additional functions for premier_league_df"
   ]
  },
  {
   "cell_type": "markdown",
   "metadata": {},
   "source": [
    "The next step was to add three additional columns to the ‘premier_leauge_df’. I began with defining the functions which calculate aggression and performance of a team. \n"
   ]
  },
  {
   "cell_type": "markdown",
   "metadata": {},
   "source": [
    "### Function to calculate an \"Team Aggresion Index (TAI)\""
   ]
  },
  {
   "cell_type": "markdown",
   "metadata": {},
   "source": [
    "As the the data had many features such as red card, fouls and goals. I wanted to create an index that would be more meaningful. I created a function called team aggression index. This would includes a combination of yellow card and red cards as a percentage. The assumption is that players due to intense rivalry would commit more fouls and be reprimanded with cards. This can be seen as a measure of aggression in the game and gives an insight into the sentiments in derby matches compared to non-derby matches. \n",
    "\n",
    "Using the lambda method, I applied the aggression function to to all the rows in the premier_leauge_ df’ for both home teams and away teams.  "
   ]
  },
  {
   "cell_type": "code",
   "execution_count": 19,
   "metadata": {},
   "outputs": [],
   "source": [
    "def aggression(fouls, yellow, red):\n",
    "    \n",
    "    # red = red * 4\n",
    "    \n",
    "    cards = yellow + red\n",
    "    \n",
    "    try:\n",
    "\n",
    "        percentage = (cards / fouls) * 100\n",
    "        \n",
    "        return percentage\n",
    "        \n",
    "    except:\n",
    "        \n",
    "        pass"
   ]
  },
  {
   "cell_type": "markdown",
   "metadata": {},
   "source": [
    "### Function to calculate an \"Shot Performance Index (SPI)\""
   ]
  },
  {
   "cell_type": "markdown",
   "metadata": {},
   "source": [
    "Shot performance Index is another function I created to have more insight into the matches. This index is a percentage of good shots  which  is combination  of shots on target and goals of attempted shots. The assumption is that the more intense rivalry would result in better performance due to the extra effort from the players to win the derby match. So I expect the performance to be much higher for derby matches. \n",
    "\n",
    "Using the lambda method, I applied the aggression function to to all the rows in the premier_leauge_ df’ for both home teams and away teams.  "
   ]
  },
  {
   "cell_type": "code",
   "execution_count": 20,
   "metadata": {},
   "outputs": [],
   "source": [
    "def performance(goals, shots, target):\n",
    "    \n",
    "    # goals = goals + (goals * 0.5)\n",
    "    \n",
    "    good_shots = goals + target\n",
    "    \n",
    "    try:\n",
    "\n",
    "        percentage = (good_shots / shots) * 100\n",
    "        \n",
    "        return percentage\n",
    "        \n",
    "    except:\n",
    "        \n",
    "        pass"
   ]
  },
  {
   "cell_type": "code",
   "execution_count": 21,
   "metadata": {},
   "outputs": [],
   "source": [
    "# home team calculations\n",
    "\n",
    "premier_league_df['HomeAggressivePercent'] = premier_league_df.apply(lambda x: aggression(x.HomeTeamFouls, x.HomeTeamYellowCards, x.HomeTeamRedCards), axis=1)\n",
    "premier_league_df['HomePerformancePercent'] = premier_league_df.apply(lambda x: performance(x.HomeTeamGoals, x.HomeTeamShots, x.HomeTeamOnTarget), axis=1)\n",
    "\n",
    "# away team calculations\n",
    "\n",
    "premier_league_df['AwayAggressivePercent'] = premier_league_df.apply(lambda x: aggression(x.AwayTeamFouls, x.AwayTeamYellowCards, x.AwayTeamRedCards), axis=1)\n",
    "premier_league_df['AwayPerformancePercent'] = premier_league_df.apply(lambda x: performance(x.AwayTeamGoals, x.AwayTeamShots, x.AwayTeamOnTarget), axis=1)\n"
   ]
  },
  {
   "cell_type": "markdown",
   "metadata": {},
   "source": [
    "### Use earlier function \"is_derby\" to create a new column for each match and set it's value."
   ]
  },
  {
   "cell_type": "markdown",
   "metadata": {},
   "source": [
    "Using earlier function ‘is_derby’ to create a new column for each match and set a value."
   ]
  },
  {
   "cell_type": "code",
   "execution_count": 22,
   "metadata": {},
   "outputs": [],
   "source": [
    "premier_league_df['Derby'] = premier_league_df.apply(lambda x: is_derby(x.HomeTeam, x.AwayTeam), axis=1)"
   ]
  },
  {
   "cell_type": "markdown",
   "metadata": {},
   "source": [
    "#### Creating Data Frames for Home Teams and Away teams"
   ]
  },
  {
   "cell_type": "markdown",
   "metadata": {},
   "source": [
    "The ‘home_df’ refers to teams data that were playing in their home-city and the ‘away_df’ refers to the teams that are visiting for the matches. This would allow us to look make comparison further.\n"
   ]
  },
  {
   "cell_type": "code",
   "execution_count": 23,
   "metadata": {},
   "outputs": [],
   "source": [
    "home_df = premier_league_df[premier_league_df['HomeTeam'].isin(clubs_clean)]\n",
    "away_df = premier_league_df[premier_league_df['AwayTeam'].isin(clubs_clean)]"
   ]
  },
  {
   "cell_type": "markdown",
   "metadata": {},
   "source": [
    "## Home Games"
   ]
  },
  {
   "cell_type": "markdown",
   "metadata": {},
   "source": [
    "To analyze the data frame further I narrowed down the Home games data frame to ‘Derby’ games by using the the .loc method. \n",
    "\n",
    "\n"
   ]
  },
  {
   "cell_type": "code",
   "execution_count": 24,
   "metadata": {},
   "outputs": [],
   "source": [
    "home_df_derby = home_df['Derby'] == 'Derby'\n",
    "\n",
    "home_df_derby = home_df.loc[home_df_derby]"
   ]
  },
  {
   "cell_type": "markdown",
   "metadata": {},
   "source": [
    "I further chose to focus in on team aggression index (TAI) and shot performance index (SPI) to in derby matches. The first column shows the index values of the teams. The second column accounts for the home aggression score. And the last column shows home performance percent in Derby games that is against their top rivals."
   ]
  },
  {
   "cell_type": "code",
   "execution_count": 25,
   "metadata": {},
   "outputs": [
    {
     "data": {
      "text/html": [
       "<div>\n",
       "<style scoped>\n",
       "    .dataframe tbody tr th:only-of-type {\n",
       "        vertical-align: middle;\n",
       "    }\n",
       "\n",
       "    .dataframe tbody tr th {\n",
       "        vertical-align: top;\n",
       "    }\n",
       "\n",
       "    .dataframe thead th {\n",
       "        text-align: right;\n",
       "    }\n",
       "</style>\n",
       "<table border=\"1\" class=\"dataframe\">\n",
       "  <thead>\n",
       "    <tr style=\"text-align: right;\">\n",
       "      <th></th>\n",
       "      <th>HomeTeam</th>\n",
       "      <th>HomeAggressivePercent</th>\n",
       "      <th>HomePerformancePercent</th>\n",
       "    </tr>\n",
       "  </thead>\n",
       "  <tbody>\n",
       "    <tr>\n",
       "      <th>0</th>\n",
       "      <td>Arsenal</td>\n",
       "      <td>18.289573</td>\n",
       "      <td>49.434202</td>\n",
       "    </tr>\n",
       "    <tr>\n",
       "      <th>1</th>\n",
       "      <td>Aston Villa</td>\n",
       "      <td>17.460317</td>\n",
       "      <td>38.894231</td>\n",
       "    </tr>\n",
       "    <tr>\n",
       "      <th>2</th>\n",
       "      <td>Bournemouth</td>\n",
       "      <td>9.074074</td>\n",
       "      <td>45.340909</td>\n",
       "    </tr>\n",
       "    <tr>\n",
       "      <th>3</th>\n",
       "      <td>Brighton</td>\n",
       "      <td>19.250420</td>\n",
       "      <td>52.913961</td>\n",
       "    </tr>\n",
       "    <tr>\n",
       "      <th>4</th>\n",
       "      <td>Chelsea</td>\n",
       "      <td>18.191104</td>\n",
       "      <td>53.126522</td>\n",
       "    </tr>\n",
       "    <tr>\n",
       "      <th>5</th>\n",
       "      <td>Crystal Palace</td>\n",
       "      <td>11.230159</td>\n",
       "      <td>49.800200</td>\n",
       "    </tr>\n",
       "    <tr>\n",
       "      <th>6</th>\n",
       "      <td>Everton</td>\n",
       "      <td>16.295242</td>\n",
       "      <td>47.039461</td>\n",
       "    </tr>\n",
       "    <tr>\n",
       "      <th>7</th>\n",
       "      <td>Liverpool</td>\n",
       "      <td>13.290669</td>\n",
       "      <td>47.490914</td>\n",
       "    </tr>\n",
       "    <tr>\n",
       "      <th>8</th>\n",
       "      <td>Man City</td>\n",
       "      <td>18.001930</td>\n",
       "      <td>46.781338</td>\n",
       "    </tr>\n",
       "    <tr>\n",
       "      <th>9</th>\n",
       "      <td>Newcastle</td>\n",
       "      <td>20.412971</td>\n",
       "      <td>46.367668</td>\n",
       "    </tr>\n",
       "    <tr>\n",
       "      <th>10</th>\n",
       "      <td>Norwich</td>\n",
       "      <td>28.571429</td>\n",
       "      <td>61.538462</td>\n",
       "    </tr>\n",
       "    <tr>\n",
       "      <th>11</th>\n",
       "      <td>Southampton</td>\n",
       "      <td>20.303030</td>\n",
       "      <td>38.316754</td>\n",
       "    </tr>\n",
       "    <tr>\n",
       "      <th>12</th>\n",
       "      <td>Tottenham</td>\n",
       "      <td>16.559817</td>\n",
       "      <td>48.908026</td>\n",
       "    </tr>\n",
       "    <tr>\n",
       "      <th>13</th>\n",
       "      <td>West Ham</td>\n",
       "      <td>24.040896</td>\n",
       "      <td>46.247591</td>\n",
       "    </tr>\n",
       "    <tr>\n",
       "      <th>14</th>\n",
       "      <td>Wolves</td>\n",
       "      <td>23.529412</td>\n",
       "      <td>41.176471</td>\n",
       "    </tr>\n",
       "  </tbody>\n",
       "</table>\n",
       "</div>"
      ],
      "text/plain": [
       "          HomeTeam  HomeAggressivePercent  HomePerformancePercent\n",
       "0          Arsenal              18.289573               49.434202\n",
       "1      Aston Villa              17.460317               38.894231\n",
       "2      Bournemouth               9.074074               45.340909\n",
       "3         Brighton              19.250420               52.913961\n",
       "4          Chelsea              18.191104               53.126522\n",
       "5   Crystal Palace              11.230159               49.800200\n",
       "6          Everton              16.295242               47.039461\n",
       "7        Liverpool              13.290669               47.490914\n",
       "8         Man City              18.001930               46.781338\n",
       "9        Newcastle              20.412971               46.367668\n",
       "10         Norwich              28.571429               61.538462\n",
       "11     Southampton              20.303030               38.316754\n",
       "12       Tottenham              16.559817               48.908026\n",
       "13        West Ham              24.040896               46.247591\n",
       "14          Wolves              23.529412               41.176471"
      ]
     },
     "execution_count": 25,
     "metadata": {},
     "output_type": "execute_result"
    }
   ],
   "source": [
    "home_df_derby_performance = home_df_derby.groupby('HomeTeam').mean()\n",
    "home_df_derby_performance = home_df_derby_performance[['HomeAggressivePercent', 'HomePerformancePercent']]\n",
    "home_df_derby_performance.reset_index(level=0, inplace=True)\n",
    "home_df_derby_performance"
   ]
  },
  {
   "cell_type": "markdown",
   "metadata": {},
   "source": [
    "### Visualization of Home Derby Games"
   ]
  },
  {
   "cell_type": "markdown",
   "metadata": {},
   "source": [
    "This chart compares the TAI and SPI of all home compares in the data set for derby matches. The orange bar shows the Home Aggression, while blue bar shows the Home Performance. \n"
   ]
  },
  {
   "cell_type": "code",
   "execution_count": 27,
   "metadata": {},
   "outputs": [
    {
     "data": {
      "text/plain": [
       "Text(0.5, 1.0, 'Home Team Performance During a Derby Match (Higher is better)')"
      ]
     },
     "execution_count": 27,
     "metadata": {},
     "output_type": "execute_result"
    },
    {
     "data": {
      "image/png": "[encoded data removed]",
      "text/plain": [
       "<Figure size 432x432 with 1 Axes>"
      ]
     },
     "metadata": {
      "needs_background": "light"
     },
     "output_type": "display_data"
    }
   ],
   "source": [
    "g = sb.catplot(\n",
    "    data=home_df_derby_performance.sort_values(\"HomePerformancePercent\", ascending=False),\n",
    "    kind=\"bar\", x=\"HomePerformancePercent\", y=\"HomeTeam\",\n",
    "    ci=\"sd\", palette=\"Set2\", height=6\n",
    ")\n",
    "g.despine(left=True)\n",
    "g.set_axis_labels(\"Performance Indicator\", \"\")\n",
    "plt.title(\"Home Team Performance During a Derby Match (Higher is better)\")"
   ]
  },
  {
   "cell_type": "code",
   "execution_count": 29,
   "metadata": {},
   "outputs": [
    {
     "data": {
      "text/plain": [
       "Text(0.5, 1.0, 'Home Team Aggression During a Derby Match (Higher is better)')"
      ]
     },
     "execution_count": 29,
     "metadata": {},
     "output_type": "execute_result"
    },
    {
     "data": {
      "image/png": "[encoded data removed]",
      "text/plain": [
       "<Figure size 432x432 with 1 Axes>"
      ]
     },
     "metadata": {
      "needs_background": "light"
     },
     "output_type": "display_data"
    }
   ],
   "source": [
    "g = sb.catplot(\n",
    "    data=home_df_derby_performance.sort_values(\"HomeAggressivePercent\", ascending=False),\n",
    "    kind=\"bar\", x=\"HomeAggressivePercent\", y=\"HomeTeam\",\n",
    "    ci=\"sd\", palette=\"Set2\", height=6\n",
    ")\n",
    "g.despine(left=True)\n",
    "g.set_axis_labels(\"Agression Indicator\", \"\")\n",
    "plt.title(\"Home Team Aggression During a Derby Match (Higher is better)\")"
   ]
  },
  {
   "cell_type": "markdown",
   "metadata": {},
   "source": [
    "#### Home non-Derby games"
   ]
  },
  {
   "cell_type": "markdown",
   "metadata": {},
   "source": [
    "To analyze the data set further I narrowed down the Home games data frame to ‘Non-Derby’ games by using the the .loc method and looking for instances that there value is null. "
   ]
  },
  {
   "cell_type": "code",
   "execution_count": 30,
   "metadata": {},
   "outputs": [],
   "source": [
    "home_df_non_derby = home_df['Derby'].isnull()\n",
    "\n",
    "home_df_non_derby = home_df.loc[home_df_non_derby]"
   ]
  },
  {
   "cell_type": "markdown",
   "metadata": {},
   "source": [
    "#### Performance during home non-Derby Games"
   ]
  },
  {
   "cell_type": "code",
   "execution_count": 31,
   "metadata": {},
   "outputs": [
    {
     "data": {
      "text/html": [
       "<div>\n",
       "<style scoped>\n",
       "    .dataframe tbody tr th:only-of-type {\n",
       "        vertical-align: middle;\n",
       "    }\n",
       "\n",
       "    .dataframe tbody tr th {\n",
       "        vertical-align: top;\n",
       "    }\n",
       "\n",
       "    .dataframe thead th {\n",
       "        text-align: right;\n",
       "    }\n",
       "</style>\n",
       "<table border=\"1\" class=\"dataframe\">\n",
       "  <thead>\n",
       "    <tr style=\"text-align: right;\">\n",
       "      <th></th>\n",
       "      <th>HomeTeam</th>\n",
       "      <th>HomeAggressivePercent</th>\n",
       "      <th>HomePerformancePercent</th>\n",
       "    </tr>\n",
       "  </thead>\n",
       "  <tbody>\n",
       "    <tr>\n",
       "      <th>0</th>\n",
       "      <td>Arsenal</td>\n",
       "      <td>18.289573</td>\n",
       "      <td>49.434202</td>\n",
       "    </tr>\n",
       "    <tr>\n",
       "      <th>1</th>\n",
       "      <td>Aston Villa</td>\n",
       "      <td>17.460317</td>\n",
       "      <td>38.894231</td>\n",
       "    </tr>\n",
       "    <tr>\n",
       "      <th>2</th>\n",
       "      <td>Bournemouth</td>\n",
       "      <td>9.074074</td>\n",
       "      <td>45.340909</td>\n",
       "    </tr>\n",
       "    <tr>\n",
       "      <th>3</th>\n",
       "      <td>Brighton</td>\n",
       "      <td>19.250420</td>\n",
       "      <td>52.913961</td>\n",
       "    </tr>\n",
       "    <tr>\n",
       "      <th>4</th>\n",
       "      <td>Chelsea</td>\n",
       "      <td>18.191104</td>\n",
       "      <td>53.126522</td>\n",
       "    </tr>\n",
       "    <tr>\n",
       "      <th>5</th>\n",
       "      <td>Crystal Palace</td>\n",
       "      <td>11.230159</td>\n",
       "      <td>49.800200</td>\n",
       "    </tr>\n",
       "    <tr>\n",
       "      <th>6</th>\n",
       "      <td>Everton</td>\n",
       "      <td>16.295242</td>\n",
       "      <td>47.039461</td>\n",
       "    </tr>\n",
       "    <tr>\n",
       "      <th>7</th>\n",
       "      <td>Liverpool</td>\n",
       "      <td>13.290669</td>\n",
       "      <td>47.490914</td>\n",
       "    </tr>\n",
       "    <tr>\n",
       "      <th>8</th>\n",
       "      <td>Man City</td>\n",
       "      <td>18.001930</td>\n",
       "      <td>46.781338</td>\n",
       "    </tr>\n",
       "    <tr>\n",
       "      <th>9</th>\n",
       "      <td>Newcastle</td>\n",
       "      <td>20.412971</td>\n",
       "      <td>46.367668</td>\n",
       "    </tr>\n",
       "    <tr>\n",
       "      <th>10</th>\n",
       "      <td>Norwich</td>\n",
       "      <td>28.571429</td>\n",
       "      <td>61.538462</td>\n",
       "    </tr>\n",
       "    <tr>\n",
       "      <th>11</th>\n",
       "      <td>Southampton</td>\n",
       "      <td>20.303030</td>\n",
       "      <td>38.316754</td>\n",
       "    </tr>\n",
       "    <tr>\n",
       "      <th>12</th>\n",
       "      <td>Tottenham</td>\n",
       "      <td>16.559817</td>\n",
       "      <td>48.908026</td>\n",
       "    </tr>\n",
       "    <tr>\n",
       "      <th>13</th>\n",
       "      <td>West Ham</td>\n",
       "      <td>24.040896</td>\n",
       "      <td>46.247591</td>\n",
       "    </tr>\n",
       "    <tr>\n",
       "      <th>14</th>\n",
       "      <td>Wolves</td>\n",
       "      <td>23.529412</td>\n",
       "      <td>41.176471</td>\n",
       "    </tr>\n",
       "  </tbody>\n",
       "</table>\n",
       "</div>"
      ],
      "text/plain": [
       "          HomeTeam  HomeAggressivePercent  HomePerformancePercent\n",
       "0          Arsenal              18.289573               49.434202\n",
       "1      Aston Villa              17.460317               38.894231\n",
       "2      Bournemouth               9.074074               45.340909\n",
       "3         Brighton              19.250420               52.913961\n",
       "4          Chelsea              18.191104               53.126522\n",
       "5   Crystal Palace              11.230159               49.800200\n",
       "6          Everton              16.295242               47.039461\n",
       "7        Liverpool              13.290669               47.490914\n",
       "8         Man City              18.001930               46.781338\n",
       "9        Newcastle              20.412971               46.367668\n",
       "10         Norwich              28.571429               61.538462\n",
       "11     Southampton              20.303030               38.316754\n",
       "12       Tottenham              16.559817               48.908026\n",
       "13        West Ham              24.040896               46.247591\n",
       "14          Wolves              23.529412               41.176471"
      ]
     },
     "execution_count": 31,
     "metadata": {},
     "output_type": "execute_result"
    }
   ],
   "source": [
    "home_df_non_derby_performance = home_df_non_derby.groupby('HomeTeam').mean()\n",
    "home_df_non_derby_performance = home_df_non_derby_performance[['HomeAggressivePercent', 'HomePerformancePercent']]\n",
    "home_df_non_derby_performance.reset_index(level=0, inplace=True)\n",
    "home_df_derby_performance"
   ]
  },
  {
   "cell_type": "markdown",
   "metadata": {},
   "source": [
    "#### Visualisation of Home Non- Derby Games"
   ]
  },
  {
   "cell_type": "code",
   "execution_count": 32,
   "metadata": {},
   "outputs": [
    {
     "data": {
      "text/plain": [
       "Text(0.5, 1.0, 'Home Team Performance During a Non Derby Match (Higher is better)')"
      ]
     },
     "execution_count": 32,
     "metadata": {},
     "output_type": "execute_result"
    },
    {
     "data": {
      "image/png": "[encoded data removed]",
      "text/plain": [
       "<Figure size 432x432 with 1 Axes>"
      ]
     },
     "metadata": {
      "needs_background": "light"
     },
     "output_type": "display_data"
    }
   ],
   "source": [
    "g = sb.catplot(\n",
    "    data=home_df_non_derby_performance.sort_values(\"HomePerformancePercent\", ascending=False),\n",
    "    kind=\"bar\", x=\"HomePerformancePercent\", y=\"HomeTeam\",\n",
    "    ci=\"sd\", palette=\"Set2\", height=6\n",
    ")\n",
    "g.despine(left=True)\n",
    "g.set_axis_labels(\"Performance Indicator\", \"\")\n",
    "plt.title(\"Home Team Performance During a Non Derby Match (Higher is better)\")"
   ]
  },
  {
   "cell_type": "code",
   "execution_count": 33,
   "metadata": {},
   "outputs": [
    {
     "data": {
      "text/plain": [
       "Text(0.5, 1.0, 'Home Team Aggression During a Non Derby Match (Higher is better)')"
      ]
     },
     "execution_count": 33,
     "metadata": {},
     "output_type": "execute_result"
    },
    {
     "data": {
      "image/png": "[encoded data removed]",
      "text/plain": [
       "<Figure size 432x432 with 1 Axes>"
      ]
     },
     "metadata": {
      "needs_background": "light"
     },
     "output_type": "display_data"
    }
   ],
   "source": [
    "g = sb.catplot(\n",
    "    data=home_df_non_derby_performance.sort_values(\"HomeAggressivePercent\", ascending=False),\n",
    "    kind=\"bar\", x=\"HomeAggressivePercent\", y=\"HomeTeam\",\n",
    "    ci=\"sd\", palette=\"Set2\", height=6\n",
    ")\n",
    "g.despine(left=True)\n",
    "g.set_axis_labels(\"Agression Indicator\", \"\")\n",
    "plt.title(\"Home Team Aggression During a Non Derby Match (Higher is better)\")"
   ]
  },
  {
   "cell_type": "markdown",
   "metadata": {},
   "source": [
    "### Analysis \n"
   ]
  },
  {
   "cell_type": "markdown",
   "metadata": {},
   "source": [
    "When we compare these two different visualization, we can notice some differences. In comparison aggression for most teams playing from their home cities is affected if they are playing in a derby match verses the non-derby matches as expected. When we compare on Norwich performance in Derby games and in Non-Derby games we can see this trend highlighted. When it comes to  derby games from their home city, Norwich performance is far superior, crossing the 60% threshold. While Norwich is not barely crosses the 50% performance threshold when it comes to  non-derby games in their home city. This pattern can also be observed in other teams as well. \n",
    "\n",
    "When it comes to Norwich Aggression percentage we can observe a similar trend. While playing in their home city in a derby match, they perform above the 30% level. Comparing this to their performance in playing their home city in a non-derby match we can see it barely crosses the 20% level. While playing in derby matches, there is a higher likelihood of them to play more aggressively resulting in more red and yellow cards. This also points to the fact that they are also more likely to have more goals and shot on target. \n"
   ]
  },
  {
   "cell_type": "markdown",
   "metadata": {},
   "source": [
    "## Away Games"
   ]
  },
  {
   "cell_type": "markdown",
   "metadata": {},
   "source": [
    "#### Away Derby Games"
   ]
  },
  {
   "cell_type": "markdown",
   "metadata": {},
   "source": [
    "To analyze the data frame further I narrowed down the Away games data frame to ‘Derby’ games by using the the .loc method. "
   ]
  },
  {
   "cell_type": "code",
   "execution_count": 34,
   "metadata": {},
   "outputs": [],
   "source": [
    "away_df_derby = away_df['Derby'] == 'Derby'\n",
    "\n",
    "away_df_derby = away_df.loc[away_df_derby]"
   ]
  },
  {
   "cell_type": "markdown",
   "metadata": {},
   "source": [
    "#### Performance Score During Derby Games Away"
   ]
  },
  {
   "cell_type": "markdown",
   "metadata": {},
   "source": [
    "I further chose to focus in on team aggression index (TAI) and shot performance index (SPI) to in derby matches. The first column shows the index values of the teams. The second column accounts for the away aggression score. And the last column shows away performance percent in Derby games that is against their top rivals."
   ]
  },
  {
   "cell_type": "code",
   "execution_count": 35,
   "metadata": {},
   "outputs": [
    {
     "data": {
      "text/html": [
       "<div>\n",
       "<style scoped>\n",
       "    .dataframe tbody tr th:only-of-type {\n",
       "        vertical-align: middle;\n",
       "    }\n",
       "\n",
       "    .dataframe tbody tr th {\n",
       "        vertical-align: top;\n",
       "    }\n",
       "\n",
       "    .dataframe thead th {\n",
       "        text-align: right;\n",
       "    }\n",
       "</style>\n",
       "<table border=\"1\" class=\"dataframe\">\n",
       "  <thead>\n",
       "    <tr style=\"text-align: right;\">\n",
       "      <th></th>\n",
       "      <th>AwayTeam</th>\n",
       "      <th>AwayAggressivePercent</th>\n",
       "      <th>AwayPerformancePercent</th>\n",
       "    </tr>\n",
       "  </thead>\n",
       "  <tbody>\n",
       "    <tr>\n",
       "      <th>0</th>\n",
       "      <td>Arsenal</td>\n",
       "      <td>24.878791</td>\n",
       "      <td>52.276904</td>\n",
       "    </tr>\n",
       "    <tr>\n",
       "      <th>1</th>\n",
       "      <td>Aston Villa</td>\n",
       "      <td>30.059524</td>\n",
       "      <td>47.179487</td>\n",
       "    </tr>\n",
       "    <tr>\n",
       "      <th>2</th>\n",
       "      <td>Bournemouth</td>\n",
       "      <td>18.619529</td>\n",
       "      <td>42.184066</td>\n",
       "    </tr>\n",
       "    <tr>\n",
       "      <th>3</th>\n",
       "      <td>Brighton</td>\n",
       "      <td>10.373932</td>\n",
       "      <td>45.753968</td>\n",
       "    </tr>\n",
       "    <tr>\n",
       "      <th>4</th>\n",
       "      <td>Chelsea</td>\n",
       "      <td>19.790383</td>\n",
       "      <td>41.695244</td>\n",
       "    </tr>\n",
       "    <tr>\n",
       "      <th>5</th>\n",
       "      <td>Crystal Palace</td>\n",
       "      <td>12.500000</td>\n",
       "      <td>36.666667</td>\n",
       "    </tr>\n",
       "    <tr>\n",
       "      <th>6</th>\n",
       "      <td>Everton</td>\n",
       "      <td>21.150299</td>\n",
       "      <td>48.905724</td>\n",
       "    </tr>\n",
       "    <tr>\n",
       "      <th>7</th>\n",
       "      <td>Liverpool</td>\n",
       "      <td>16.887920</td>\n",
       "      <td>48.427758</td>\n",
       "    </tr>\n",
       "    <tr>\n",
       "      <th>8</th>\n",
       "      <td>Man City</td>\n",
       "      <td>20.913175</td>\n",
       "      <td>44.749247</td>\n",
       "    </tr>\n",
       "    <tr>\n",
       "      <th>9</th>\n",
       "      <td>Newcastle</td>\n",
       "      <td>20.040404</td>\n",
       "      <td>44.682540</td>\n",
       "    </tr>\n",
       "    <tr>\n",
       "      <th>10</th>\n",
       "      <td>Southampton</td>\n",
       "      <td>13.214286</td>\n",
       "      <td>43.650794</td>\n",
       "    </tr>\n",
       "    <tr>\n",
       "      <th>11</th>\n",
       "      <td>Tottenham</td>\n",
       "      <td>20.604204</td>\n",
       "      <td>54.400320</td>\n",
       "    </tr>\n",
       "    <tr>\n",
       "      <th>12</th>\n",
       "      <td>Watford</td>\n",
       "      <td>12.314815</td>\n",
       "      <td>42.063492</td>\n",
       "    </tr>\n",
       "    <tr>\n",
       "      <th>13</th>\n",
       "      <td>West Ham</td>\n",
       "      <td>22.743056</td>\n",
       "      <td>55.113636</td>\n",
       "    </tr>\n",
       "    <tr>\n",
       "      <th>14</th>\n",
       "      <td>Wolves</td>\n",
       "      <td>28.571429</td>\n",
       "      <td>42.857143</td>\n",
       "    </tr>\n",
       "  </tbody>\n",
       "</table>\n",
       "</div>"
      ],
      "text/plain": [
       "          AwayTeam  AwayAggressivePercent  AwayPerformancePercent\n",
       "0          Arsenal              24.878791               52.276904\n",
       "1      Aston Villa              30.059524               47.179487\n",
       "2      Bournemouth              18.619529               42.184066\n",
       "3         Brighton              10.373932               45.753968\n",
       "4          Chelsea              19.790383               41.695244\n",
       "5   Crystal Palace              12.500000               36.666667\n",
       "6          Everton              21.150299               48.905724\n",
       "7        Liverpool              16.887920               48.427758\n",
       "8         Man City              20.913175               44.749247\n",
       "9        Newcastle              20.040404               44.682540\n",
       "10     Southampton              13.214286               43.650794\n",
       "11       Tottenham              20.604204               54.400320\n",
       "12         Watford              12.314815               42.063492\n",
       "13        West Ham              22.743056               55.113636\n",
       "14          Wolves              28.571429               42.857143"
      ]
     },
     "execution_count": 35,
     "metadata": {},
     "output_type": "execute_result"
    }
   ],
   "source": [
    "away_df_derby_performance = away_df_derby.groupby('AwayTeam').mean()\n",
    "away_df_derby_performance = away_df_derby_performance[['AwayAggressivePercent', 'AwayPerformancePercent']]\n",
    "away_df_derby_performance.reset_index(level=0, inplace=True)\n",
    "away_df_derby_performance"
   ]
  },
  {
   "cell_type": "markdown",
   "metadata": {},
   "source": [
    "### Visualization of Away Derby Games\n"
   ]
  },
  {
   "cell_type": "markdown",
   "metadata": {},
   "source": [
    "This chart compares the TAI and SPI of all teams compares in the data set for derby matches. The orange bar shows the Away Aggression, while blue bar shows the Away Performance. "
   ]
  },
  {
   "cell_type": "code",
   "execution_count": 36,
   "metadata": {},
   "outputs": [
    {
     "data": {
      "text/plain": [
       "Text(0.5, 1.0, 'Away Team Performance During a Derby Match (Higher is better)')"
      ]
     },
     "execution_count": 36,
     "metadata": {},
     "output_type": "execute_result"
    },
    {
     "data": {
      "image/png": "[encoded data removed]",
      "text/plain": [
       "<Figure size 432x432 with 1 Axes>"
      ]
     },
     "metadata": {
      "needs_background": "light"
     },
     "output_type": "display_data"
    }
   ],
   "source": [
    "g = sb.catplot(\n",
    "    data=away_df_derby_performance.sort_values(\"AwayPerformancePercent\", ascending=False),\n",
    "    kind=\"bar\", x=\"AwayPerformancePercent\", y=\"AwayTeam\",\n",
    "    ci=\"sd\", palette=\"Set2\", height=6\n",
    ")\n",
    "g.despine(left=True)\n",
    "g.set_axis_labels(\"Performance Indicator\", \"\")\n",
    "plt.title(\"Away Team Performance During a Derby Match (Higher is better)\")"
   ]
  },
  {
   "cell_type": "code",
   "execution_count": 37,
   "metadata": {},
   "outputs": [
    {
     "data": {
      "text/plain": [
       "Text(0.5, 1.0, 'Away Team Aggression During a Derby Match (Higher is better)')"
      ]
     },
     "execution_count": 37,
     "metadata": {},
     "output_type": "execute_result"
    },
    {
     "data": {
      "image/png": "[encoded data removed]",
      "text/plain": [
       "<Figure size 432x432 with 1 Axes>"
      ]
     },
     "metadata": {
      "needs_background": "light"
     },
     "output_type": "display_data"
    }
   ],
   "source": [
    "g = sb.catplot(\n",
    "    data=away_df_derby_performance.sort_values(\"AwayAggressivePercent\", ascending=False),\n",
    "    kind=\"bar\", x=\"AwayAggressivePercent\", y=\"AwayTeam\",\n",
    "    ci=\"sd\", palette=\"Set2\", height=6\n",
    ")\n",
    "g.despine(left=True)\n",
    "g.set_axis_labels(\"Agression Indicator\", \"\")\n",
    "plt.title(\"Away Team Aggression During a Derby Match (Higher is better)\")"
   ]
  },
  {
   "cell_type": "markdown",
   "metadata": {},
   "source": [
    "#### Away non-derby games"
   ]
  },
  {
   "cell_type": "markdown",
   "metadata": {},
   "source": [
    "To analyze the data set further I narrowed down the Away games data frame to ‘Non-Derby’ games by using the the .loc method and looking for instances that there value is null. "
   ]
  },
  {
   "cell_type": "code",
   "execution_count": 38,
   "metadata": {},
   "outputs": [],
   "source": [
    "away_df_non_derby = away_df['Derby'].isnull()\n",
    "\n",
    "away_df_non_derby = away_df.loc[away_df_non_derby]"
   ]
  },
  {
   "cell_type": "markdown",
   "metadata": {},
   "source": [
    "#### Away non-derby games performance"
   ]
  },
  {
   "cell_type": "code",
   "execution_count": 39,
   "metadata": {},
   "outputs": [
    {
     "data": {
      "text/html": [
       "<div>\n",
       "<style scoped>\n",
       "    .dataframe tbody tr th:only-of-type {\n",
       "        vertical-align: middle;\n",
       "    }\n",
       "\n",
       "    .dataframe tbody tr th {\n",
       "        vertical-align: top;\n",
       "    }\n",
       "\n",
       "    .dataframe thead th {\n",
       "        text-align: right;\n",
       "    }\n",
       "</style>\n",
       "<table border=\"1\" class=\"dataframe\">\n",
       "  <thead>\n",
       "    <tr style=\"text-align: right;\">\n",
       "      <th></th>\n",
       "      <th>AwayTeam</th>\n",
       "      <th>AwayAggressivePercent</th>\n",
       "      <th>AwayPerformancePercent</th>\n",
       "    </tr>\n",
       "  </thead>\n",
       "  <tbody>\n",
       "    <tr>\n",
       "      <th>0</th>\n",
       "      <td>Arsenal</td>\n",
       "      <td>15.851848</td>\n",
       "      <td>50.880792</td>\n",
       "    </tr>\n",
       "    <tr>\n",
       "      <th>1</th>\n",
       "      <td>Aston Villa</td>\n",
       "      <td>18.401427</td>\n",
       "      <td>41.313415</td>\n",
       "    </tr>\n",
       "    <tr>\n",
       "      <th>2</th>\n",
       "      <td>Bournemouth</td>\n",
       "      <td>16.211362</td>\n",
       "      <td>43.463424</td>\n",
       "    </tr>\n",
       "    <tr>\n",
       "      <th>3</th>\n",
       "      <td>Brighton</td>\n",
       "      <td>11.680955</td>\n",
       "      <td>40.216072</td>\n",
       "    </tr>\n",
       "    <tr>\n",
       "      <th>4</th>\n",
       "      <td>Burnley</td>\n",
       "      <td>19.373910</td>\n",
       "      <td>43.483343</td>\n",
       "    </tr>\n",
       "    <tr>\n",
       "      <th>5</th>\n",
       "      <td>Chelsea</td>\n",
       "      <td>16.804340</td>\n",
       "      <td>50.657632</td>\n",
       "    </tr>\n",
       "    <tr>\n",
       "      <th>6</th>\n",
       "      <td>Crystal Palace</td>\n",
       "      <td>15.389548</td>\n",
       "      <td>42.640577</td>\n",
       "    </tr>\n",
       "    <tr>\n",
       "      <th>7</th>\n",
       "      <td>Everton</td>\n",
       "      <td>15.041179</td>\n",
       "      <td>47.066848</td>\n",
       "    </tr>\n",
       "    <tr>\n",
       "      <th>8</th>\n",
       "      <td>Liverpool</td>\n",
       "      <td>16.059860</td>\n",
       "      <td>51.358386</td>\n",
       "    </tr>\n",
       "    <tr>\n",
       "      <th>9</th>\n",
       "      <td>Man City</td>\n",
       "      <td>18.216394</td>\n",
       "      <td>51.771958</td>\n",
       "    </tr>\n",
       "    <tr>\n",
       "      <th>10</th>\n",
       "      <td>Newcastle</td>\n",
       "      <td>14.256582</td>\n",
       "      <td>44.267221</td>\n",
       "    </tr>\n",
       "    <tr>\n",
       "      <th>11</th>\n",
       "      <td>Norwich</td>\n",
       "      <td>16.756637</td>\n",
       "      <td>36.199743</td>\n",
       "    </tr>\n",
       "    <tr>\n",
       "      <th>12</th>\n",
       "      <td>Sheffield United</td>\n",
       "      <td>19.342758</td>\n",
       "      <td>51.642247</td>\n",
       "    </tr>\n",
       "    <tr>\n",
       "      <th>13</th>\n",
       "      <td>Southampton</td>\n",
       "      <td>16.312093</td>\n",
       "      <td>42.994522</td>\n",
       "    </tr>\n",
       "    <tr>\n",
       "      <th>14</th>\n",
       "      <td>Tottenham</td>\n",
       "      <td>16.160121</td>\n",
       "      <td>50.869885</td>\n",
       "    </tr>\n",
       "    <tr>\n",
       "      <th>15</th>\n",
       "      <td>Watford</td>\n",
       "      <td>14.937504</td>\n",
       "      <td>42.047992</td>\n",
       "    </tr>\n",
       "    <tr>\n",
       "      <th>16</th>\n",
       "      <td>West Ham</td>\n",
       "      <td>18.192224</td>\n",
       "      <td>48.236969</td>\n",
       "    </tr>\n",
       "    <tr>\n",
       "      <th>17</th>\n",
       "      <td>Wolves</td>\n",
       "      <td>14.074563</td>\n",
       "      <td>46.298170</td>\n",
       "    </tr>\n",
       "  </tbody>\n",
       "</table>\n",
       "</div>"
      ],
      "text/plain": [
       "            AwayTeam  AwayAggressivePercent  AwayPerformancePercent\n",
       "0            Arsenal              15.851848               50.880792\n",
       "1        Aston Villa              18.401427               41.313415\n",
       "2        Bournemouth              16.211362               43.463424\n",
       "3           Brighton              11.680955               40.216072\n",
       "4            Burnley              19.373910               43.483343\n",
       "5            Chelsea              16.804340               50.657632\n",
       "6     Crystal Palace              15.389548               42.640577\n",
       "7            Everton              15.041179               47.066848\n",
       "8          Liverpool              16.059860               51.358386\n",
       "9           Man City              18.216394               51.771958\n",
       "10         Newcastle              14.256582               44.267221\n",
       "11           Norwich              16.756637               36.199743\n",
       "12  Sheffield United              19.342758               51.642247\n",
       "13       Southampton              16.312093               42.994522\n",
       "14         Tottenham              16.160121               50.869885\n",
       "15           Watford              14.937504               42.047992\n",
       "16          West Ham              18.192224               48.236969\n",
       "17            Wolves              14.074563               46.298170"
      ]
     },
     "execution_count": 39,
     "metadata": {},
     "output_type": "execute_result"
    }
   ],
   "source": [
    "away_df_non_derby_performance = away_df_non_derby.groupby('AwayTeam').mean()\n",
    "away_df_non_derby_performance = away_df_non_derby_performance[['AwayAggressivePercent', 'AwayPerformancePercent']]\n",
    "away_df_non_derby_performance.reset_index(level=0, inplace=True)\n",
    "away_df_non_derby_performance"
   ]
  },
  {
   "cell_type": "markdown",
   "metadata": {},
   "source": [
    "#### Visualisation of Away non-derby games performance"
   ]
  },
  {
   "cell_type": "markdown",
   "metadata": {},
   "source": [
    "This chart compares the TAI and SPI of all teams away compares in the data set for non-derby matches. The orange bar shows the Away Aggression, while blue bar shows the Away Performance. \n"
   ]
  },
  {
   "cell_type": "code",
   "execution_count": 40,
   "metadata": {},
   "outputs": [
    {
     "data": {
      "text/plain": [
       "Text(0.5, 1.0, 'Away Team Performance During a Non Derby Match (Higher is better)')"
      ]
     },
     "execution_count": 40,
     "metadata": {},
     "output_type": "execute_result"
    },
    {
     "data": {
      "image/png": "[encoded data removed]",
      "text/plain": [
       "<Figure size 432x432 with 1 Axes>"
      ]
     },
     "metadata": {
      "needs_background": "light"
     },
     "output_type": "display_data"
    }
   ],
   "source": [
    "g = sb.catplot(\n",
    "    data=away_df_non_derby_performance.sort_values(\"AwayPerformancePercent\", ascending=False),\n",
    "    kind=\"bar\", x=\"AwayPerformancePercent\", y=\"AwayTeam\",\n",
    "    ci=\"sd\", palette=\"Set2\", height=6\n",
    ")\n",
    "g.despine(left=True)\n",
    "g.set_axis_labels(\"Performance Indicator\", \"\")\n",
    "plt.title(\"Away Team Performance During a Non Derby Match (Higher is better)\")"
   ]
  },
  {
   "cell_type": "code",
   "execution_count": 41,
   "metadata": {},
   "outputs": [
    {
     "data": {
      "text/plain": [
       "Text(0.5, 1.0, 'Away Team Aggression During a Non Derby Match (Higher is better)')"
      ]
     },
     "execution_count": 41,
     "metadata": {},
     "output_type": "execute_result"
    },
    {
     "data": {
      "image/png": "[encoded data removed]",
      "text/plain": [
       "<Figure size 432x432 with 1 Axes>"
      ]
     },
     "metadata": {
      "needs_background": "light"
     },
     "output_type": "display_data"
    }
   ],
   "source": [
    "g = sb.catplot(\n",
    "    data=away_df_non_derby_performance.sort_values(\"AwayAggressivePercent\", ascending=False),\n",
    "    kind=\"bar\", x=\"AwayAggressivePercent\", y=\"AwayTeam\",\n",
    "    ci=\"sd\", palette=\"Set2\", height=6\n",
    ")\n",
    "g.despine(left=True)\n",
    "g.set_axis_labels(\"Agression Indicator\", \"\")\n",
    "plt.title(\"Away Team Aggression During a Non Derby Match (Higher is better)\")"
   ]
  },
  {
   "cell_type": "markdown",
   "metadata": {},
   "source": [
    "## Anaylsis\n"
   ]
  },
  {
   "cell_type": "markdown",
   "metadata": {},
   "source": [
    "While comparing these two visualizations we can notice some trend differences. In comparison aggression for most teams and playing while visiting other cities is affected if they are playing in a derby match verses non-derby matches as expected. When we compare the Manchester City performance in Derby games and in Non-Derby games we can see this trend highlighted. When it comes to derby games while be visiting another city in a Derby match, they are above the 50% mark. While Manchester City is not crossing the 50% mark in performance when playing in non-derby matches while being the away team. This pattern can also be observed in other teams as well. \n",
    "\n",
    "This pattens can also been seen when we compare the aggression index values as well. Aston villa when playing in a derby match while being the visiting city is above the 20% threshold. However when playing in non-derby match Aston Villa is well below the 20% mark. "
   ]
  },
  {
   "cell_type": "markdown",
   "metadata": {},
   "source": [
    "## 5. Merging Home Data with Away Data"
   ]
  },
  {
   "cell_type": "markdown",
   "metadata": {},
   "source": [
    "\n",
    "1. Merge Derby Home and Away\n",
    "2. Using concat functions to combined the DFs"
   ]
  },
  {
   "cell_type": "code",
   "execution_count": 42,
   "metadata": {},
   "outputs": [
    {
     "data": {
      "text/html": [
       "<div>\n",
       "<style scoped>\n",
       "    .dataframe tbody tr th:only-of-type {\n",
       "        vertical-align: middle;\n",
       "    }\n",
       "\n",
       "    .dataframe tbody tr th {\n",
       "        vertical-align: top;\n",
       "    }\n",
       "\n",
       "    .dataframe thead th {\n",
       "        text-align: right;\n",
       "    }\n",
       "</style>\n",
       "<table border=\"1\" class=\"dataframe\">\n",
       "  <thead>\n",
       "    <tr style=\"text-align: right;\">\n",
       "      <th></th>\n",
       "      <th>Team</th>\n",
       "      <th>Aggressive</th>\n",
       "      <th>Performance</th>\n",
       "    </tr>\n",
       "  </thead>\n",
       "  <tbody>\n",
       "    <tr>\n",
       "      <th>0</th>\n",
       "      <td>Arsenal</td>\n",
       "      <td>21.584182</td>\n",
       "      <td>50.855553</td>\n",
       "    </tr>\n",
       "    <tr>\n",
       "      <th>1</th>\n",
       "      <td>Aston Villa</td>\n",
       "      <td>23.759921</td>\n",
       "      <td>43.036859</td>\n",
       "    </tr>\n",
       "    <tr>\n",
       "      <th>2</th>\n",
       "      <td>Bournemouth</td>\n",
       "      <td>13.846801</td>\n",
       "      <td>43.762488</td>\n",
       "    </tr>\n",
       "    <tr>\n",
       "      <th>3</th>\n",
       "      <td>Brighton</td>\n",
       "      <td>14.812176</td>\n",
       "      <td>49.333965</td>\n",
       "    </tr>\n",
       "    <tr>\n",
       "      <th>4</th>\n",
       "      <td>Chelsea</td>\n",
       "      <td>18.990744</td>\n",
       "      <td>47.410883</td>\n",
       "    </tr>\n",
       "    <tr>\n",
       "      <th>5</th>\n",
       "      <td>Crystal Palace</td>\n",
       "      <td>11.865079</td>\n",
       "      <td>43.233433</td>\n",
       "    </tr>\n",
       "    <tr>\n",
       "      <th>6</th>\n",
       "      <td>Everton</td>\n",
       "      <td>18.722770</td>\n",
       "      <td>47.972592</td>\n",
       "    </tr>\n",
       "    <tr>\n",
       "      <th>7</th>\n",
       "      <td>Liverpool</td>\n",
       "      <td>15.089294</td>\n",
       "      <td>47.959336</td>\n",
       "    </tr>\n",
       "    <tr>\n",
       "      <th>8</th>\n",
       "      <td>Man City</td>\n",
       "      <td>19.457553</td>\n",
       "      <td>45.765292</td>\n",
       "    </tr>\n",
       "    <tr>\n",
       "      <th>9</th>\n",
       "      <td>Newcastle</td>\n",
       "      <td>20.226687</td>\n",
       "      <td>45.525104</td>\n",
       "    </tr>\n",
       "    <tr>\n",
       "      <th>10</th>\n",
       "      <td>Norwich</td>\n",
       "      <td>28.571429</td>\n",
       "      <td>61.538462</td>\n",
       "    </tr>\n",
       "    <tr>\n",
       "      <th>11</th>\n",
       "      <td>Southampton</td>\n",
       "      <td>16.758658</td>\n",
       "      <td>40.983774</td>\n",
       "    </tr>\n",
       "    <tr>\n",
       "      <th>12</th>\n",
       "      <td>Tottenham</td>\n",
       "      <td>18.582011</td>\n",
       "      <td>51.654173</td>\n",
       "    </tr>\n",
       "    <tr>\n",
       "      <th>13</th>\n",
       "      <td>Watford</td>\n",
       "      <td>12.314815</td>\n",
       "      <td>42.063492</td>\n",
       "    </tr>\n",
       "    <tr>\n",
       "      <th>14</th>\n",
       "      <td>West Ham</td>\n",
       "      <td>23.391976</td>\n",
       "      <td>50.680614</td>\n",
       "    </tr>\n",
       "    <tr>\n",
       "      <th>15</th>\n",
       "      <td>Wolves</td>\n",
       "      <td>26.050420</td>\n",
       "      <td>42.016807</td>\n",
       "    </tr>\n",
       "  </tbody>\n",
       "</table>\n",
       "</div>"
      ],
      "text/plain": [
       "              Team  Aggressive  Performance\n",
       "0          Arsenal   21.584182    50.855553\n",
       "1      Aston Villa   23.759921    43.036859\n",
       "2      Bournemouth   13.846801    43.762488\n",
       "3         Brighton   14.812176    49.333965\n",
       "4          Chelsea   18.990744    47.410883\n",
       "5   Crystal Palace   11.865079    43.233433\n",
       "6          Everton   18.722770    47.972592\n",
       "7        Liverpool   15.089294    47.959336\n",
       "8         Man City   19.457553    45.765292\n",
       "9        Newcastle   20.226687    45.525104\n",
       "10         Norwich   28.571429    61.538462\n",
       "11     Southampton   16.758658    40.983774\n",
       "12       Tottenham   18.582011    51.654173\n",
       "13         Watford   12.314815    42.063492\n",
       "14        West Ham   23.391976    50.680614\n",
       "15          Wolves   26.050420    42.016807"
      ]
     },
     "execution_count": 42,
     "metadata": {},
     "output_type": "execute_result"
    }
   ],
   "source": [
    "home_df_derby_performance.rename(columns={'HomeTeam': 'Team', \n",
    "                               'HomeAggressivePercent': 'Aggressive',\n",
    "                               'HomePerformancePercent': 'Performance',\n",
    "                              }, inplace=True)\n",
    "\n",
    "away_df_derby_performance.rename(columns={'AwayTeam': 'Team', \n",
    "                               'AwayAggressivePercent': 'Aggressive',\n",
    "                               'AwayPerformancePercent': 'Performance',\n",
    "                              }, inplace=True)\n",
    "\n",
    "\n",
    "derby_combined_df = pd.concat([home_df_derby_performance, away_df_derby_performance]).groupby(['Team']).mean().reset_index()\n",
    "\n",
    "derby_combined_df"
   ]
  },
  {
   "cell_type": "markdown",
   "metadata": {},
   "source": [
    "#### Basic Visualisation of Combined Derby Data"
   ]
  },
  {
   "cell_type": "code",
   "execution_count": 43,
   "metadata": {},
   "outputs": [
    {
     "data": {
      "text/plain": [
       "<seaborn.axisgrid.FacetGrid at 0x7f2d0c7f7e48>"
      ]
     },
     "execution_count": 43,
     "metadata": {},
     "output_type": "execute_result"
    },
    {
     "data": {
      "image/png": "[encoded data removed]",
      "text/plain": [
       "<Figure size 432x432 with 1 Axes>"
      ]
     },
     "metadata": {
      "needs_background": "light"
     },
     "output_type": "display_data"
    }
   ],
   "source": [
    "g = sb.catplot(\n",
    "    data=derby_combined_df.sort_values(\"Performance\", ascending=False),\n",
    "    kind=\"bar\", x=\"Performance\", y=\"Team\",\n",
    "    ci=\"sd\", palette=\"Set2\", height=6\n",
    ")\n",
    "g.despine(left=True)\n",
    "g.set_axis_labels(\"Performance Indicator\", \"\")"
   ]
  },
  {
   "cell_type": "markdown",
   "metadata": {},
   "source": [
    "### 5.2 Merge Non-Derby Home and Away"
   ]
  },
  {
   "cell_type": "code",
   "execution_count": 44,
   "metadata": {},
   "outputs": [],
   "source": [
    "home_df_non_derby_performance.rename(columns={'HomeTeam': 'Team', \n",
    "                               'HomeAggressivePercent': 'Aggressive',\n",
    "                               'HomePerformancePercent': 'Performance',\n",
    "                              }, inplace=True)\n",
    "\n",
    "away_df_non_derby_performance.rename(columns={'AwayTeam': 'Team', \n",
    "                               'AwayAggressivePercent': 'Aggressive',\n",
    "                               'AwayPerformancePercent': 'Performance',\n",
    "                              }, inplace=True)\n",
    "\n",
    "\n",
    "non_derby_combined_df = pd.concat([home_df_non_derby_performance, away_df_non_derby_performance]).groupby(['Team']).mean().reset_index()\n"
   ]
  },
  {
   "cell_type": "markdown",
   "metadata": {},
   "source": [
    "#### Basic Visualisation of Combined non-Derby Data"
   ]
  },
  {
   "cell_type": "code",
   "execution_count": 45,
   "metadata": {},
   "outputs": [
    {
     "data": {
      "text/plain": [
       "<seaborn.axisgrid.FacetGrid at 0x7f2d0c6bbc18>"
      ]
     },
     "execution_count": 45,
     "metadata": {},
     "output_type": "execute_result"
    },
    {
     "data": {
      "image/png": "[encoded data removed]",
      "text/plain": [
       "<Figure size 432x432 with 1 Axes>"
      ]
     },
     "metadata": {
      "needs_background": "light"
     },
     "output_type": "display_data"
    }
   ],
   "source": [
    "g = sb.catplot(\n",
    "    data=non_derby_combined_df.sort_values(\"Performance\", ascending=False),\n",
    "    kind=\"bar\", x=\"Performance\", y=\"Team\",\n",
    "    ci=\"sd\", palette=\"Set2\", height=6\n",
    ")\n",
    "g.despine(left=True)\n",
    "g.set_axis_labels(\"Performance Indicator\", \"\")"
   ]
  },
  {
   "cell_type": "code",
   "execution_count": 46,
   "metadata": {},
   "outputs": [],
   "source": [
    "derby_mean_aggressive = derby_combined_df['Aggressive'].mean()\n",
    "non_derby_mean_aggressive = non_derby_combined_df['Aggressive'].mean()\n",
    "\n",
    "derby_mean_performance = derby_combined_df['Performance'].mean()\n",
    "non_derby_mean_performance = non_derby_combined_df['Performance'].mean()\n"
   ]
  },
  {
   "cell_type": "markdown",
   "metadata": {},
   "source": [
    "### 6.1 Aggressive Level Comparison"
   ]
  },
  {
   "cell_type": "code",
   "execution_count": 47,
   "metadata": {},
   "outputs": [
    {
     "data": {
      "image/png": "[encoded data removed]",
      "text/plain": [
       "<Figure size 432x288 with 1 Axes>"
      ]
     },
     "metadata": {},
     "output_type": "display_data"
    }
   ],
   "source": [
    "labels = 'Derby', 'Non Derby'\n",
    "sizes = [derby_mean_aggressive, non_derby_mean_aggressive]\n",
    "\n",
    "fig1, ax1 = plt.subplots()\n",
    "ax1.pie(sizes, labels=labels, autopct='%1.1f%%',\n",
    "        shadow=True, startangle=90)\n",
    "ax1.axis('equal')\n",
    "plt.title(\"Aggressive Performance In derby Matches vs Non Derby Matches\")\n",
    "plt.show()"
   ]
  },
  {
   "cell_type": "markdown",
   "metadata": {},
   "source": [
    "### 6.2  Match Performance Level Comparison"
   ]
  },
  {
   "cell_type": "code",
   "execution_count": 48,
   "metadata": {},
   "outputs": [
    {
     "data": {
      "image/png": "[encoded data removed]",
      "text/plain": [
       "<Figure size 432x288 with 1 Axes>"
      ]
     },
     "metadata": {},
     "output_type": "display_data"
    }
   ],
   "source": [
    "labels = 'Derby', 'Non Derby'\n",
    "sizes = [derby_mean_performance, non_derby_mean_performance]\n",
    "\n",
    "fig1, ax1 = plt.subplots()\n",
    "ax1.pie(sizes, labels=labels, autopct='%1.1f%%',\n",
    "        shadow=True, startangle=90)\n",
    "\n",
    "plt.title(\"General Performance In derby Matches vs Non Derby Matches\")\n",
    "plt.show()"
   ]
  },
  {
   "cell_type": "markdown",
   "metadata": {},
   "source": [
    "### Creating Dataset\n",
    "Now we will create a new dataset for some more trends like Goals, Winning ratio of the team in derby and in non-derby matches. We will find top attacking and top defending teams in derby and in non-derby games."
   ]
  },
  {
   "cell_type": "markdown",
   "metadata": {},
   "source": [
    "### Derby Games Visualizations\n",
    "In the new dataset `derby_goal_df` we will have following columns:\n",
    "\n",
    "- **Team:** Name of the Team.\n",
    "- **MatchPlayed:** Number of matches played by a team.\n",
    "- **GoalScoredInMatches:** Number of Matches in which the team has scored a goal.\n",
    "- **GoalConcededInMatches:** Number of Matches in which the team has conceded a goal.\n",
    "- **TotalGoalScored:** Total nummber of goals scored by a team in all matches.\n",
    "- **TotalGoalConceded:** Total number of goals conceded by a team in all matches.\n",
    "- **Wins:** Total number of wins for a team.\n",
    "- **MatchWinRatio:** It is a ratio between total number of matches played and won by a team, it will show the average win percentage for a team.\n",
    "- **MatchGoalRatio:** It is a ratio of total goal scored w.r.t total matches played, it will show the average number of goal scored by a team in a single match.\n",
    "- **AttackingPerformance:** It is a ratio of goal scored matches w.r.t total matches played, it will show the probability of a team to score a goal in a single match.\n",
    "- **DefensivePerformance:** It is a ratio of goal conceded matches w.r.t total matches played, it will show the probability of a team to conceed a goal in a single match."
   ]
  },
  {
   "cell_type": "code",
   "execution_count": 49,
   "metadata": {},
   "outputs": [],
   "source": [
    "# Getting unique names of the teams\n",
    "club_names = premier_league_df.HomeTeam.unique()\n",
    "\n",
    "# copying important columns from premier league df and converting it to numpy array\n",
    "df = premier_league_df[[\"HomeTeam\", \"AwayTeam\", \"HomeTeamGoals\", \"AwayTeamGoals\", \"Result\", \"Derby\"]].to_numpy()\n",
    "\n",
    "# Creating a new dataset\n",
    "derby_goal_df = pd.DataFrame(columns=[\"Team\", \"MatchPlayed\", \"GoalScoredInMatches\", \"GoalConcededInMatches\", \"TotalGoalScored\", \"TotalGoalConceded\", \"Wins\", \"MatchWinRatio\", \"MatchGoalRatio\", \"AttackingPerformance\", \"DefensivePerformance\"])"
   ]
  },
  {
   "cell_type": "markdown",
   "metadata": {},
   "source": [
    "In this code section below we will seed our dataset with the names of the clubs, other than that for other columns we will put `0` as default value."
   ]
  },
  {
   "cell_type": "code",
   "execution_count": 50,
   "metadata": {},
   "outputs": [],
   "source": [
    "# Iterating over team names and seeding new dataset with team names \n",
    "index = 0\n",
    "for name in club_names:\n",
    "    derby_goal_df.at[index, \"Team\"] = name\n",
    "    derby_goal_df.at[index, \"MatchPlayed\"] = 0    \n",
    "    derby_goal_df.at[index, \"GoalScoredInMatches\"] = 0\n",
    "    derby_goal_df.at[index, \"GoalConcededInMatches\"] = 0.0\n",
    "    derby_goal_df.at[index, \"TotalGoalScored\"] = 0\n",
    "    derby_goal_df.at[index, \"TotalGoalConceded\"] = 0    \n",
    "    derby_goal_df.at[index, \"Wins\"] = 0\n",
    "    derby_goal_df.at[index, \"MatchWinRatio\"] = 0.0\n",
    "    derby_goal_df.at[index, \"MatchGoalRatio\"] = 0\n",
    "    derby_goal_df.at[index, \"AttackingPerformance\"] = 0.0\n",
    "    derby_goal_df.at[index, \"DefensivePerformance\"] = 0\n",
    "    index = index + 1"
   ]
  },
  {
   "cell_type": "code",
   "execution_count": 51,
   "metadata": {},
   "outputs": [
    {
     "data": {
      "text/html": [
       "<div>\n",
       "<style scoped>\n",
       "    .dataframe tbody tr th:only-of-type {\n",
       "        vertical-align: middle;\n",
       "    }\n",
       "\n",
       "    .dataframe tbody tr th {\n",
       "        vertical-align: top;\n",
       "    }\n",
       "\n",
       "    .dataframe thead th {\n",
       "        text-align: right;\n",
       "    }\n",
       "</style>\n",
       "<table border=\"1\" class=\"dataframe\">\n",
       "  <thead>\n",
       "    <tr style=\"text-align: right;\">\n",
       "      <th></th>\n",
       "      <th>Team</th>\n",
       "      <th>MatchPlayed</th>\n",
       "      <th>GoalScoredInMatches</th>\n",
       "      <th>GoalConcededInMatches</th>\n",
       "      <th>TotalGoalScored</th>\n",
       "      <th>TotalGoalConceded</th>\n",
       "      <th>Wins</th>\n",
       "      <th>MatchWinRatio</th>\n",
       "      <th>MatchGoalRatio</th>\n",
       "      <th>AttackingPerformance</th>\n",
       "      <th>DefensivePerformance</th>\n",
       "    </tr>\n",
       "  </thead>\n",
       "  <tbody>\n",
       "    <tr>\n",
       "      <th>0</th>\n",
       "      <td>Arsenal</td>\n",
       "      <td>0</td>\n",
       "      <td>0</td>\n",
       "      <td>0</td>\n",
       "      <td>0</td>\n",
       "      <td>0</td>\n",
       "      <td>0</td>\n",
       "      <td>0</td>\n",
       "      <td>0</td>\n",
       "      <td>0</td>\n",
       "      <td>0</td>\n",
       "    </tr>\n",
       "    <tr>\n",
       "      <th>1</th>\n",
       "      <td>Leicester</td>\n",
       "      <td>0</td>\n",
       "      <td>0</td>\n",
       "      <td>0</td>\n",
       "      <td>0</td>\n",
       "      <td>0</td>\n",
       "      <td>0</td>\n",
       "      <td>0</td>\n",
       "      <td>0</td>\n",
       "      <td>0</td>\n",
       "      <td>0</td>\n",
       "    </tr>\n",
       "    <tr>\n",
       "      <th>2</th>\n",
       "      <td>Man United</td>\n",
       "      <td>0</td>\n",
       "      <td>0</td>\n",
       "      <td>0</td>\n",
       "      <td>0</td>\n",
       "      <td>0</td>\n",
       "      <td>0</td>\n",
       "      <td>0</td>\n",
       "      <td>0</td>\n",
       "      <td>0</td>\n",
       "      <td>0</td>\n",
       "    </tr>\n",
       "  </tbody>\n",
       "</table>\n",
       "</div>"
      ],
      "text/plain": [
       "         Team MatchPlayed GoalScoredInMatches GoalConcededInMatches  \\\n",
       "0     Arsenal           0                   0                     0   \n",
       "1   Leicester           0                   0                     0   \n",
       "2  Man United           0                   0                     0   \n",
       "\n",
       "  TotalGoalScored TotalGoalConceded Wins MatchWinRatio MatchGoalRatio  \\\n",
       "0               0                 0    0             0              0   \n",
       "1               0                 0    0             0              0   \n",
       "2               0                 0    0             0              0   \n",
       "\n",
       "  AttackingPerformance DefensivePerformance  \n",
       "0                    0                    0  \n",
       "1                    0                    0  \n",
       "2                    0                    0  "
      ]
     },
     "execution_count": 51,
     "metadata": {},
     "output_type": "execute_result"
    }
   ],
   "source": [
    "derby_goal_df[:3]"
   ]
  },
  {
   "cell_type": "markdown",
   "metadata": {},
   "source": [
    "Now in the code below we will seed our new created dataset. For this purpose we will use `df` dataframe, `df` dataframe is created with `premier league dataset` we have used some important columns from that dataset. `df` is a dataframe which has been converted to numpy array for faster computation, in computation/iteraton numpy arrays takes alot less time then pandas dataframe. In `df` dataframe we have the following columns:\n",
    "\n",
    "- **HomeTeam:**\n",
    "- **AwayTeam:**\n",
    "- **HomeTeamGoals:**\n",
    "- **AwayTeamGoals:**\n",
    "- **Result:**\n",
    "- **Derby:**\n",
    "\n",
    "Now with the help of those columns we will seed our new dataset."
   ]
  },
  {
   "cell_type": "code",
   "execution_count": 52,
   "metadata": {},
   "outputs": [],
   "source": [
    "for data in df:\n",
    "    if data[5] == \"Derby\":\n",
    "#       Getting the index of home team and away team in the new dataset  \n",
    "        home_team_index = derby_goal_df.index[derby_goal_df[\"Team\"] == data[0]][0]\n",
    "        away_team_index = derby_goal_df.index[derby_goal_df[\"Team\"] == data[1]][0]\n",
    "\n",
    "#       Setting up information if home team has scored a goal\n",
    "        if data[2] != 0:\n",
    "            derby_goal_df.at[home_team_index, \"GoalScoredInMatches\"] = derby_goal_df[\"GoalScoredInMatches\"][home_team_index] + 1\n",
    "            derby_goal_df.at[away_team_index, \"GoalConcededInMatches\"] = derby_goal_df[\"GoalConcededInMatches\"][away_team_index] + 1\n",
    "            derby_goal_df.at[home_team_index, \"TotalGoalScored\"] = derby_goal_df[\"TotalGoalScored\"][home_team_index] + data[2]\n",
    "            derby_goal_df.at[away_team_index, \"TotalGoalConceded\"] = derby_goal_df[\"TotalGoalConceded\"][away_team_index] + data[2]\n",
    "\n",
    "#       Setting up information if away team has scored a goal            \n",
    "        if data[3] != 0:\n",
    "            derby_goal_df.at[away_team_index, \"GoalScoredInMatches\"] = derby_goal_df[\"GoalScoredInMatches\"][away_team_index] + 1\n",
    "            derby_goal_df.at[home_team_index, \"GoalConcededInMatches\"] = derby_goal_df[\"GoalConcededInMatches\"][home_team_index] + 1\n",
    "            derby_goal_df.at[away_team_index, \"TotalGoalScored\"] = derby_goal_df[\"TotalGoalScored\"][away_team_index] + data[3]\n",
    "            derby_goal_df.at[home_team_index, \"TotalGoalConceded\"] = derby_goal_df[\"TotalGoalConceded\"][home_team_index] + data[3]\n",
    "\n",
    "#       increment of match played for both home and away team                        \n",
    "        derby_goal_df.at[home_team_index, \"MatchPlayed\"] = derby_goal_df[\"MatchPlayed\"][home_team_index] + 1\n",
    "        derby_goal_df.at[away_team_index, \"MatchPlayed\"] = derby_goal_df[\"MatchPlayed\"][away_team_index] + 1\n",
    "\n",
    "#       increment of wins if home team had won the match\n",
    "        if data[4] == 'H':\n",
    "            derby_goal_df.at[home_team_index, \"Wins\"] = derby_goal_df[\"Wins\"][home_team_index] + 1\n",
    "\n",
    "#       increment of wins if away team had won the match\n",
    "        elif data[4] == 'A':\n",
    "            derby_goal_df.at[away_team_index, \"Wins\"] = derby_goal_df[\"Wins\"][away_team_index] + 1\n"
   ]
  },
  {
   "cell_type": "markdown",
   "metadata": {},
   "source": [
    "There are alot of teams that have played 0 derby games so we will remove them from the dataset, also there are some teams that have played less than 5 games so we will also remove them because they will bias in the dataset and considered as outliers"
   ]
  },
  {
   "cell_type": "code",
   "execution_count": 53,
   "metadata": {},
   "outputs": [],
   "source": [
    "derby_goal_df = derby_goal_df[derby_goal_df[\"MatchPlayed\"] >= 5]"
   ]
  },
  {
   "cell_type": "markdown",
   "metadata": {},
   "source": [
    "Now in the code section below we will make some computations and fillup the remaining columns of the dataset, here in the section below we will fillup the following columns:\n",
    "\n",
    "- **MatchWinRatio**\n",
    "- **MatchGoalRatio**\n",
    "- **AttackingPerformance**\n",
    "- **DefensivePerformance**"
   ]
  },
  {
   "cell_type": "code",
   "execution_count": 54,
   "metadata": {},
   "outputs": [],
   "source": [
    "for index, data in derby_goal_df.iterrows():\n",
    "    match_played = data[1]\n",
    "    goal_scored_matches = data[2]\n",
    "    goal_conceded_matches = data[3]\n",
    "    total_goal_scored = data[4]\n",
    "    total_goal_conceded = data[5]\n",
    "    wins = data[6]\n",
    "    derby_goal_df.at[index, \"MatchWinRatio\"] = wins / match_played * 100\n",
    "    derby_goal_df.at[index, \"MatchGoalRatio\"] = total_goal_scored / match_played\n",
    "    derby_goal_df.at[index, \"AttackingPerformance\"] = goal_scored_matches / match_played * 100\n",
    "    derby_goal_df.at[index, \"DefensivePerformance\"] = goal_conceded_matches / match_played * 100"
   ]
  },
  {
   "cell_type": "code",
   "execution_count": 55,
   "metadata": {},
   "outputs": [
    {
     "data": {
      "text/html": [
       "<div>\n",
       "<style scoped>\n",
       "    .dataframe tbody tr th:only-of-type {\n",
       "        vertical-align: middle;\n",
       "    }\n",
       "\n",
       "    .dataframe tbody tr th {\n",
       "        vertical-align: top;\n",
       "    }\n",
       "\n",
       "    .dataframe thead th {\n",
       "        text-align: right;\n",
       "    }\n",
       "</style>\n",
       "<table border=\"1\" class=\"dataframe\">\n",
       "  <thead>\n",
       "    <tr style=\"text-align: right;\">\n",
       "      <th></th>\n",
       "      <th>Team</th>\n",
       "      <th>MatchPlayed</th>\n",
       "      <th>GoalScoredInMatches</th>\n",
       "      <th>GoalConcededInMatches</th>\n",
       "      <th>TotalGoalScored</th>\n",
       "      <th>TotalGoalConceded</th>\n",
       "      <th>Wins</th>\n",
       "      <th>MatchWinRatio</th>\n",
       "      <th>MatchGoalRatio</th>\n",
       "      <th>AttackingPerformance</th>\n",
       "      <th>DefensivePerformance</th>\n",
       "    </tr>\n",
       "  </thead>\n",
       "  <tbody>\n",
       "    <tr>\n",
       "      <th>0</th>\n",
       "      <td>Arsenal</td>\n",
       "      <td>44</td>\n",
       "      <td>35</td>\n",
       "      <td>32</td>\n",
       "      <td>69</td>\n",
       "      <td>68</td>\n",
       "      <td>12</td>\n",
       "      <td>27.2727</td>\n",
       "      <td>1.56818</td>\n",
       "      <td>79.5455</td>\n",
       "      <td>72.7273</td>\n",
       "    </tr>\n",
       "    <tr>\n",
       "      <th>2</th>\n",
       "      <td>Man United</td>\n",
       "      <td>48</td>\n",
       "      <td>27</td>\n",
       "      <td>34</td>\n",
       "      <td>48</td>\n",
       "      <td>62</td>\n",
       "      <td>16</td>\n",
       "      <td>33.3333</td>\n",
       "      <td>1</td>\n",
       "      <td>56.25</td>\n",
       "      <td>70.8333</td>\n",
       "    </tr>\n",
       "    <tr>\n",
       "      <th>6</th>\n",
       "      <td>West Ham</td>\n",
       "      <td>26</td>\n",
       "      <td>18</td>\n",
       "      <td>19</td>\n",
       "      <td>31</td>\n",
       "      <td>39</td>\n",
       "      <td>9</td>\n",
       "      <td>34.6154</td>\n",
       "      <td>1.19231</td>\n",
       "      <td>69.2308</td>\n",
       "      <td>73.0769</td>\n",
       "    </tr>\n",
       "    <tr>\n",
       "      <th>7</th>\n",
       "      <td>Liverpool</td>\n",
       "      <td>59</td>\n",
       "      <td>46</td>\n",
       "      <td>41</td>\n",
       "      <td>96</td>\n",
       "      <td>69</td>\n",
       "      <td>25</td>\n",
       "      <td>42.3729</td>\n",
       "      <td>1.62712</td>\n",
       "      <td>77.9661</td>\n",
       "      <td>69.4915</td>\n",
       "    </tr>\n",
       "    <tr>\n",
       "      <th>8</th>\n",
       "      <td>Newcastle</td>\n",
       "      <td>16</td>\n",
       "      <td>11</td>\n",
       "      <td>11</td>\n",
       "      <td>15</td>\n",
       "      <td>18</td>\n",
       "      <td>5</td>\n",
       "      <td>31.25</td>\n",
       "      <td>0.9375</td>\n",
       "      <td>68.75</td>\n",
       "      <td>68.75</td>\n",
       "    </tr>\n",
       "    <tr>\n",
       "      <th>10</th>\n",
       "      <td>Aston Villa</td>\n",
       "      <td>7</td>\n",
       "      <td>4</td>\n",
       "      <td>7</td>\n",
       "      <td>5</td>\n",
       "      <td>8</td>\n",
       "      <td>1</td>\n",
       "      <td>14.2857</td>\n",
       "      <td>0.714286</td>\n",
       "      <td>57.1429</td>\n",
       "      <td>100</td>\n",
       "    </tr>\n",
       "    <tr>\n",
       "      <th>11</th>\n",
       "      <td>Chelsea</td>\n",
       "      <td>57</td>\n",
       "      <td>44</td>\n",
       "      <td>40</td>\n",
       "      <td>78</td>\n",
       "      <td>73</td>\n",
       "      <td>22</td>\n",
       "      <td>38.5965</td>\n",
       "      <td>1.36842</td>\n",
       "      <td>77.193</td>\n",
       "      <td>70.1754</td>\n",
       "    </tr>\n",
       "    <tr>\n",
       "      <th>12</th>\n",
       "      <td>Crystal Palace</td>\n",
       "      <td>11</td>\n",
       "      <td>9</td>\n",
       "      <td>8</td>\n",
       "      <td>13</td>\n",
       "      <td>16</td>\n",
       "      <td>3</td>\n",
       "      <td>27.2727</td>\n",
       "      <td>1.18182</td>\n",
       "      <td>81.8182</td>\n",
       "      <td>72.7273</td>\n",
       "    </tr>\n",
       "    <tr>\n",
       "      <th>13</th>\n",
       "      <td>Everton</td>\n",
       "      <td>29</td>\n",
       "      <td>19</td>\n",
       "      <td>21</td>\n",
       "      <td>36</td>\n",
       "      <td>46</td>\n",
       "      <td>7</td>\n",
       "      <td>24.1379</td>\n",
       "      <td>1.24138</td>\n",
       "      <td>65.5172</td>\n",
       "      <td>72.4138</td>\n",
       "    </tr>\n",
       "    <tr>\n",
       "      <th>14</th>\n",
       "      <td>Southampton</td>\n",
       "      <td>17</td>\n",
       "      <td>13</td>\n",
       "      <td>12</td>\n",
       "      <td>20</td>\n",
       "      <td>21</td>\n",
       "      <td>5</td>\n",
       "      <td>29.4118</td>\n",
       "      <td>1.17647</td>\n",
       "      <td>76.4706</td>\n",
       "      <td>70.5882</td>\n",
       "    </tr>\n",
       "    <tr>\n",
       "      <th>18</th>\n",
       "      <td>Tottenham</td>\n",
       "      <td>50</td>\n",
       "      <td>39</td>\n",
       "      <td>39</td>\n",
       "      <td>79</td>\n",
       "      <td>69</td>\n",
       "      <td>20</td>\n",
       "      <td>40</td>\n",
       "      <td>1.58</td>\n",
       "      <td>78</td>\n",
       "      <td>78</td>\n",
       "    </tr>\n",
       "    <tr>\n",
       "      <th>19</th>\n",
       "      <td>Man City</td>\n",
       "      <td>40</td>\n",
       "      <td>32</td>\n",
       "      <td>31</td>\n",
       "      <td>65</td>\n",
       "      <td>57</td>\n",
       "      <td>16</td>\n",
       "      <td>40</td>\n",
       "      <td>1.625</td>\n",
       "      <td>80</td>\n",
       "      <td>77.5</td>\n",
       "    </tr>\n",
       "    <tr>\n",
       "      <th>21</th>\n",
       "      <td>Bournemouth</td>\n",
       "      <td>12</td>\n",
       "      <td>8</td>\n",
       "      <td>9</td>\n",
       "      <td>15</td>\n",
       "      <td>15</td>\n",
       "      <td>4</td>\n",
       "      <td>33.3333</td>\n",
       "      <td>1.25</td>\n",
       "      <td>66.6667</td>\n",
       "      <td>75</td>\n",
       "    </tr>\n",
       "    <tr>\n",
       "      <th>27</th>\n",
       "      <td>Brighton</td>\n",
       "      <td>14</td>\n",
       "      <td>12</td>\n",
       "      <td>11</td>\n",
       "      <td>20</td>\n",
       "      <td>20</td>\n",
       "      <td>4</td>\n",
       "      <td>28.5714</td>\n",
       "      <td>1.42857</td>\n",
       "      <td>85.7143</td>\n",
       "      <td>78.5714</td>\n",
       "    </tr>\n",
       "  </tbody>\n",
       "</table>\n",
       "</div>"
      ],
      "text/plain": [
       "              Team MatchPlayed GoalScoredInMatches GoalConcededInMatches  \\\n",
       "0          Arsenal          44                  35                    32   \n",
       "2       Man United          48                  27                    34   \n",
       "6         West Ham          26                  18                    19   \n",
       "7        Liverpool          59                  46                    41   \n",
       "8        Newcastle          16                  11                    11   \n",
       "10     Aston Villa           7                   4                     7   \n",
       "11         Chelsea          57                  44                    40   \n",
       "12  Crystal Palace          11                   9                     8   \n",
       "13         Everton          29                  19                    21   \n",
       "14     Southampton          17                  13                    12   \n",
       "18       Tottenham          50                  39                    39   \n",
       "19        Man City          40                  32                    31   \n",
       "21     Bournemouth          12                   8                     9   \n",
       "27        Brighton          14                  12                    11   \n",
       "\n",
       "   TotalGoalScored TotalGoalConceded Wins MatchWinRatio MatchGoalRatio  \\\n",
       "0               69                68   12       27.2727        1.56818   \n",
       "2               48                62   16       33.3333              1   \n",
       "6               31                39    9       34.6154        1.19231   \n",
       "7               96                69   25       42.3729        1.62712   \n",
       "8               15                18    5         31.25         0.9375   \n",
       "10               5                 8    1       14.2857       0.714286   \n",
       "11              78                73   22       38.5965        1.36842   \n",
       "12              13                16    3       27.2727        1.18182   \n",
       "13              36                46    7       24.1379        1.24138   \n",
       "14              20                21    5       29.4118        1.17647   \n",
       "18              79                69   20            40           1.58   \n",
       "19              65                57   16            40          1.625   \n",
       "21              15                15    4       33.3333           1.25   \n",
       "27              20                20    4       28.5714        1.42857   \n",
       "\n",
       "   AttackingPerformance DefensivePerformance  \n",
       "0               79.5455              72.7273  \n",
       "2                 56.25              70.8333  \n",
       "6               69.2308              73.0769  \n",
       "7               77.9661              69.4915  \n",
       "8                 68.75                68.75  \n",
       "10              57.1429                  100  \n",
       "11               77.193              70.1754  \n",
       "12              81.8182              72.7273  \n",
       "13              65.5172              72.4138  \n",
       "14              76.4706              70.5882  \n",
       "18                   78                   78  \n",
       "19                   80                 77.5  \n",
       "21              66.6667                   75  \n",
       "27              85.7143              78.5714  "
      ]
     },
     "execution_count": 55,
     "metadata": {},
     "output_type": "execute_result"
    }
   ],
   "source": [
    "#Print dataset\n",
    "derby_goal_df"
   ]
  },
  {
   "cell_type": "markdown",
   "metadata": {},
   "source": [
    "### Top Defending Teams in Derbies\n",
    "For this Graph we will be using **DefensivePerformance** column, this column has the probability for a team to  conced a goal in a match, lower the probability means the teams is best at defending."
   ]
  },
  {
   "cell_type": "code",
   "execution_count": 56,
   "metadata": {},
   "outputs": [
    {
     "data": {
      "text/plain": [
       "Text(0.5, 1.0, 'Defensive Performance of a Team (Lower is better)')"
      ]
     },
     "execution_count": 56,
     "metadata": {},
     "output_type": "execute_result"
    },
    {
     "data": {
      "image/png": "[encoded data removed]",
      "text/plain": [
       "<Figure size 432x432 with 1 Axes>"
      ]
     },
     "metadata": {
      "needs_background": "light"
     },
     "output_type": "display_data"
    }
   ],
   "source": [
    "g = sb.catplot(\n",
    "    data=derby_goal_df.sort_values(\"DefensivePerformance\"),\n",
    "    kind=\"bar\", x=\"DefensivePerformance\", y=\"Team\",\n",
    "    ci=\"sd\", palette=\"Set2\", height=6\n",
    ")\n",
    "g.despine(left=True)\n",
    "g.set_axis_labels(\"Probability of a team to concede a Goal in a match\", \"\")\n",
    "plt.title(\"Defensive Performance of a Team (Lower is better)\")"
   ]
  },
  {
   "cell_type": "markdown",
   "metadata": {},
   "source": [
    "### Top Attacking Teams in Derbies\n",
    "This graph will show the attacking performance of the team, I have computed this attacking performance of the team by taking the ratio of scored matched w.r.t total matches played, this shows the probability of a team to score a goal in a match."
   ]
  },
  {
   "cell_type": "code",
   "execution_count": 57,
   "metadata": {},
   "outputs": [
    {
     "data": {
      "text/plain": [
       "Text(0.5, 1.0, 'Attacking Performance of a Team (Higher is better)')"
      ]
     },
     "execution_count": 57,
     "metadata": {},
     "output_type": "execute_result"
    },
    {
     "data": {
      "image/png": "[encoded data removed]",
      "text/plain": [
       "<Figure size 432x432 with 1 Axes>"
      ]
     },
     "metadata": {
      "needs_background": "light"
     },
     "output_type": "display_data"
    }
   ],
   "source": [
    "g = sb.catplot(\n",
    "    data=derby_goal_df.sort_values(\"AttackingPerformance\", ascending=False),\n",
    "    kind=\"bar\", x=\"AttackingPerformance\", y=\"Team\",\n",
    "    ci=\"sd\", palette=\"Set2\", height=6\n",
    ")\n",
    "g.despine(left=True)\n",
    "g.set_axis_labels(\"Probability of a team to score a Goal in a match\", \"\")\n",
    "plt.title(\"Attacking Performance of a Team (Higher is better)\")"
   ]
  },
  {
   "cell_type": "markdown",
   "metadata": {},
   "source": [
    "### Win Ratio of Team in Derbies\n",
    "This will tell us the ratio about how many games a team has played and how many games they won, by the help of this ratio we can figure out which team has the highest probability of wining a derby match."
   ]
  },
  {
   "cell_type": "code",
   "execution_count": 58,
   "metadata": {},
   "outputs": [
    {
     "data": {
      "text/plain": [
       "Text(0.5, 1.0, 'Wining Probability of a Derby Match (Higher is better)')"
      ]
     },
     "execution_count": 58,
     "metadata": {},
     "output_type": "execute_result"
    },
    {
     "data": {
      "image/png": "[encoded data removed]",
      "text/plain": [
       "<Figure size 432x432 with 1 Axes>"
      ]
     },
     "metadata": {
      "needs_background": "light"
     },
     "output_type": "display_data"
    }
   ],
   "source": [
    "g = sb.catplot(\n",
    "    data=derby_goal_df.sort_values(\"MatchWinRatio\", ascending=False),\n",
    "    kind=\"bar\", x=\"MatchWinRatio\", y=\"Team\",\n",
    "    ci=\"sd\", palette=\"Set2\", height=6\n",
    ")\n",
    "g.despine(left=True)\n",
    "g.set_axis_labels(\"Probability of a team to win a derby match\", \"\")\n",
    "plt.title(\"Wining Probability of a Derby Match (Higher is better)\")"
   ]
  },
  {
   "cell_type": "markdown",
   "metadata": {},
   "source": [
    "### Average Goal Scored\n",
    "This graph will tell us the average number of goals scored by a team in a derby match, this number will vary from 0.5 - 2.0. If a team has a score of 0.5 it means that the team will score a single goal, or they will not score a goal in a match, if a team has score of 2.0 it means that the team will score 2 Goals in a game. "
   ]
  },
  {
   "cell_type": "code",
   "execution_count": 59,
   "metadata": {},
   "outputs": [
    {
     "data": {
      "text/plain": [
       "Text(0.5, 1.0, 'Average Number of Goals Scored by a Team in a Derby Match (Higher is better)')"
      ]
     },
     "execution_count": 59,
     "metadata": {},
     "output_type": "execute_result"
    },
    {
     "data": {
      "image/png": "[encoded data removed]",
      "text/plain": [
       "<Figure size 432x432 with 1 Axes>"
      ]
     },
     "metadata": {
      "needs_background": "light"
     },
     "output_type": "display_data"
    }
   ],
   "source": [
    "# we will using seaborn function catplot (categorical plot)\n",
    "\n",
    "#### parameter explanation\n",
    "# data = Dataframe (sort_values will sort the dataframe)\n",
    "# kind = the kind of plot that you want to plot, in this graph we will use \"bar\" for bar chart\n",
    "# x = X-axis variable \n",
    "# y = Y-axis variable\n",
    "# ci = \"sd\", it will draw the standard deviation of the observation (for error bars if any)\n",
    "# palette = \"Set2\", the color palette\n",
    "# height = the size of the graph\n",
    "\n",
    "g = sb.catplot(\n",
    "    data=derby_goal_df.sort_values(\"MatchGoalRatio\", ascending=False),\n",
    "    kind=\"bar\", x=\"MatchGoalRatio\", y=\"Team\",\n",
    "    ci=\"sd\", palette=\"Set2\", height=6\n",
    ")\n",
    "# Remove the top and left spines from plot.\n",
    "g.despine(left=True)\n",
    "# X and y axis labels\n",
    "g.set_axis_labels(\"Average Number of Goals Scored\", \"\")\n",
    "# title of the graph\n",
    "plt.title(\"Average Number of Goals Scored by a Team in a Derby Match (Higher is better)\")"
   ]
  },
  {
   "cell_type": "markdown",
   "metadata": {},
   "source": [
    "### Non Derby Games Visualizations\n",
    "Now we will make the same dataset as we created above. The above one was for derby games and this one is for non-derby games. In this dataset we have the following columns:\n",
    "\n",
    "- **Team:** Name of the Team.\n",
    "- **MatchPlayed:** Number of matches played by a team.\n",
    "- **GoalScoredInMatches:** Number of Matches in which the team has scored a goal.\n",
    "- **GoalConcededInMatches:** Number of Matches in which the team has conceded a goal.\n",
    "- **TotalGoalScored:** Total nummber of goals scored by a team in all matches.\n",
    "- **TotalGoalConceded:** Total number of goals conceded by a team in all matches.\n",
    "- **Wins:** Total number of wins for a team.\n",
    "- **MatchWinRatio:** It is a ratio between total number of matches played and won by a team, it will show the average win percentage for a team.\n",
    "- **MatchGoalRatio:** It is a ratio of total goal scored w.r.t total matches played, it will show the average number of goal scored by a team in a single match.\n",
    "- **AttackingPerformance:** It is a ratio of goal scored matches w.r.t total matches played, it will show the probability of a team to score a goal in a single match.\n",
    "- **DefensivePerformance:** It is a ratio of goal conceded matches w.r.t total matches played, it will show the probability of a team to conceed a goal in a single match."
   ]
  },
  {
   "cell_type": "code",
   "execution_count": 60,
   "metadata": {},
   "outputs": [],
   "source": [
    "non_derby_goal_df = pd.DataFrame(columns=[\"Team\", \"MatchPlayed\", \"GoalScoredInMatches\", \"GoalConcededInMatches\", \"TotalGoalScored\", \"TotalGoalConceded\", \"Wins\", \"MatchWinRatio\", \"MatchGoalRatio\", \"AttackingPerformance\", \"DefensivePerformance\"])"
   ]
  },
  {
   "cell_type": "markdown",
   "metadata": {},
   "source": [
    "In this code section below we will seed our dataset with the names of the clubs, other than that for other columns we will put `0` as default value."
   ]
  },
  {
   "cell_type": "code",
   "execution_count": 61,
   "metadata": {},
   "outputs": [],
   "source": [
    "index = 0\n",
    "for name in club_names:\n",
    "    non_derby_goal_df.at[index, \"Team\"] = name\n",
    "    non_derby_goal_df.at[index, \"MatchPlayed\"] = 0    \n",
    "    non_derby_goal_df.at[index, \"GoalScoredInMatches\"] = 0\n",
    "    non_derby_goal_df.at[index, \"GoalConcededInMatches\"] = 0.0\n",
    "    non_derby_goal_df.at[index, \"TotalGoalScored\"] = 0\n",
    "    non_derby_goal_df.at[index, \"TotalGoalConceded\"] = 0    \n",
    "    non_derby_goal_df.at[index, \"Wins\"] = 0\n",
    "    non_derby_goal_df.at[index, \"MatchWinRatio\"] = 0.0\n",
    "    non_derby_goal_df.at[index, \"MatchGoalRatio\"] = 0\n",
    "    non_derby_goal_df.at[index, \"AttackingPerformance\"] = 0.0\n",
    "    non_derby_goal_df.at[index, \"DefensivePerformance\"] = 0\n",
    "    index = index + 1"
   ]
  },
  {
   "cell_type": "markdown",
   "metadata": {},
   "source": [
    "Now in the code below we will seed our new created dataset. For this purpose we will use `df` dataframe, `df` dataframe is created with `premier league dataset` we have used some important columns from that dataset. `df` is a dataframe which has been converted to numpy array for faster computation, in computation/iteraton numpy arrays takes alot less time then pandas dataframe. In `df` dataframe we have the following columns:\n",
    "\n",
    "- **HomeTeam:**\n",
    "- **AwayTeam:**\n",
    "- **HomeTeamGoals:**\n",
    "- **AwayTeamGoals:**\n",
    "- **Result:**\n",
    "- **Derby:**\n",
    "\n",
    "Now with the help of those columns we will seed our new dataset."
   ]
  },
  {
   "cell_type": "code",
   "execution_count": 62,
   "metadata": {},
   "outputs": [],
   "source": [
    "for data in df:\n",
    "    \n",
    "#       Getting the index of home team and away team in the new dataset          \n",
    "    if data[5] != \"Derby\":\n",
    "        home_team_index = non_derby_goal_df.index[non_derby_goal_df[\"Team\"] == data[0]][0]\n",
    "        away_team_index = non_derby_goal_df.index[non_derby_goal_df[\"Team\"] == data[1]][0]\n",
    "\n",
    "#       Setting up information if home team has scored a goal\n",
    "        if data[2] != 0:\n",
    "            non_derby_goal_df.at[home_team_index, \"GoalScoredInMatches\"] = non_derby_goal_df[\"GoalScoredInMatches\"][home_team_index] + 1\n",
    "            non_derby_goal_df.at[away_team_index, \"GoalConcededInMatches\"] = non_derby_goal_df[\"GoalConcededInMatches\"][away_team_index] + 1\n",
    "            non_derby_goal_df.at[home_team_index, \"TotalGoalScored\"] = non_derby_goal_df[\"TotalGoalScored\"][home_team_index] + data[2]\n",
    "            non_derby_goal_df.at[away_team_index, \"TotalGoalConceded\"] = non_derby_goal_df[\"TotalGoalConceded\"][away_team_index] + data[2]\n",
    "\n",
    "#       Setting up information if away team has scored a goal            \n",
    "        if data[3] != 0:\n",
    "            non_derby_goal_df.at[away_team_index, \"GoalScoredInMatches\"] = non_derby_goal_df[\"GoalScoredInMatches\"][away_team_index] + 1\n",
    "            non_derby_goal_df.at[home_team_index, \"GoalConcededInMatches\"] = non_derby_goal_df[\"GoalConcededInMatches\"][home_team_index] + 1\n",
    "            non_derby_goal_df.at[away_team_index, \"TotalGoalScored\"] = non_derby_goal_df[\"TotalGoalScored\"][away_team_index] + data[3]\n",
    "            non_derby_goal_df.at[home_team_index, \"TotalGoalConceded\"] = non_derby_goal_df[\"TotalGoalConceded\"][home_team_index] + data[3]\n",
    "\n",
    "#       increment of match played for both home and away team            \n",
    "        non_derby_goal_df.at[home_team_index, \"MatchPlayed\"] = non_derby_goal_df[\"MatchPlayed\"][home_team_index] + 1\n",
    "        non_derby_goal_df.at[away_team_index, \"MatchPlayed\"] = non_derby_goal_df[\"MatchPlayed\"][away_team_index] + 1\n",
    "\n",
    "#       increment of wins if home team had won the match                    \n",
    "        if data[4] == 'H':\n",
    "            non_derby_goal_df.at[home_team_index, \"Wins\"] = non_derby_goal_df[\"Wins\"][home_team_index] + 1\n",
    "\n",
    "#       increment of wins if away team had won the match            \n",
    "        elif data[4] == 'A':\n",
    "            non_derby_goal_df.at[away_team_index, \"Wins\"] = non_derby_goal_df[\"Wins\"][away_team_index] + 1\n"
   ]
  },
  {
   "cell_type": "markdown",
   "metadata": {},
   "source": [
    "If their exist teams that has played 0 games, they will be removed from the dataset."
   ]
  },
  {
   "cell_type": "code",
   "execution_count": 63,
   "metadata": {},
   "outputs": [],
   "source": [
    "non_derby_goal_df = non_derby_goal_df[non_derby_goal_df[\"MatchPlayed\"] >= 1]"
   ]
  },
  {
   "cell_type": "markdown",
   "metadata": {},
   "source": [
    "Now in the code section below we will make some computations and fillup the remaining columns of the dataset, here in the section below we will fillup the following columns:\n",
    "\n",
    "- **MatchWinRatio**\n",
    "- **MatchGoalRatio**\n",
    "- **AttackingPerformance**\n",
    "- **DefensivePerformance**"
   ]
  },
  {
   "cell_type": "code",
   "execution_count": 64,
   "metadata": {},
   "outputs": [],
   "source": [
    "#.itterrows() pandas function which will helps in the iteration of the dataset as rows.\n",
    "#.itterrows() will return 2 values, index of the row, the data of the row\n",
    "\n",
    "for index, data in non_derby_goal_df.iterrows(): \n",
    "#   assigning variable the particular column   \n",
    "    match_played = data[1]\n",
    "    goal_scored_matches = data[2]\n",
    "    goal_conceded_matches = data[3]\n",
    "    total_goal_scored = data[4]\n",
    "    total_goal_conceded = data[5]\n",
    "    wins = data[6]\n",
    "\n",
    "#   Calculating ratios and saving them in the dataset.\n",
    "\n",
    "#   .at[] function helps to store data at a specific point in the dataframe,\n",
    "#   we have to pass the index and column name\n",
    "    \n",
    "    non_derby_goal_df.at[index, \"MatchWinRatio\"] = wins / match_played * 100\n",
    "    non_derby_goal_df.at[index, \"MatchGoalRatio\"] = total_goal_scored / match_played\n",
    "    non_derby_goal_df.at[index, \"AttackingPerformance\"] = goal_scored_matches / match_played * 100\n",
    "    non_derby_goal_df.at[index, \"DefensivePerformance\"] = goal_conceded_matches / match_played * 100"
   ]
  },
  {
   "cell_type": "code",
   "execution_count": 65,
   "metadata": {},
   "outputs": [
    {
     "data": {
      "text/html": [
       "<div>\n",
       "<style scoped>\n",
       "    .dataframe tbody tr th:only-of-type {\n",
       "        vertical-align: middle;\n",
       "    }\n",
       "\n",
       "    .dataframe tbody tr th {\n",
       "        vertical-align: top;\n",
       "    }\n",
       "\n",
       "    .dataframe thead th {\n",
       "        text-align: right;\n",
       "    }\n",
       "</style>\n",
       "<table border=\"1\" class=\"dataframe\">\n",
       "  <thead>\n",
       "    <tr style=\"text-align: right;\">\n",
       "      <th></th>\n",
       "      <th>Team</th>\n",
       "      <th>MatchPlayed</th>\n",
       "      <th>GoalScoredInMatches</th>\n",
       "      <th>GoalConcededInMatches</th>\n",
       "      <th>TotalGoalScored</th>\n",
       "      <th>TotalGoalConceded</th>\n",
       "      <th>Wins</th>\n",
       "      <th>MatchWinRatio</th>\n",
       "      <th>MatchGoalRatio</th>\n",
       "      <th>AttackingPerformance</th>\n",
       "      <th>DefensivePerformance</th>\n",
       "    </tr>\n",
       "  </thead>\n",
       "  <tbody>\n",
       "    <tr>\n",
       "      <th>0</th>\n",
       "      <td>Arsenal</td>\n",
       "      <td>150</td>\n",
       "      <td>130</td>\n",
       "      <td>96</td>\n",
       "      <td>289</td>\n",
       "      <td>153</td>\n",
       "      <td>89</td>\n",
       "      <td>59.3333</td>\n",
       "      <td>1.92667</td>\n",
       "      <td>86.6667</td>\n",
       "      <td>64</td>\n",
       "    </tr>\n",
       "    <tr>\n",
       "      <th>1</th>\n",
       "      <td>Leicester</td>\n",
       "      <td>194</td>\n",
       "      <td>151</td>\n",
       "      <td>137</td>\n",
       "      <td>293</td>\n",
       "      <td>260</td>\n",
       "      <td>79</td>\n",
       "      <td>40.7216</td>\n",
       "      <td>1.51031</td>\n",
       "      <td>77.8351</td>\n",
       "      <td>70.6186</td>\n",
       "    </tr>\n",
       "    <tr>\n",
       "      <th>2</th>\n",
       "      <td>Man United</td>\n",
       "      <td>146</td>\n",
       "      <td>123</td>\n",
       "      <td>87</td>\n",
       "      <td>251</td>\n",
       "      <td>122</td>\n",
       "      <td>83</td>\n",
       "      <td>56.8493</td>\n",
       "      <td>1.71918</td>\n",
       "      <td>84.2466</td>\n",
       "      <td>59.589</td>\n",
       "    </tr>\n",
       "    <tr>\n",
       "      <th>3</th>\n",
       "      <td>QPR</td>\n",
       "      <td>38</td>\n",
       "      <td>26</td>\n",
       "      <td>32</td>\n",
       "      <td>42</td>\n",
       "      <td>73</td>\n",
       "      <td>8</td>\n",
       "      <td>21.0526</td>\n",
       "      <td>1.10526</td>\n",
       "      <td>68.4211</td>\n",
       "      <td>84.2105</td>\n",
       "    </tr>\n",
       "    <tr>\n",
       "      <th>4</th>\n",
       "      <td>Stoke</td>\n",
       "      <td>148</td>\n",
       "      <td>105</td>\n",
       "      <td>112</td>\n",
       "      <td>164</td>\n",
       "      <td>213</td>\n",
       "      <td>47</td>\n",
       "      <td>31.7568</td>\n",
       "      <td>1.10811</td>\n",
       "      <td>70.9459</td>\n",
       "      <td>75.6757</td>\n",
       "    </tr>\n",
       "    <tr>\n",
       "      <th>5</th>\n",
       "      <td>West Brom</td>\n",
       "      <td>150</td>\n",
       "      <td>95</td>\n",
       "      <td>108</td>\n",
       "      <td>144</td>\n",
       "      <td>204</td>\n",
       "      <td>38</td>\n",
       "      <td>25.3333</td>\n",
       "      <td>0.96</td>\n",
       "      <td>63.3333</td>\n",
       "      <td>72</td>\n",
       "    </tr>\n",
       "    <tr>\n",
       "      <th>6</th>\n",
       "      <td>West Ham</td>\n",
       "      <td>168</td>\n",
       "      <td>128</td>\n",
       "      <td>127</td>\n",
       "      <td>226</td>\n",
       "      <td>261</td>\n",
       "      <td>53</td>\n",
       "      <td>31.5476</td>\n",
       "      <td>1.34524</td>\n",
       "      <td>76.1905</td>\n",
       "      <td>75.5952</td>\n",
       "    </tr>\n",
       "    <tr>\n",
       "      <th>7</th>\n",
       "      <td>Liverpool</td>\n",
       "      <td>135</td>\n",
       "      <td>119</td>\n",
       "      <td>77</td>\n",
       "      <td>276</td>\n",
       "      <td>130</td>\n",
       "      <td>90</td>\n",
       "      <td>66.6667</td>\n",
       "      <td>2.04444</td>\n",
       "      <td>88.1481</td>\n",
       "      <td>57.037</td>\n",
       "    </tr>\n",
       "    <tr>\n",
       "      <th>8</th>\n",
       "      <td>Newcastle</td>\n",
       "      <td>140</td>\n",
       "      <td>89</td>\n",
       "      <td>109</td>\n",
       "      <td>145</td>\n",
       "      <td>219</td>\n",
       "      <td>37</td>\n",
       "      <td>26.4286</td>\n",
       "      <td>1.03571</td>\n",
       "      <td>63.5714</td>\n",
       "      <td>77.8571</td>\n",
       "    </tr>\n",
       "    <tr>\n",
       "      <th>9</th>\n",
       "      <td>Burnley</td>\n",
       "      <td>156</td>\n",
       "      <td>98</td>\n",
       "      <td>111</td>\n",
       "      <td>148</td>\n",
       "      <td>218</td>\n",
       "      <td>45</td>\n",
       "      <td>28.8462</td>\n",
       "      <td>0.948718</td>\n",
       "      <td>62.8205</td>\n",
       "      <td>71.1538</td>\n",
       "    </tr>\n",
       "    <tr>\n",
       "      <th>10</th>\n",
       "      <td>Aston Villa</td>\n",
       "      <td>95</td>\n",
       "      <td>57</td>\n",
       "      <td>75</td>\n",
       "      <td>87</td>\n",
       "      <td>175</td>\n",
       "      <td>19</td>\n",
       "      <td>20</td>\n",
       "      <td>0.915789</td>\n",
       "      <td>60</td>\n",
       "      <td>78.9474</td>\n",
       "    </tr>\n",
       "    <tr>\n",
       "      <th>11</th>\n",
       "      <td>Chelsea</td>\n",
       "      <td>137</td>\n",
       "      <td>120</td>\n",
       "      <td>83</td>\n",
       "      <td>277</td>\n",
       "      <td>132</td>\n",
       "      <td>89</td>\n",
       "      <td>64.9635</td>\n",
       "      <td>2.0219</td>\n",
       "      <td>87.5912</td>\n",
       "      <td>60.5839</td>\n",
       "    </tr>\n",
       "    <tr>\n",
       "      <th>12</th>\n",
       "      <td>Crystal Palace</td>\n",
       "      <td>183</td>\n",
       "      <td>114</td>\n",
       "      <td>144</td>\n",
       "      <td>204</td>\n",
       "      <td>259</td>\n",
       "      <td>54</td>\n",
       "      <td>29.5082</td>\n",
       "      <td>1.11475</td>\n",
       "      <td>62.2951</td>\n",
       "      <td>78.6885</td>\n",
       "    </tr>\n",
       "    <tr>\n",
       "      <th>13</th>\n",
       "      <td>Everton</td>\n",
       "      <td>165</td>\n",
       "      <td>124</td>\n",
       "      <td>120</td>\n",
       "      <td>234</td>\n",
       "      <td>218</td>\n",
       "      <td>62</td>\n",
       "      <td>37.5758</td>\n",
       "      <td>1.41818</td>\n",
       "      <td>75.1515</td>\n",
       "      <td>72.7273</td>\n",
       "    </tr>\n",
       "    <tr>\n",
       "      <th>14</th>\n",
       "      <td>Southampton</td>\n",
       "      <td>177</td>\n",
       "      <td>119</td>\n",
       "      <td>124</td>\n",
       "      <td>216</td>\n",
       "      <td>235</td>\n",
       "      <td>60</td>\n",
       "      <td>33.8983</td>\n",
       "      <td>1.22034</td>\n",
       "      <td>67.2316</td>\n",
       "      <td>70.0565</td>\n",
       "    </tr>\n",
       "    <tr>\n",
       "      <th>15</th>\n",
       "      <td>Swansea</td>\n",
       "      <td>152</td>\n",
       "      <td>103</td>\n",
       "      <td>113</td>\n",
       "      <td>161</td>\n",
       "      <td>227</td>\n",
       "      <td>48</td>\n",
       "      <td>31.5789</td>\n",
       "      <td>1.05921</td>\n",
       "      <td>67.7632</td>\n",
       "      <td>74.3421</td>\n",
       "    </tr>\n",
       "    <tr>\n",
       "      <th>16</th>\n",
       "      <td>Hull</td>\n",
       "      <td>76</td>\n",
       "      <td>43</td>\n",
       "      <td>61</td>\n",
       "      <td>70</td>\n",
       "      <td>131</td>\n",
       "      <td>17</td>\n",
       "      <td>22.3684</td>\n",
       "      <td>0.921053</td>\n",
       "      <td>56.5789</td>\n",
       "      <td>80.2632</td>\n",
       "    </tr>\n",
       "    <tr>\n",
       "      <th>17</th>\n",
       "      <td>Sunderland</td>\n",
       "      <td>112</td>\n",
       "      <td>63</td>\n",
       "      <td>87</td>\n",
       "      <td>106</td>\n",
       "      <td>183</td>\n",
       "      <td>21</td>\n",
       "      <td>18.75</td>\n",
       "      <td>0.946429</td>\n",
       "      <td>56.25</td>\n",
       "      <td>77.6786</td>\n",
       "    </tr>\n",
       "    <tr>\n",
       "      <th>18</th>\n",
       "      <td>Tottenham</td>\n",
       "      <td>144</td>\n",
       "      <td>123</td>\n",
       "      <td>90</td>\n",
       "      <td>281</td>\n",
       "      <td>131</td>\n",
       "      <td>90</td>\n",
       "      <td>62.5</td>\n",
       "      <td>1.95139</td>\n",
       "      <td>85.4167</td>\n",
       "      <td>62.5</td>\n",
       "    </tr>\n",
       "    <tr>\n",
       "      <th>19</th>\n",
       "      <td>Man City</td>\n",
       "      <td>154</td>\n",
       "      <td>140</td>\n",
       "      <td>86</td>\n",
       "      <td>387</td>\n",
       "      <td>126</td>\n",
       "      <td>112</td>\n",
       "      <td>72.7273</td>\n",
       "      <td>2.51299</td>\n",
       "      <td>90.9091</td>\n",
       "      <td>55.8442</td>\n",
       "    </tr>\n",
       "    <tr>\n",
       "      <th>20</th>\n",
       "      <td>Middlesbrough</td>\n",
       "      <td>38</td>\n",
       "      <td>20</td>\n",
       "      <td>27</td>\n",
       "      <td>27</td>\n",
       "      <td>53</td>\n",
       "      <td>5</td>\n",
       "      <td>13.1579</td>\n",
       "      <td>0.710526</td>\n",
       "      <td>52.6316</td>\n",
       "      <td>71.0526</td>\n",
       "    </tr>\n",
       "    <tr>\n",
       "      <th>21</th>\n",
       "      <td>Bournemouth</td>\n",
       "      <td>144</td>\n",
       "      <td>102</td>\n",
       "      <td>116</td>\n",
       "      <td>181</td>\n",
       "      <td>246</td>\n",
       "      <td>44</td>\n",
       "      <td>30.5556</td>\n",
       "      <td>1.25694</td>\n",
       "      <td>70.8333</td>\n",
       "      <td>80.5556</td>\n",
       "    </tr>\n",
       "    <tr>\n",
       "      <th>22</th>\n",
       "      <td>Watford</td>\n",
       "      <td>153</td>\n",
       "      <td>95</td>\n",
       "      <td>115</td>\n",
       "      <td>165</td>\n",
       "      <td>241</td>\n",
       "      <td>44</td>\n",
       "      <td>28.7582</td>\n",
       "      <td>1.07843</td>\n",
       "      <td>62.0915</td>\n",
       "      <td>75.1634</td>\n",
       "    </tr>\n",
       "    <tr>\n",
       "      <th>23</th>\n",
       "      <td>Fulham</td>\n",
       "      <td>16</td>\n",
       "      <td>9</td>\n",
       "      <td>16</td>\n",
       "      <td>16</td>\n",
       "      <td>40</td>\n",
       "      <td>2</td>\n",
       "      <td>12.5</td>\n",
       "      <td>1</td>\n",
       "      <td>56.25</td>\n",
       "      <td>100</td>\n",
       "    </tr>\n",
       "    <tr>\n",
       "      <th>24</th>\n",
       "      <td>Huddersfield</td>\n",
       "      <td>54</td>\n",
       "      <td>26</td>\n",
       "      <td>41</td>\n",
       "      <td>38</td>\n",
       "      <td>85</td>\n",
       "      <td>11</td>\n",
       "      <td>20.3704</td>\n",
       "      <td>0.703704</td>\n",
       "      <td>48.1481</td>\n",
       "      <td>75.9259</td>\n",
       "    </tr>\n",
       "    <tr>\n",
       "      <th>25</th>\n",
       "      <td>Wolves</td>\n",
       "      <td>40</td>\n",
       "      <td>32</td>\n",
       "      <td>30</td>\n",
       "      <td>48</td>\n",
       "      <td>49</td>\n",
       "      <td>12</td>\n",
       "      <td>30</td>\n",
       "      <td>1.2</td>\n",
       "      <td>80</td>\n",
       "      <td>75</td>\n",
       "    </tr>\n",
       "    <tr>\n",
       "      <th>26</th>\n",
       "      <td>Cardiff</td>\n",
       "      <td>16</td>\n",
       "      <td>9</td>\n",
       "      <td>13</td>\n",
       "      <td>15</td>\n",
       "      <td>30</td>\n",
       "      <td>4</td>\n",
       "      <td>25</td>\n",
       "      <td>0.9375</td>\n",
       "      <td>56.25</td>\n",
       "      <td>81.25</td>\n",
       "    </tr>\n",
       "    <tr>\n",
       "      <th>27</th>\n",
       "      <td>Brighton</td>\n",
       "      <td>66</td>\n",
       "      <td>40</td>\n",
       "      <td>51</td>\n",
       "      <td>64</td>\n",
       "      <td>94</td>\n",
       "      <td>17</td>\n",
       "      <td>25.7576</td>\n",
       "      <td>0.969697</td>\n",
       "      <td>60.6061</td>\n",
       "      <td>77.2727</td>\n",
       "    </tr>\n",
       "    <tr>\n",
       "      <th>28</th>\n",
       "      <td>Norwich</td>\n",
       "      <td>63</td>\n",
       "      <td>37</td>\n",
       "      <td>54</td>\n",
       "      <td>62</td>\n",
       "      <td>113</td>\n",
       "      <td>13</td>\n",
       "      <td>20.6349</td>\n",
       "      <td>0.984127</td>\n",
       "      <td>58.7302</td>\n",
       "      <td>85.7143</td>\n",
       "    </tr>\n",
       "    <tr>\n",
       "      <th>29</th>\n",
       "      <td>Sheffield United</td>\n",
       "      <td>26</td>\n",
       "      <td>19</td>\n",
       "      <td>17</td>\n",
       "      <td>28</td>\n",
       "      <td>24</td>\n",
       "      <td>10</td>\n",
       "      <td>38.4615</td>\n",
       "      <td>1.07692</td>\n",
       "      <td>73.0769</td>\n",
       "      <td>65.3846</td>\n",
       "    </tr>\n",
       "  </tbody>\n",
       "</table>\n",
       "</div>"
      ],
      "text/plain": [
       "                Team MatchPlayed GoalScoredInMatches GoalConcededInMatches  \\\n",
       "0            Arsenal         150                 130                    96   \n",
       "1          Leicester         194                 151                   137   \n",
       "2         Man United         146                 123                    87   \n",
       "3                QPR          38                  26                    32   \n",
       "4              Stoke         148                 105                   112   \n",
       "5          West Brom         150                  95                   108   \n",
       "6           West Ham         168                 128                   127   \n",
       "7          Liverpool         135                 119                    77   \n",
       "8          Newcastle         140                  89                   109   \n",
       "9            Burnley         156                  98                   111   \n",
       "10       Aston Villa          95                  57                    75   \n",
       "11           Chelsea         137                 120                    83   \n",
       "12    Crystal Palace         183                 114                   144   \n",
       "13           Everton         165                 124                   120   \n",
       "14       Southampton         177                 119                   124   \n",
       "15           Swansea         152                 103                   113   \n",
       "16              Hull          76                  43                    61   \n",
       "17        Sunderland         112                  63                    87   \n",
       "18         Tottenham         144                 123                    90   \n",
       "19          Man City         154                 140                    86   \n",
       "20     Middlesbrough          38                  20                    27   \n",
       "21       Bournemouth         144                 102                   116   \n",
       "22           Watford         153                  95                   115   \n",
       "23            Fulham          16                   9                    16   \n",
       "24      Huddersfield          54                  26                    41   \n",
       "25            Wolves          40                  32                    30   \n",
       "26           Cardiff          16                   9                    13   \n",
       "27          Brighton          66                  40                    51   \n",
       "28           Norwich          63                  37                    54   \n",
       "29  Sheffield United          26                  19                    17   \n",
       "\n",
       "   TotalGoalScored TotalGoalConceded Wins MatchWinRatio MatchGoalRatio  \\\n",
       "0              289               153   89       59.3333        1.92667   \n",
       "1              293               260   79       40.7216        1.51031   \n",
       "2              251               122   83       56.8493        1.71918   \n",
       "3               42                73    8       21.0526        1.10526   \n",
       "4              164               213   47       31.7568        1.10811   \n",
       "5              144               204   38       25.3333           0.96   \n",
       "6              226               261   53       31.5476        1.34524   \n",
       "7              276               130   90       66.6667        2.04444   \n",
       "8              145               219   37       26.4286        1.03571   \n",
       "9              148               218   45       28.8462       0.948718   \n",
       "10              87               175   19            20       0.915789   \n",
       "11             277               132   89       64.9635         2.0219   \n",
       "12             204               259   54       29.5082        1.11475   \n",
       "13             234               218   62       37.5758        1.41818   \n",
       "14             216               235   60       33.8983        1.22034   \n",
       "15             161               227   48       31.5789        1.05921   \n",
       "16              70               131   17       22.3684       0.921053   \n",
       "17             106               183   21         18.75       0.946429   \n",
       "18             281               131   90          62.5        1.95139   \n",
       "19             387               126  112       72.7273        2.51299   \n",
       "20              27                53    5       13.1579       0.710526   \n",
       "21             181               246   44       30.5556        1.25694   \n",
       "22             165               241   44       28.7582        1.07843   \n",
       "23              16                40    2          12.5              1   \n",
       "24              38                85   11       20.3704       0.703704   \n",
       "25              48                49   12            30            1.2   \n",
       "26              15                30    4            25         0.9375   \n",
       "27              64                94   17       25.7576       0.969697   \n",
       "28              62               113   13       20.6349       0.984127   \n",
       "29              28                24   10       38.4615        1.07692   \n",
       "\n",
       "   AttackingPerformance DefensivePerformance  \n",
       "0               86.6667                   64  \n",
       "1               77.8351              70.6186  \n",
       "2               84.2466               59.589  \n",
       "3               68.4211              84.2105  \n",
       "4               70.9459              75.6757  \n",
       "5               63.3333                   72  \n",
       "6               76.1905              75.5952  \n",
       "7               88.1481               57.037  \n",
       "8               63.5714              77.8571  \n",
       "9               62.8205              71.1538  \n",
       "10                   60              78.9474  \n",
       "11              87.5912              60.5839  \n",
       "12              62.2951              78.6885  \n",
       "13              75.1515              72.7273  \n",
       "14              67.2316              70.0565  \n",
       "15              67.7632              74.3421  \n",
       "16              56.5789              80.2632  \n",
       "17                56.25              77.6786  \n",
       "18              85.4167                 62.5  \n",
       "19              90.9091              55.8442  \n",
       "20              52.6316              71.0526  \n",
       "21              70.8333              80.5556  \n",
       "22              62.0915              75.1634  \n",
       "23                56.25                  100  \n",
       "24              48.1481              75.9259  \n",
       "25                   80                   75  \n",
       "26                56.25                81.25  \n",
       "27              60.6061              77.2727  \n",
       "28              58.7302              85.7143  \n",
       "29              73.0769              65.3846  "
      ]
     },
     "execution_count": 65,
     "metadata": {},
     "output_type": "execute_result"
    }
   ],
   "source": [
    "#Printing the dataset\n",
    "non_derby_goal_df"
   ]
  },
  {
   "cell_type": "markdown",
   "metadata": {},
   "source": [
    "### Top Defending Teams in Non Derby Matches\n",
    "For this Graph we will be using **DefensivePerformance** column, this column has the probability for a team to  conced a goal in a match, lower the probability means the teams is best at defending."
   ]
  },
  {
   "cell_type": "code",
   "execution_count": 66,
   "metadata": {},
   "outputs": [
    {
     "data": {
      "text/plain": [
       "Text(0.5, 1.0, 'Defensive Performance of a Team (Lower is better)')"
      ]
     },
     "execution_count": 66,
     "metadata": {},
     "output_type": "execute_result"
    },
    {
     "data": {
      "image/png": "[encoded data removed]",
      "text/plain": [
       "<Figure size 432x432 with 1 Axes>"
      ]
     },
     "metadata": {
      "needs_background": "light"
     },
     "output_type": "display_data"
    }
   ],
   "source": [
    "# we will using seaborn function catplot (categorical plot)\n",
    "\n",
    "#### parameter explanation\n",
    "# data = Dataframe (sort_values will sort the dataframe)\n",
    "# kind = the kind of plot that you want to plot, in this graph we will use \"bar\" for bar chart\n",
    "# x = X-axis variable \n",
    "# y = Y-axis variable\n",
    "# ci = \"sd\", it will draw the standard deviation of the observation (for error bars if any)\n",
    "# palette = \"Set2\", the color palette\n",
    "# height = the size of the graph\n",
    "\n",
    "g = sb.catplot(\n",
    "    data=non_derby_goal_df.sort_values(\"DefensivePerformance\"),\n",
    "    kind=\"bar\", x=\"DefensivePerformance\", y=\"Team\",\n",
    "    ci=\"sd\", palette=\"Set2\", height=6\n",
    ")\n",
    "# Remove the top and left spines from plot.\n",
    "g.despine(left=True)\n",
    "# X and y axis labels\n",
    "g.set_axis_labels(\"Probability of a team to concede a Goal in a match\", \"\")\n",
    "# title of the graph\n",
    "plt.title(\"Defensive Performance of a Team (Lower is better)\")"
   ]
  },
  {
   "cell_type": "markdown",
   "metadata": {},
   "source": [
    "### Top Attacking Teams in Non Derby Matches\n",
    "This graph will show the attacking performance of the team, I have computed this attacking performance of the team by taking the ratio of scored matched w.r.t total matches played, this shows the probability of a team to score a goal in a match."
   ]
  },
  {
   "cell_type": "code",
   "execution_count": 67,
   "metadata": {},
   "outputs": [
    {
     "data": {
      "text/plain": [
       "Text(0.5, 1.0, 'Attacking Performance of a Team (Higher is better)')"
      ]
     },
     "execution_count": 67,
     "metadata": {},
     "output_type": "execute_result"
    },
    {
     "data": {
      "image/png": "[encoded data removed]",
      "text/plain": [
       "<Figure size 432x432 with 1 Axes>"
      ]
     },
     "metadata": {
      "needs_background": "light"
     },
     "output_type": "display_data"
    }
   ],
   "source": [
    "# we will using seaborn function catplot (categorical plot)\n",
    "\n",
    "#### parameter explanation\n",
    "# data = Dataframe (sort_values will sort the dataframe)\n",
    "# kind = the kind of plot that you want to plot, in this graph we will use \"bar\" for bar chart\n",
    "# x = X-axis variable \n",
    "# y = Y-axis variable\n",
    "# ci = \"sd\", it will draw the standard deviation of the observation (for error bars if any)\n",
    "# palette = \"Set2\", the color palette\n",
    "# height = the size of the graph\n",
    "\n",
    "g = sb.catplot(\n",
    "    data=non_derby_goal_df.sort_values(\"AttackingPerformance\", ascending=False),\n",
    "    kind=\"bar\", x=\"AttackingPerformance\", y=\"Team\",\n",
    "    ci=\"sd\", palette=\"Set2\", height=6\n",
    ")\n",
    "# Remove the top and left spines from plot.\n",
    "# X and y axis labels\n",
    "# title of the graph\n",
    "g.despine(left=True)\n",
    "# X and y axis labels\n",
    "g.set_axis_labels(\"Probability of a team to score a Goal in a match\", \"\")\n",
    "# title of the graph\n",
    "plt.title(\"Attacking Performance of a Team (Higher is better)\")"
   ]
  },
  {
   "cell_type": "markdown",
   "metadata": {},
   "source": [
    "### Win Ratio of Team in Non Derby Matches\n",
    "This will tell us the ratio about how many games a team has played and how many games they won, by the help of this ratio we can figure out which team has the highest probability of wining a match."
   ]
  },
  {
   "cell_type": "code",
   "execution_count": 68,
   "metadata": {},
   "outputs": [
    {
     "data": {
      "text/plain": [
       "Text(0.5, 1.0, 'Wining Probability of a Match (Higher is better)')"
      ]
     },
     "execution_count": 68,
     "metadata": {},
     "output_type": "execute_result"
    },
    {
     "data": {
      "image/png": "[encoded data removed]",
      "text/plain": [
       "<Figure size 432x432 with 1 Axes>"
      ]
     },
     "metadata": {
      "needs_background": "light"
     },
     "output_type": "display_data"
    }
   ],
   "source": [
    "# we will using seaborn function catplot (categorical plot)\n",
    "\n",
    "#### parameter explanation\n",
    "# data = Dataframe (sort_values will sort the dataframe)\n",
    "# kind = the kind of plot that you want to plot, in this graph we will use \"bar\" for bar chart\n",
    "# x = X-axis variable \n",
    "# y = Y-axis variable\n",
    "# ci = \"sd\", it will draw the standard deviation of the observation (for error bars if any)\n",
    "# palette = \"Set2\", the color palette\n",
    "# height = the size of the graph\n",
    "\n",
    "g = sb.catplot(\n",
    "    data=non_derby_goal_df.sort_values(\"MatchWinRatio\", ascending=False),\n",
    "    kind=\"bar\", x=\"MatchWinRatio\", y=\"Team\",\n",
    "    ci=\"sd\", palette=\"Set2\", height=6\n",
    ")\n",
    "# Remove the top and left spines from plot.\n",
    "g.despine(left=True)\n",
    "# X and y axis labels\n",
    "g.set_axis_labels(\"Probability of a team to win a match\", \"\")\n",
    "# title of the graph\n",
    "plt.title(\"Wining Probability of a Match (Higher is better)\")"
   ]
  },
  {
   "cell_type": "markdown",
   "metadata": {},
   "source": [
    "### Average Goal Scored\n",
    "This graph will tell us the average number of goals scored by a team in a match, this number will vary from 0.5 - 2.0. If a team has a score of 0.5 it means that the team will score a single goal, or they will not score a goal in a match, if a team has score of 2.0 it means that the team will score 2 Goals in a game. "
   ]
  },
  {
   "cell_type": "code",
   "execution_count": 69,
   "metadata": {},
   "outputs": [
    {
     "data": {
      "text/plain": [
       "Text(0.5, 1.0, 'Average Number of Goals Scored by a Team in a Match (Higher is better)')"
      ]
     },
     "execution_count": 69,
     "metadata": {},
     "output_type": "execute_result"
    },
    {
     "data": {
      "image/png": "[encoded data removed]",
      "text/plain": [
       "<Figure size 432x432 with 1 Axes>"
      ]
     },
     "metadata": {
      "needs_background": "light"
     },
     "output_type": "display_data"
    }
   ],
   "source": [
    "# we will using seaborn function catplot (categorical plot)\n",
    "\n",
    "#### parameter explanation\n",
    "# data = Dataframe (sort_values will sort the dataframe)\n",
    "# kind = the kind of plot that you want to plot, in this graph we will use \"bar\" for bar chart\n",
    "# x = X-axis variable \n",
    "# y = Y-axis variable\n",
    "# ci = \"sd\", it will draw the standard deviation of the observation (for error bars if any)\n",
    "# palette = \"Set2\", the color palette\n",
    "# height = the size of the graph\n",
    "\n",
    "g = sb.catplot(\n",
    "    data=non_derby_goal_df.sort_values(\"MatchGoalRatio\", ascending=False),\n",
    "    kind=\"bar\", x=\"MatchGoalRatio\", y=\"Team\",\n",
    "    ci=\"sd\", palette=\"Set2\", height=6\n",
    ")\n",
    "# Remove the top and left spines from plot.\n",
    "g.despine(left=True)\n",
    "# X and y axis labels\n",
    "g.set_axis_labels(\"Average Number of Goals Scored\", \"\")\n",
    "# title of the graph\n",
    "plt.title(\"Average Number of Goals Scored by a Team in a Match (Higher is better)\")"
   ]
  },
  {
   "cell_type": "markdown",
   "metadata": {},
   "source": [
    "### Team Overall Performance In Premier League\n",
    "Now In this section we will going to look in the overall performance of teams in premier league, this will include all derby and non derby matches for a team."
   ]
  },
  {
   "cell_type": "markdown",
   "metadata": {},
   "source": [
    "From premier league dataset we will pick only 3 columns:\n",
    "\n",
    "- **HomeTeam**\n",
    "- **AwayTeam**\n",
    "- **Result**"
   ]
  },
  {
   "cell_type": "code",
   "execution_count": 70,
   "metadata": {},
   "outputs": [],
   "source": [
    "df = premier_league_df[[\"HomeTeam\", \"AwayTeam\", \"Result\"]].to_numpy()"
   ]
  },
  {
   "cell_type": "markdown",
   "metadata": {},
   "source": [
    "Now we will create a dataset to find the winning ratios of the team, in this dataset we will show the overall wining ratio in both Home and Away games.\n",
    "\n",
    "First we will just seed the Team column with the names of the team and all other columns will be seeded with 0 as a default value"
   ]
  },
  {
   "cell_type": "code",
   "execution_count": 71,
   "metadata": {},
   "outputs": [],
   "source": [
    "# Creating a new dataset for storing all teams data both for home and away games.\n",
    "overall_consistency_df = pd.DataFrame(columns=[\"Team\", \"MatchPlayed\", \"Wins\", \"MatchWinRatio\"])\n",
    "\n",
    "# Seeding team names in the new dataset, and other columns will be assigned as 0\n",
    "index = 0\n",
    "for name in club_names:\n",
    "    overall_consistency_df.at[index, \"Team\"] = name\n",
    "    overall_consistency_df.at[index, \"MatchPlayed\"] = 0\n",
    "    overall_consistency_df.at[index, \"Wins\"] = 0\n",
    "    overall_consistency_df.at[index, \"MatchWinRatio\"] = 0.0\n",
    "    index = index + 1"
   ]
  },
  {
   "cell_type": "markdown",
   "metadata": {},
   "source": [
    "Now we will do some computations and fillup the reamining columns in the dataset"
   ]
  },
  {
   "cell_type": "code",
   "execution_count": 72,
   "metadata": {},
   "outputs": [],
   "source": [
    "for data in df:\n",
    "#   Finding the index for home and away teams in the new dataset  \n",
    "    home_team_index = overall_consistency_df.index[overall_consistency_df[\"Team\"] == data[0]][0]\n",
    "    away_team_index = overall_consistency_df.index[overall_consistency_df[\"Team\"] == data[1]][0]\n",
    "    \n",
    "#   Appending the number of matches played for both home and away teams.  \n",
    "    overall_consistency_df.at[home_team_index, \"MatchPlayed\"] = overall_consistency_df[\"MatchPlayed\"][home_team_index] + 1\n",
    "    overall_consistency_df.at[away_team_index, \"MatchPlayed\"] = overall_consistency_df[\"MatchPlayed\"][away_team_index] + 1\n",
    "    \n",
    "#   Appending win for home team, if home team has won the match  \n",
    "    if data[2] == 'H':\n",
    "        overall_consistency_df.at[home_team_index, \"Wins\"] = overall_consistency_df[\"Wins\"][home_team_index] + 1\n",
    "\n",
    "#   Appending win for away team, if away team has won the match\n",
    "    elif data[2] == 'A':\n",
    "        overall_consistency_df.at[away_team_index, \"Wins\"] = overall_consistency_df[\"Wins\"][away_team_index] + 1\n"
   ]
  },
  {
   "cell_type": "markdown",
   "metadata": {},
   "source": [
    "Computing the match win ratio for a team."
   ]
  },
  {
   "cell_type": "code",
   "execution_count": 73,
   "metadata": {},
   "outputs": [],
   "source": [
    "#.itterrows() pandas function which will helps in the iteration of the dataset as rows.\n",
    "#.itterrows() will return 2 values, index of the row, the data of the row\n",
    "\n",
    "for index, data in overall_consistency_df.iterrows():\n",
    "#   assigning variable the particular column   \n",
    "\n",
    "    matches_played = data[1]\n",
    "    wins = data[2]\n",
    "\n",
    "#   Calculating ratios and saving them in the dataset.\n",
    "    win_ratio = wins / matches_played * 100\n",
    "\n",
    "#   .at[] function helps to store data at a specific point in the dataframe,\n",
    "#   we have to pass the index and column name\n",
    "    overall_consistency_df.at[index, \"MatchWinRatio\"] = win_ratio"
   ]
  },
  {
   "cell_type": "markdown",
   "metadata": {},
   "source": [
    "### Overall Win Ratio of Team\n",
    "This will tell us the ratio about how many games a team has played and how many games they won, by the help of this ratio we can figure out which team has the highest probability of wining a match."
   ]
  },
  {
   "cell_type": "code",
   "execution_count": 74,
   "metadata": {},
   "outputs": [
    {
     "data": {
      "text/plain": [
       "Text(0.5, 1.0, 'Wining Probability of a Match (Higher is better)')"
      ]
     },
     "execution_count": 74,
     "metadata": {},
     "output_type": "execute_result"
    },
    {
     "data": {
      "image/png": "[encoded data removed]",
      "text/plain": [
       "<Figure size 432x432 with 1 Axes>"
      ]
     },
     "metadata": {
      "needs_background": "light"
     },
     "output_type": "display_data"
    }
   ],
   "source": [
    "# we will using seaborn function catplot (categorical plot)\n",
    "\n",
    "#### parameter explanation\n",
    "# data = Dataframe (sort_values will sort the dataframe)\n",
    "# kind = the kind of plot that you want to plot, in this graph we will use \"bar\" for bar chart\n",
    "# x = X-axis variable \n",
    "# y = Y-axis variable\n",
    "# ci = \"sd\", it will draw the standard deviation of the observation (for error bars if any)\n",
    "# palette = \"Set2\", the color palette\n",
    "# height = the size of the graph\n",
    "\n",
    "g = sb.catplot(\n",
    "    data=overall_consistency_df.sort_values(\"MatchWinRatio\", ascending=False),\n",
    "    kind=\"bar\", x=\"MatchWinRatio\", y=\"Team\",\n",
    "    ci=\"sd\", palette=\"Set2\", height=6\n",
    ")\n",
    "# Remove the top and left spines from plot.\n",
    "g.despine(left=True)\n",
    "# X and y axis labels\n",
    "g.set_axis_labels(\"Probability of a team to win a match\", \"\")\n",
    "# title of the graph\n",
    "plt.title(\"Wining Probability of a Match (Higher is better)\")"
   ]
  },
  {
   "cell_type": "markdown",
   "metadata": {},
   "source": [
    "### Team Overall Performance In Home Matches\n",
    "Now In this section we will going to look in the overall performance of teams in Home matches, this will include all derby and non derby matches for a team."
   ]
  },
  {
   "cell_type": "markdown",
   "metadata": {},
   "source": [
    "From premier league dataset we will pick only 3 columns:\n",
    "\n",
    "- **HomeTeam**\n",
    "- **AwayTeam**\n",
    "- **Result**"
   ]
  },
  {
   "cell_type": "code",
   "execution_count": 75,
   "metadata": {},
   "outputs": [],
   "source": [
    "# Creating a new dataset for stroing home games information\n",
    "home_game_win_ratio_df = pd.DataFrame(columns=[\"Team\", \"MatchPlayed\", \"Wins\", \"MatchWinRatio\"])\n",
    "\n",
    "# Seeding team names in the new dataset, and other columns will be assigned as 0\n",
    "index = 0\n",
    "for name in club_names:\n",
    "    home_game_win_ratio_df.at[index, \"Team\"] = name\n",
    "    home_game_win_ratio_df.at[index, \"MatchPlayed\"] = 0\n",
    "    home_game_win_ratio_df.at[index, \"Wins\"] = 0\n",
    "    home_game_win_ratio_df.at[index, \"MatchWinRatio\"] = 0.0\n",
    "    index = index + 1"
   ]
  },
  {
   "cell_type": "code",
   "execution_count": 76,
   "metadata": {},
   "outputs": [],
   "source": [
    "for data in df:\n",
    "#   Index of home team in the new dataset\n",
    "    home_team_index = home_game_win_ratio_df.index[home_game_win_ratio_df[\"Team\"] == data[0]][0]\n",
    "\n",
    "#   Appending the matches played of the team\n",
    "    home_game_win_ratio_df.at[home_team_index, \"MatchPlayed\"] = home_game_win_ratio_df[\"MatchPlayed\"][home_team_index] + 1\n",
    "\n",
    "#   If home team had won the match appending the wins    \n",
    "    if data[2] == 'H':\n",
    "        home_game_win_ratio_df.at[home_team_index, \"Wins\"] = home_game_win_ratio_df[\"Wins\"][home_team_index] + 1"
   ]
  },
  {
   "cell_type": "markdown",
   "metadata": {},
   "source": [
    "Calculating the win ratio for a team in home matches"
   ]
  },
  {
   "cell_type": "code",
   "execution_count": 77,
   "metadata": {},
   "outputs": [],
   "source": [
    "#.itterrows() pandas function which will helps in the iteration of the dataset as rows.\n",
    "#.itterrows() will return 2 values, index of the row, the data of the row\n",
    "\n",
    "for index, data in home_game_win_ratio_df.iterrows():\n",
    "#   assigning variable the particular column   \n",
    "    matches_played = data[1]\n",
    "    wins = data[2]\n",
    "\n",
    "#   Calculating ratios and saving them in the dataset.\n",
    "    win_ratio = wins / matches_played * 100\n",
    "\n",
    "#   .at[] function helps to store data at a specific point in the dataframe,\n",
    "#   we have to pass the index and column name\n",
    "    home_game_win_ratio_df.at[index, \"MatchWinRatio\"] = win_ratio"
   ]
  },
  {
   "cell_type": "markdown",
   "metadata": {},
   "source": [
    "### Home Win Ratio of Team\n",
    "This will tell us the ratio about how many games a team has played and how many games they won, by the help of this ratio we can figure out which team has the highest probability of wining a match."
   ]
  },
  {
   "cell_type": "code",
   "execution_count": 78,
   "metadata": {},
   "outputs": [
    {
     "data": {
      "text/plain": [
       "Text(0.5, 1.0, 'Wining Probability of a Home Match (Higher is better)')"
      ]
     },
     "execution_count": 78,
     "metadata": {},
     "output_type": "execute_result"
    },
    {
     "data": {
      "image/png": "[encoded data removed]",
      "text/plain": [
       "<Figure size 432x432 with 1 Axes>"
      ]
     },
     "metadata": {
      "needs_background": "light"
     },
     "output_type": "display_data"
    }
   ],
   "source": [
    "# we will using seaborn function catplot (categorical plot)\n",
    "\n",
    "#### parameter explanation\n",
    "# data = Dataframe (sort_values will sort the dataframe)\n",
    "# kind = the kind of plot that you want to plot, in this graph we will use \"bar\" for bar chart\n",
    "# x = X-axis variable \n",
    "# y = Y-axis variable\n",
    "# ci = \"sd\", it will draw the standard deviation of the observation (for error bars if any)\n",
    "# palette = \"Set2\", the color palette\n",
    "# height = the size of the graph\n",
    "\n",
    "g = sb.catplot(\n",
    "    data=home_game_win_ratio_df.sort_values(\"MatchWinRatio\", ascending=False),\n",
    "    kind=\"bar\", x=\"MatchWinRatio\", y=\"Team\",\n",
    "    ci=\"sd\", palette=\"Set2\", height=6\n",
    ")\n",
    "# Remove the top and left spines from plot.\n",
    "g.despine(left=True)\n",
    "# X and y axis labels\n",
    "g.set_axis_labels(\"Probability of a team to win a match\", \"\")\n",
    "# title of the graph\n",
    "plt.title(\"Wining Probability of a Home Match (Higher is better)\")"
   ]
  },
  {
   "cell_type": "markdown",
   "metadata": {},
   "source": [
    "### Team Overall Performance In Away Matches\n",
    "Now In this section we will going to look in the overall performance of teams in Away matches, this will include all derby and non derby matches for a team."
   ]
  },
  {
   "cell_type": "markdown",
   "metadata": {},
   "source": [
    "From premier league dataset we will pick only 3 columns:\n",
    "\n",
    "- **HomeTeam**\n",
    "- **AwayTeam**\n",
    "- **Result**"
   ]
  },
  {
   "cell_type": "code",
   "execution_count": 79,
   "metadata": {},
   "outputs": [],
   "source": [
    "# Creating a new dataframe for storing away game information\n",
    "away_game_win_ratio_df = pd.DataFrame(columns=[\"Team\", \"MatchPlayed\", \"Wins\", \"MatchWinRatio\"])\n",
    "\n",
    "# Seeding team names in the new dataset, and other columns will be assigned as 0\n",
    "index = 0\n",
    "for name in club_names:\n",
    "    away_game_win_ratio_df.at[index, \"Team\"] = name\n",
    "    away_game_win_ratio_df.at[index, \"MatchPlayed\"] = 0\n",
    "    away_game_win_ratio_df.at[index, \"Wins\"] = 0\n",
    "    away_game_win_ratio_df.at[index, \"MatchWinRatio\"] = 0.0\n",
    "    index = index + 1"
   ]
  },
  {
   "cell_type": "code",
   "execution_count": 80,
   "metadata": {},
   "outputs": [],
   "source": [
    "for data in df:\n",
    "#   Getting the away team index in the new dataset  \n",
    "    away_team_index = away_game_win_ratio_df.index[away_game_win_ratio_df[\"Team\"] == data[1]][0]\n",
    "\n",
    "#   Appending the match played number for the away team  \n",
    "    away_game_win_ratio_df.at[away_team_index, \"MatchPlayed\"] = away_game_win_ratio_df[\"MatchPlayed\"][away_team_index] + 1\n",
    "    \n",
    "#   Appending the win cloumn if the team had won the match\n",
    "    if data[2] == 'A':\n",
    "        away_game_win_ratio_df.at[away_team_index, \"Wins\"] = away_game_win_ratio_df[\"Wins\"][away_team_index] + 1"
   ]
  },
  {
   "cell_type": "markdown",
   "metadata": {},
   "source": [
    "Calculating the win ratio for a team in home matches"
   ]
  },
  {
   "cell_type": "code",
   "execution_count": 81,
   "metadata": {},
   "outputs": [],
   "source": [
    "#.itterrows() pandas function which will helps in the iteration of the dataset as rows.\n",
    "#.itterrows() will return 2 values, index of the row, the data of the row\n",
    "\n",
    "for index, data in away_game_win_ratio_df.iterrows():\n",
    "#   assigning variable the particular column   \n",
    "    matches_played = data[1]\n",
    "    wins = data[2]\n",
    "    \n",
    "#   Calculating ratios and saving them in the dataset.\n",
    "    win_ratio = wins / matches_played * 100\n",
    "\n",
    "#   .at[] function helps to store data at a specific point in the dataframe,\n",
    "#   we have to pass the index and column name\n",
    "    away_game_win_ratio_df.at[index, \"MatchWinRatio\"] = win_ratio"
   ]
  },
  {
   "cell_type": "markdown",
   "metadata": {},
   "source": [
    "### Away Win Ratio of Team\n",
    "This will tell us the ratio about how many games a team has played and how many games they won, by the help of this ratio we can figure out which team has the highest probability of wining a match."
   ]
  },
  {
   "cell_type": "code",
   "execution_count": 82,
   "metadata": {},
   "outputs": [
    {
     "data": {
      "text/plain": [
       "Text(0.5, 1.0, 'Wining Probability of a Away Match (Higher is better)')"
      ]
     },
     "execution_count": 82,
     "metadata": {},
     "output_type": "execute_result"
    },
    {
     "data": {
      "image/png": "[encoded data removed]",
      "text/plain": [
       "<Figure size 432x432 with 1 Axes>"
      ]
     },
     "metadata": {
      "needs_background": "light"
     },
     "output_type": "display_data"
    }
   ],
   "source": [
    "# we will using seaborn function catplot (categorical plot)\n",
    "\n",
    "#### parameter explanation\n",
    "# data = Dataframe (sort_values will sort the dataframe)\n",
    "# kind = the kind of plot that you want to plot, in this graph we will use \"bar\" for bar chart\n",
    "# x = X-axis variable \n",
    "# y = Y-axis variable\n",
    "# ci = \"sd\", it will draw the standard deviation of the observation (for error bars if any)\n",
    "# palette = \"Set2\", the color palette\n",
    "# height = the size of the graph\n",
    "\n",
    "g = sb.catplot(\n",
    "    data=away_game_win_ratio_df.sort_values(\"MatchWinRatio\", ascending=False),\n",
    "    kind=\"bar\", x=\"MatchWinRatio\", y=\"Team\",\n",
    "    ci=\"sd\", palette=\"Set2\", height=6\n",
    ")\n",
    "# Remove the top and left spines from plot.\n",
    "g.despine(left=True)\n",
    "# X and y axis labels\n",
    "g.set_axis_labels(\"Probability of a team to win a match\", \"\")\n",
    "# title of the graph\n",
    "plt.title(\"Wining Probability of a Away Match (Higher is better)\")"
   ]
  },
  {
   "cell_type": "markdown",
   "metadata": {},
   "source": [
    "### Comparison of Two teams\n",
    "Now in this section I will compare two teams, one consistent team `Manchester City` and one in-consistent team `QRP(Queens Park Rangers)`."
   ]
  },
  {
   "cell_type": "markdown",
   "metadata": {},
   "source": [
    "### Overall Win Ratio of Teams\n",
    "In this graph we will visualize the overall win ratio of those 2 teams in premier league."
   ]
  },
  {
   "cell_type": "code",
   "execution_count": 83,
   "metadata": {},
   "outputs": [
    {
     "data": {
      "text/plain": [
       "Text(0.5, 1.0, 'Wining Probability of a Match (Higher is better)')"
      ]
     },
     "execution_count": 83,
     "metadata": {},
     "output_type": "execute_result"
    },
    {
     "data": {
      "image/png": "[encoded data removed]",
      "text/plain": [
       "<Figure size 360x360 with 1 Axes>"
      ]
     },
     "metadata": {
      "needs_background": "light"
     },
     "output_type": "display_data"
    }
   ],
   "source": [
    "g = sb.catplot(\n",
    "    data=overall_consistency_df[(overall_consistency_df[\"Team\"] == \"Man City\") | (overall_consistency_df[\"Team\"] == \"QPR\")]\n",
    "                               .sort_values(\"MatchWinRatio\", ascending=False),\n",
    "    kind=\"bar\", x=\"MatchWinRatio\", y=\"Team\",\n",
    "    ci=\"sd\", palette=\"Set2\", height=5\n",
    ")\n",
    "g.despine(left=True)\n",
    "g.set_axis_labels(\"Probability of a team to win a match\", \"\")\n",
    "plt.title(\"Wining Probability of a Match (Higher is better)\")"
   ]
  },
  {
   "cell_type": "markdown",
   "metadata": {},
   "source": [
    "### Home Win Ratio of Teams\n",
    "This will tell us the wining ratio of those 2 teams in Hom games."
   ]
  },
  {
   "cell_type": "code",
   "execution_count": 84,
   "metadata": {},
   "outputs": [
    {
     "data": {
      "text/plain": [
       "Text(0.5, 1.0, 'Wining Probability of a Home Match (Higher is better)')"
      ]
     },
     "execution_count": 84,
     "metadata": {},
     "output_type": "execute_result"
    },
    {
     "data": {
      "image/png": "[encoded data removed]",
      "text/plain": [
       "<Figure size 360x360 with 1 Axes>"
      ]
     },
     "metadata": {
      "needs_background": "light"
     },
     "output_type": "display_data"
    }
   ],
   "source": [
    "g = sb.catplot(\n",
    "    data=home_game_win_ratio_df[(overall_consistency_df[\"Team\"] == \"Man City\") | (overall_consistency_df[\"Team\"] == \"QPR\")]\n",
    "                                .sort_values(\"MatchWinRatio\", ascending=False),\n",
    "    kind=\"bar\", x=\"MatchWinRatio\", y=\"Team\",\n",
    "    ci=\"sd\", palette=\"Set2\", height=5\n",
    ")\n",
    "g.despine(left=True)\n",
    "g.set_axis_labels(\"Probability of a team to win a match\", \"\")\n",
    "plt.title(\"Wining Probability of a Home Match (Higher is better)\")"
   ]
  },
  {
   "cell_type": "markdown",
   "metadata": {},
   "source": [
    "### Away Win Ratio of Team\n",
    "This will tell us the wining ratio of teams in Away games"
   ]
  },
  {
   "cell_type": "code",
   "execution_count": 85,
   "metadata": {},
   "outputs": [
    {
     "data": {
      "text/plain": [
       "Text(0.5, 1.0, 'Wining Probability of a Away Match (Higher is better)')"
      ]
     },
     "execution_count": 85,
     "metadata": {},
     "output_type": "execute_result"
    },
    {
     "data": {
      "image/png": "[encoded data removed]",
      "text/plain": [
       "<Figure size 360x360 with 1 Axes>"
      ]
     },
     "metadata": {
      "needs_background": "light"
     },
     "output_type": "display_data"
    }
   ],
   "source": [
    "g = sb.catplot(\n",
    "    data=away_game_win_ratio_df[(overall_consistency_df[\"Team\"] == \"Man City\") | (overall_consistency_df[\"Team\"] == \"QPR\")]\n",
    "    .sort_values(\"MatchWinRatio\", ascending=False),\n",
    "    kind=\"bar\", x=\"MatchWinRatio\", y=\"Team\",\n",
    "    ci=\"sd\", palette=\"Set2\", height=5\n",
    ")\n",
    "g.despine(left=True)\n",
    "g.set_axis_labels(\"Probability of a team to win a match\", \"\")\n",
    "plt.title(\"Wining Probability of a Away Match (Higher is better)\")"
   ]
  }
 ],
 "metadata": {
  "kernelspec": {
   "display_name": "Python 3",
   "language": "python",
   "name": "python3"
  },
  "language_info": {
   "codemirror_mode": {
    "name": "ipython",
    "version": 3
   },
   "file_extension": ".py",
   "mimetype": "text/x-python",
   "name": "python",
   "nbconvert_exporter": "python",
   "pygments_lexer": "ipython3",
   "version": "3.8.5"
  }
 },
 "nbformat": 4,
 "nbformat_minor": 4
}
